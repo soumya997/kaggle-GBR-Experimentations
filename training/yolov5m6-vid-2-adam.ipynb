{
 "cells": [
  {
   "cell_type": "markdown",
   "metadata": {},
   "source": [
    "## Yolov5 high resolution training\n",
    "\n",
    "### Major modification\n",
    "* img=3600\n",
    "* mixup=0.5\n",
    "* fliplr: 0.5\n",
    "\n",
    "### Hardware to reproduce\n",
    "* RTX3090"
   ]
  },
  {
   "cell_type": "markdown",
   "metadata": {},
   "source": [
    "### Training Log:\n",
    "> ```\n",
    "version=1\n",
    "img_size:3584,bs2,e11,[yolov5s6] \n",
    "Fold: video2[validation]\n",
    "Labels: only GT\n",
    "```"
   ]
  },
  {
   "cell_type": "code",
   "execution_count": null,
   "metadata": {
    "execution": {
     "iopub.execute_input": "2022-02-11T22:53:12.917182Z",
     "iopub.status.busy": "2022-02-11T22:53:12.91626Z",
     "iopub.status.idle": "2022-02-11T22:53:13.626978Z",
     "shell.execute_reply": "2022-02-11T22:53:13.626226Z",
     "shell.execute_reply.started": "2022-02-11T22:53:12.917075Z"
    }
   },
   "outputs": [],
   "source": [
    "!nvidia-smi"
   ]
  },
  {
   "cell_type": "code",
   "execution_count": null,
   "metadata": {
    "_cell_guid": "b1076dfc-b9ad-4769-8c92-a6c4dae69d19",
    "_uuid": "8f2839f25d086af736a60e9eeb907d3b93b6e0e5",
    "execution": {
     "iopub.execute_input": "2022-02-11T22:53:13.63058Z",
     "iopub.status.busy": "2022-02-11T22:53:13.630362Z",
     "iopub.status.idle": "2022-02-11T22:53:13.634787Z",
     "shell.execute_reply": "2022-02-11T22:53:13.634121Z",
     "shell.execute_reply.started": "2022-02-11T22:53:13.630554Z"
    }
   },
   "outputs": [],
   "source": [
    "# This Python 3 environment comes with many helpful analytics libraries installed\n",
    "# It is defined by the kaggle/python Docker image: https://github.com/kaggle/docker-python\n",
    "# For example, here's several helpful packages to load\n",
    "\n",
    "import numpy as np # linear algebra\n",
    "import pandas as pd # data processing, CSV file I/O (e.g. pd.read_csv)\n",
    "from shutil import copyfile\n",
    "\n",
    "# Input data files are available in the read-only \"../input/\" directory\n",
    "# For example, running this (by clicking run or pressing Shift+Enter) will list all files under the input directory"
   ]
  },
  {
   "cell_type": "code",
   "execution_count": null,
   "metadata": {
    "execution": {
     "iopub.execute_input": "2022-02-11T22:53:13.636802Z",
     "iopub.status.busy": "2022-02-11T22:53:13.635937Z",
     "iopub.status.idle": "2022-02-11T22:53:13.645874Z",
     "shell.execute_reply": "2022-02-11T22:53:13.645175Z",
     "shell.execute_reply.started": "2022-02-11T22:53:13.636763Z"
    }
   },
   "outputs": [],
   "source": [
    "# train = pd.read_csv('../input/tensorflow-great-barrier-reef/train.csv')\n",
    "# train['pos'] = train.annotations != '[]'"
   ]
  },
  {
   "cell_type": "code",
   "execution_count": null,
   "metadata": {
    "execution": {
     "iopub.execute_input": "2022-02-11T22:53:13.64873Z",
     "iopub.status.busy": "2022-02-11T22:53:13.648137Z",
     "iopub.status.idle": "2022-02-11T22:53:14.098019Z",
     "shell.execute_reply": "2022-02-11T22:53:14.09731Z",
     "shell.execute_reply.started": "2022-02-11T22:53:13.64869Z"
    }
   },
   "outputs": [],
   "source": [
    "df = pd.read_csv(\"../input/tensorflow-great-barrier-reef/train.csv\")\n",
    "\n",
    "# Turn annotations from strings into lists of dictionaries\n",
    "df['annotations1'] = df['annotations'].apply(eval)\n",
    "\n",
    "# Create the image path for the row\n",
    "df['image_path'] = \"video_\" + df['video_id'].astype(str) + \"/\" + df['video_frame'].astype(str) + \".jpg\"\n",
    "\n",
    "length = lambda x: len(x) \n",
    "\n",
    "df[\"no_of_bbox\"] = df[\"annotations1\"].apply(length)\n",
    "\n",
    "df.head(5)"
   ]
  },
  {
   "cell_type": "code",
   "execution_count": null,
   "metadata": {
    "execution": {
     "iopub.execute_input": "2022-02-11T22:53:14.099539Z",
     "iopub.status.busy": "2022-02-11T22:53:14.099201Z",
     "iopub.status.idle": "2022-02-11T22:53:14.115671Z",
     "shell.execute_reply": "2022-02-11T22:53:14.114924Z",
     "shell.execute_reply.started": "2022-02-11T22:53:14.099492Z"
    }
   },
   "outputs": [],
   "source": [
    "val_df = df[df[\"video_id\"]==2][df[\"no_of_bbox\"]>0]\n",
    "val_df.shape"
   ]
  },
  {
   "cell_type": "code",
   "execution_count": null,
   "metadata": {
    "execution": {
     "iopub.execute_input": "2022-02-11T22:53:14.117625Z",
     "iopub.status.busy": "2022-02-11T22:53:14.117126Z",
     "iopub.status.idle": "2022-02-11T22:53:14.129226Z",
     "shell.execute_reply": "2022-02-11T22:53:14.128466Z",
     "shell.execute_reply.started": "2022-02-11T22:53:14.117588Z"
    }
   },
   "outputs": [],
   "source": [
    "train_df = df[df[\"video_id\"]!=2][df[\"no_of_bbox\"]>0]\n",
    "train_df.shape"
   ]
  },
  {
   "cell_type": "code",
   "execution_count": null,
   "metadata": {
    "execution": {
     "iopub.execute_input": "2022-02-11T22:53:14.131032Z",
     "iopub.status.busy": "2022-02-11T22:53:14.130586Z",
     "iopub.status.idle": "2022-02-11T22:53:16.717713Z",
     "shell.execute_reply": "2022-02-11T22:53:16.716702Z",
     "shell.execute_reply.started": "2022-02-11T22:53:14.130997Z"
    }
   },
   "outputs": [],
   "source": [
    "!mkdir -p ./yolo_data/fold2/images/val\n",
    "!mkdir -p ./yolo_data/fold2/images/train\n",
    "\n",
    "!mkdir -p ./yolo_data/fold2/labels/val\n",
    "!mkdir -p ./yolo_data/fold2/labels/train"
   ]
  },
  {
   "cell_type": "code",
   "execution_count": null,
   "metadata": {
    "execution": {
     "iopub.execute_input": "2022-02-11T22:53:16.720497Z",
     "iopub.status.busy": "2022-02-11T22:53:16.720249Z",
     "iopub.status.idle": "2022-02-11T22:53:24.857227Z",
     "shell.execute_reply": "2022-02-11T22:53:24.856411Z",
     "shell.execute_reply.started": "2022-02-11T22:53:16.720468Z"
    }
   },
   "outputs": [],
   "source": [
    "fold = 2\n",
    "\n",
    "annos = []\n",
    "for i, x in val_df.iterrows():\n",
    "#     if x.video_id == fold:\n",
    "#         if x.pos:\n",
    "    mode = 'val'\n",
    "#     else:\n",
    "#         # train\n",
    "#         mode = 'train'\n",
    "#         if not x.pos: continue\n",
    "        # val\n",
    "    copyfile(f'../input/tensorflow-great-barrier-reef/train_images/video_{x.video_id}/{x.video_frame}.jpg',\n",
    "                f'./yolo_data/fold{fold}/images/{mode}/{x.image_id}.jpg')\n",
    "#     if not x.pos:\n",
    "#         continue\n",
    "    r = ''\n",
    "    anno = eval(x.annotations)\n",
    "    for an in anno:\n",
    "#            annos.append(an)\n",
    "        r += '0 {} {} {} {}\\n'.format((an['x'] + an['width'] / 2) / 1280,\n",
    "                                        (an['y'] + an['height'] / 2) / 720,\n",
    "                                        an['width'] / 1280, an['height'] / 720)\n",
    "    with open(f'./yolo_data/fold{fold}/labels/{mode}/{x.image_id}.txt', 'w') as fp:\n",
    "        fp.write(r)"
   ]
  },
  {
   "cell_type": "code",
   "execution_count": null,
   "metadata": {
    "execution": {
     "iopub.execute_input": "2022-02-11T22:53:24.858792Z",
     "iopub.status.busy": "2022-02-11T22:53:24.858507Z",
     "iopub.status.idle": "2022-02-11T22:54:11.390758Z",
     "shell.execute_reply": "2022-02-11T22:54:11.389962Z",
     "shell.execute_reply.started": "2022-02-11T22:53:24.858746Z"
    }
   },
   "outputs": [],
   "source": [
    "fold = 2\n",
    "\n",
    "annos = []\n",
    "for i, x in train_df.iterrows():\n",
    "#     if x.video_id == fold:\n",
    "#         if x.pos:\n",
    "    mode = 'train'\n",
    "#     else:\n",
    "#         # train\n",
    "#         mode = 'train'\n",
    "#         if not x.pos: continue\n",
    "        # val\n",
    "    copyfile(f'../input/tensorflow-great-barrier-reef/train_images/video_{x.video_id}/{x.video_frame}.jpg',\n",
    "                f'./yolo_data/fold{fold}/images/{mode}/{x.image_id}.jpg')\n",
    "#     if not x.pos:\n",
    "#         continue\n",
    "    r = ''\n",
    "    anno = eval(x.annotations)\n",
    "    for an in anno:\n",
    "#            annos.append(an)\n",
    "        r += '0 {} {} {} {}\\n'.format((an['x'] + an['width'] / 2) / 1280,\n",
    "                                        (an['y'] + an['height'] / 2) / 720,\n",
    "                                        an['width'] / 1280, an['height'] / 720)\n",
    "    with open(f'./yolo_data/fold{fold}/labels/{mode}/{x.image_id}.txt', 'w') as fp:\n",
    "        fp.write(r)"
   ]
  },
  {
   "cell_type": "code",
   "execution_count": null,
   "metadata": {},
   "outputs": [],
   "source": []
  },
  {
   "cell_type": "code",
   "execution_count": null,
   "metadata": {
    "_kg_hide-input": true,
    "execution": {
     "iopub.execute_input": "2022-02-11T22:54:11.394338Z",
     "iopub.status.busy": "2022-02-11T22:54:11.393977Z",
     "iopub.status.idle": "2022-02-11T22:54:11.398346Z",
     "shell.execute_reply": "2022-02-11T22:54:11.397691Z",
     "shell.execute_reply.started": "2022-02-11T22:54:11.394299Z"
    }
   },
   "outputs": [],
   "source": [
    "# fold = 1\n",
    "\n",
    "# annos = []\n",
    "# for i, x in train.iterrows():\n",
    "#     if x.video_id == fold:\n",
    "#         if x.pos:\n",
    "#             mode = 'val'\n",
    "#     else:\n",
    "#         # train\n",
    "#         mode = 'train'\n",
    "#         if not x.pos: continue\n",
    "#         # val\n",
    "#     copyfile(f'../input/tensorflow-great-barrier-reef/train_images/video_{x.video_id}/{x.video_frame}.jpg',\n",
    "#                 f'./yolo_data/fold{fold}/images/{mode}/{x.image_id}.jpg')\n",
    "#     if not x.pos:\n",
    "#         continue\n",
    "#     r = ''\n",
    "#     anno = eval(x.annotations)\n",
    "#     for an in anno:\n",
    "# #            annos.append(an)\n",
    "#         r += '0 {} {} {} {}\\n'.format((an['x'] + an['width'] / 2) / 1280,\n",
    "#                                         (an['y'] + an['height'] / 2) / 720,\n",
    "#                                         an['width'] / 1280, an['height'] / 720)\n",
    "#     with open(f'./yolo_data/fold{fold}/labels/{mode}/{x.image_id}.txt', 'w') as fp:\n",
    "#         fp.write(r)"
   ]
  },
  {
   "cell_type": "code",
   "execution_count": null,
   "metadata": {
    "execution": {
     "iopub.execute_input": "2022-02-11T22:54:11.400118Z",
     "iopub.status.busy": "2022-02-11T22:54:11.399655Z",
     "iopub.status.idle": "2022-02-11T22:54:11.726158Z",
     "shell.execute_reply": "2022-02-11T22:54:11.725305Z",
     "shell.execute_reply.started": "2022-02-11T22:54:11.400083Z"
    }
   },
   "outputs": [],
   "source": [
    "import os\n",
    "len(os.listdir(\"./yolo_data/fold2/labels/train\"))"
   ]
  },
  {
   "cell_type": "code",
   "execution_count": null,
   "metadata": {
    "execution": {
     "iopub.execute_input": "2022-02-11T22:54:11.728632Z",
     "iopub.status.busy": "2022-02-11T22:54:11.727863Z",
     "iopub.status.idle": "2022-02-11T22:54:11.734899Z",
     "shell.execute_reply": "2022-02-11T22:54:11.73398Z",
     "shell.execute_reply.started": "2022-02-11T22:54:11.728589Z"
    }
   },
   "outputs": [],
   "source": [
    "hyps = '''\n",
    "# YOLOv5 by Ultralytics, GPL-3.0 license\n",
    "# Hyperparameters for COCO training from scratch\n",
    "# python train.py --batch 40 --cfg yolov5m.yaml --weights '' --data coco.yaml --img 640 --epochs 300\n",
    "# See tutorials for hyperparameter evolution https://github.com/ultralytics/yolov5#tutorials\n",
    "\n",
    "lr0: 0.001  # initial learning rate (SGD=1E-2, Adam=1E-3)\n",
    "lrf: 0.1  # final OneCycleLR learning rate (lr0 * lrf)\n",
    "momentum: 0.937  # SGD momentum/Adam beta1\n",
    "weight_decay: 0.0005  # optimizer weight decay 5e-4\n",
    "warmup_epochs: 3.0  # warmup epochs (fractions ok)\n",
    "warmup_momentum: 0.8  # warmup initial momentum\n",
    "warmup_bias_lr: 0.1  # warmup initial bias lr\n",
    "box: 0.05  # box loss gain\n",
    "cls: 0.5  # cls loss gain\n",
    "cls_pw: 1.0  # cls BCELoss positive_weight\n",
    "obj: 1.0  # obj loss gain (scale with pixels)\n",
    "obj_pw: 1.0  # obj BCELoss positive_weight\n",
    "iou_t: 0.20  # IoU training threshold\n",
    "anchor_t: 4.0  # anchor-multiple threshold\n",
    "# anchors: 3  # anchors per output layer (0 to ignore)\n",
    "fl_gamma: 0.0  # focal loss gamma (efficientDet default gamma=1.5)\n",
    "hsv_h: 0.015  # image HSV-Hue augmentation (fraction)\n",
    "hsv_s: 0.7  # image HSV-Saturation augmentation (fraction)\n",
    "hsv_v: 0.4  # image HSV-Value augmentation (fraction)\n",
    "degrees: 0.0  # image rotation (+/- deg)\n",
    "translate: 0.1  # image translation (+/- fraction)\n",
    "scale: 0.5  # image scale (+/- gain)\n",
    "shear: 0.0  # image shear (+/- deg)\n",
    "perspective: 0.0  # image perspective (+/- fraction), range 0-0.001\n",
    "flipud: 0.5  # image flip up-down (probability)\n",
    "fliplr: 0.5  # image flip left-right (probability)\n",
    "mosaic: 1.0  # image mosaic (probability)\n",
    "mixup: 0.5  # image mixup (probability)\n",
    "copy_paste: 0.0  # segment copy-paste (probability)\n",
    "'''"
   ]
  },
  {
   "cell_type": "code",
   "execution_count": null,
   "metadata": {
    "execution": {
     "iopub.execute_input": "2022-02-11T22:54:11.736555Z",
     "iopub.status.busy": "2022-02-11T22:54:11.736254Z",
     "iopub.status.idle": "2022-02-11T22:54:11.747107Z",
     "shell.execute_reply": "2022-02-11T22:54:11.746452Z",
     "shell.execute_reply.started": "2022-02-11T22:54:11.73652Z"
    }
   },
   "outputs": [],
   "source": [
    "data = '''\n",
    "# Train/val/test sets as 1) dir: path/to/imgs, 2) file: path/to/imgs.txt, or 3) list: [path/to/imgs1, path/to/imgs2, ..]\n",
    "\n",
    "path: ../yolo_data/fold2/  # dataset root dir\n",
    "train: images/train  # train images (relative to 'path') 128 images\n",
    "val: images/val  # val images (relative to 'path') 128 images\n",
    "test:  # test images (optional)\n",
    "\n",
    "# Classes\n",
    "nc: 1  # number of classes\n",
    "names: ['reef']  # class names\n",
    "\n",
    "\n",
    "# Download script/URL (optional)\n",
    "# download: https://ultralytics.com/assets/coco128.zip\n",
    "'''"
   ]
  },
  {
   "cell_type": "code",
   "execution_count": null,
   "metadata": {
    "execution": {
     "iopub.execute_input": "2022-02-11T22:54:11.748753Z",
     "iopub.status.busy": "2022-02-11T22:54:11.748472Z",
     "iopub.status.idle": "2022-02-11T22:54:14.98817Z",
     "shell.execute_reply": "2022-02-11T22:54:14.987225Z",
     "shell.execute_reply.started": "2022-02-11T22:54:11.748717Z"
    }
   },
   "outputs": [],
   "source": [
    "# !git clone https://github.com/ultralytics/yolov5.git\n",
    "!git clone https://github.com/soumya997/yolov5-w-f2-mod.git\n",
    "!mv ./yolov5-w-f2-mod ./yolov5"
   ]
  },
  {
   "cell_type": "code",
   "execution_count": null,
   "metadata": {
    "execution": {
     "iopub.execute_input": "2022-02-11T22:54:14.990173Z",
     "iopub.status.busy": "2022-02-11T22:54:14.989912Z",
     "iopub.status.idle": "2022-02-11T22:54:14.996213Z",
     "shell.execute_reply": "2022-02-11T22:54:14.995485Z",
     "shell.execute_reply.started": "2022-02-11T22:54:14.990137Z"
    }
   },
   "outputs": [],
   "source": [
    "with open('./yolov5/data/reef_f1_naive.yaml', 'w') as fp:\n",
    "    fp.write(data)\n",
    "with open('./yolov5/data/hyps/hyp.heavy.2.yaml', 'w') as fp:\n",
    "    fp.write(hyps)"
   ]
  },
  {
   "cell_type": "code",
   "execution_count": null,
   "metadata": {
    "execution": {
     "iopub.execute_input": "2022-02-11T22:54:14.997859Z",
     "iopub.status.busy": "2022-02-11T22:54:14.997542Z",
     "iopub.status.idle": "2022-02-11T22:54:15.007619Z",
     "shell.execute_reply": "2022-02-11T22:54:15.006891Z",
     "shell.execute_reply.started": "2022-02-11T22:54:14.997751Z"
    }
   },
   "outputs": [],
   "source": [
    "%cd yolov5"
   ]
  },
  {
   "cell_type": "code",
   "execution_count": null,
   "metadata": {
    "execution": {
     "iopub.execute_input": "2022-02-11T22:54:15.009253Z",
     "iopub.status.busy": "2022-02-11T22:54:15.008986Z",
     "iopub.status.idle": "2022-02-11T22:54:15.671098Z",
     "shell.execute_reply": "2022-02-11T22:54:15.670296Z",
     "shell.execute_reply.started": "2022-02-11T22:54:15.00922Z"
    }
   },
   "outputs": [],
   "source": [
    "!ls data/"
   ]
  },
  {
   "cell_type": "code",
   "execution_count": null,
   "metadata": {
    "execution": {
     "iopub.execute_input": "2022-02-11T22:54:15.673232Z",
     "iopub.status.busy": "2022-02-11T22:54:15.672941Z",
     "iopub.status.idle": "2022-02-11T23:08:16.23287Z",
     "shell.execute_reply": "2022-02-11T23:08:16.232013Z",
     "shell.execute_reply.started": "2022-02-11T22:54:15.673194Z"
    }
   },
   "outputs": [],
   "source": [
    "!python -m wandb disabled\n",
    "\n",
    "!python train.py \\\n",
    "    --img 3000 \\\n",
    "    --batch 2 \\\n",
    "    --epochs 11 \\\n",
    "    --optimizer Adam \\\n",
    "    --data data/reef_f1_naive.yaml \\\n",
    "    --weights yolov5m6.pt \\\n",
    "    --name base_vid_2val \\\n",
    "    --hyp data/hyps/hyp.heavy.2.yaml \\\n",
    "    --save-period 1"
   ]
  },
  {
   "cell_type": "code",
   "execution_count": null,
   "metadata": {
    "execution": {
     "iopub.execute_input": "2022-02-11T23:08:16.237833Z",
     "iopub.status.busy": "2022-02-11T23:08:16.237097Z",
     "iopub.status.idle": "2022-02-11T23:08:31.789432Z",
     "shell.execute_reply": "2022-02-11T23:08:31.788534Z",
     "shell.execute_reply.started": "2022-02-11T23:08:16.237795Z"
    }
   },
   "outputs": [],
   "source": [
    "# !python train.py "
   ]
  },
  {
   "cell_type": "code",
   "execution_count": null,
   "metadata": {
    "execution": {
     "iopub.execute_input": "2022-02-11T23:08:31.791013Z",
     "iopub.status.busy": "2022-02-11T23:08:31.790753Z",
     "iopub.status.idle": "2022-02-11T23:08:31.801148Z",
     "shell.execute_reply": "2022-02-11T23:08:31.80049Z",
     "shell.execute_reply.started": "2022-02-11T23:08:31.790979Z"
    }
   },
   "outputs": [],
   "source": [
    "# !python -m wandb disabled\n",
    "\n",
    "# !python train.py \\\n",
    "#     --img 3000 \\\n",
    "#     --batch 2 \\\n",
    "#     --epochs 11 \\\n",
    "#     --data data/reef_f1_naive.yaml \\\n",
    "#     --weights yolov5s6.pt \\\n",
    "#     --name cots_with_albs \\\n",
    "#     --hyp data/hyps/hyp.heavy.2.yaml \\\n",
    "#     --save-period 1"
   ]
  },
  {
   "cell_type": "code",
   "execution_count": null,
   "metadata": {
    "execution": {
     "iopub.execute_input": "2022-02-11T23:08:31.804359Z",
     "iopub.status.busy": "2022-02-11T23:08:31.802946Z",
     "iopub.status.idle": "2022-02-11T23:08:32.506668Z",
     "shell.execute_reply": "2022-02-11T23:08:32.505767Z",
     "shell.execute_reply.started": "2022-02-11T23:08:31.80431Z"
    }
   },
   "outputs": [],
   "source": [
    "!ls"
   ]
  },
  {
   "cell_type": "code",
   "execution_count": null,
   "metadata": {
    "execution": {
     "iopub.execute_input": "2022-02-11T23:08:32.510362Z",
     "iopub.status.busy": "2022-02-11T23:08:32.510118Z",
     "iopub.status.idle": "2022-02-11T23:08:36.461965Z",
     "shell.execute_reply": "2022-02-11T23:08:36.461115Z",
     "shell.execute_reply.started": "2022-02-11T23:08:32.510321Z"
    }
   },
   "outputs": [],
   "source": [
    "# %cd /kaggle/working\n",
    "\n",
    "# !cp -r /kaggle/working/yolov5/runs/train/base_vid_2val /kaggle/working\n",
    "\n",
    "# !cp /kaggle/working/yolov5/data/reef_f1_naive.yaml /kaggle/working/base_vid_2val/\n",
    "# !cp /kaggle/working/yolov5/data/hyps/hyp.heavy.2.yaml /kaggle/working/base_vid_2val/\n",
    "# # !cp /kaggle/working/yolov5/utils/augmentations.py /kaggle/working/base_vid_2val/\n",
    "\n",
    "# !rm -r /kaggle/working/yolov5\n",
    "# !rm -r /kaggle/working/images\n",
    "# !rm -r /kaggle/working/labels"
   ]
  }
 ],
 "metadata": {
  "kernelspec": {
   "display_name": "Python 3",
   "language": "python",
   "name": "python3"
  },
  "language_info": {
   "codemirror_mode": {
    "name": "ipython",
    "version": 3
   },
   "file_extension": ".py",
   "mimetype": "text/x-python",
   "name": "python",
   "nbconvert_exporter": "python",
   "pygments_lexer": "ipython3",
   "version": "3.7.3"
  }
 },
 "nbformat": 4,
 "nbformat_minor": 4
}
