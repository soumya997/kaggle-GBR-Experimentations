{
 "cells": [
  {
   "cell_type": "markdown",
   "id": "e7f100da",
   "metadata": {
    "papermill": {
     "duration": 0.031292,
     "end_time": "2022-02-11T19:17:35.051899",
     "exception": false,
     "start_time": "2022-02-11T19:17:35.020607",
     "status": "completed"
    },
    "tags": []
   },
   "source": [
    "## Yolov5 high resolution training\n",
    "\n",
    "### Major modification\n",
    "* img=3600\n",
    "* mixup=0.5\n",
    "* fliplr: 0.5\n",
    "\n",
    "### Hardware to reproduce\n",
    "* RTX3090"
   ]
  },
  {
   "cell_type": "markdown",
   "id": "8af20541",
   "metadata": {
    "papermill": {
     "duration": 0.023981,
     "end_time": "2022-02-11T19:17:35.108267",
     "exception": false,
     "start_time": "2022-02-11T19:17:35.084286",
     "status": "completed"
    },
    "tags": []
   },
   "source": [
    "### Training Log:\n",
    "> ```\n",
    "version=1\n",
    "img_size:3584,bs2,e11,[yolov5s6] \n",
    "Fold: video2[validation]\n",
    "Labels: only GT\n",
    "```"
   ]
  },
  {
   "cell_type": "code",
   "execution_count": 1,
   "id": "04ffb0a5",
   "metadata": {
    "execution": {
     "iopub.execute_input": "2022-02-11T19:17:35.175717Z",
     "iopub.status.busy": "2022-02-11T19:17:35.174799Z",
     "iopub.status.idle": "2022-02-11T19:17:35.956906Z",
     "shell.execute_reply": "2022-02-11T19:17:35.957457Z",
     "shell.execute_reply.started": "2022-02-11T18:31:13.264960Z"
    },
    "papermill": {
     "duration": 0.826672,
     "end_time": "2022-02-11T19:17:35.957731",
     "exception": false,
     "start_time": "2022-02-11T19:17:35.131059",
     "status": "completed"
    },
    "tags": []
   },
   "outputs": [
    {
     "name": "stdout",
     "output_type": "stream",
     "text": [
      "Fri Feb 11 19:17:35 2022       \n",
      "+-----------------------------------------------------------------------------+\n",
      "| NVIDIA-SMI 450.119.04   Driver Version: 450.119.04   CUDA Version: 11.0     |\n",
      "|-------------------------------+----------------------+----------------------+\n",
      "| GPU  Name        Persistence-M| Bus-Id        Disp.A | Volatile Uncorr. ECC |\n",
      "| Fan  Temp  Perf  Pwr:Usage/Cap|         Memory-Usage | GPU-Util  Compute M. |\n",
      "|                               |                      |               MIG M. |\n",
      "|===============================+======================+======================|\n",
      "|   0  Tesla P100-PCIE...  Off  | 00000000:00:04.0 Off |                    0 |\n",
      "| N/A   39C    P0    27W / 250W |      0MiB / 16280MiB |      0%      Default |\n",
      "|                               |                      |                  N/A |\n",
      "+-------------------------------+----------------------+----------------------+\n",
      "                                                                               \n",
      "+-----------------------------------------------------------------------------+\n",
      "| Processes:                                                                  |\n",
      "|  GPU   GI   CI        PID   Type   Process name                  GPU Memory |\n",
      "|        ID   ID                                                   Usage      |\n",
      "|=============================================================================|\n",
      "|  No running processes found                                                 |\n",
      "+-----------------------------------------------------------------------------+\n"
     ]
    }
   ],
   "source": [
    "!nvidia-smi"
   ]
  },
  {
   "cell_type": "code",
   "execution_count": 2,
   "id": "cca1cd74",
   "metadata": {
    "_cell_guid": "b1076dfc-b9ad-4769-8c92-a6c4dae69d19",
    "_uuid": "8f2839f25d086af736a60e9eeb907d3b93b6e0e5",
    "execution": {
     "iopub.execute_input": "2022-02-11T19:17:36.015872Z",
     "iopub.status.busy": "2022-02-11T19:17:36.015049Z",
     "iopub.status.idle": "2022-02-11T19:17:36.017243Z",
     "shell.execute_reply": "2022-02-11T19:17:36.017625Z",
     "shell.execute_reply.started": "2022-02-11T18:31:13.969063Z"
    },
    "papermill": {
     "duration": 0.033776,
     "end_time": "2022-02-11T19:17:36.017758",
     "exception": false,
     "start_time": "2022-02-11T19:17:35.983982",
     "status": "completed"
    },
    "tags": []
   },
   "outputs": [],
   "source": [
    "# This Python 3 environment comes with many helpful analytics libraries installed\n",
    "# It is defined by the kaggle/python Docker image: https://github.com/kaggle/docker-python\n",
    "# For example, here's several helpful packages to load\n",
    "\n",
    "import numpy as np # linear algebra\n",
    "import pandas as pd # data processing, CSV file I/O (e.g. pd.read_csv)\n",
    "from shutil import copyfile\n",
    "\n",
    "# Input data files are available in the read-only \"../input/\" directory\n",
    "# For example, running this (by clicking run or pressing Shift+Enter) will list all files under the input directory"
   ]
  },
  {
   "cell_type": "code",
   "execution_count": 3,
   "id": "def5879c",
   "metadata": {
    "execution": {
     "iopub.execute_input": "2022-02-11T19:17:36.072862Z",
     "iopub.status.busy": "2022-02-11T19:17:36.071523Z",
     "iopub.status.idle": "2022-02-11T19:17:36.075294Z",
     "shell.execute_reply": "2022-02-11T19:17:36.075781Z",
     "shell.execute_reply.started": "2022-02-11T18:31:13.975690Z"
    },
    "papermill": {
     "duration": 0.032044,
     "end_time": "2022-02-11T19:17:36.075997",
     "exception": false,
     "start_time": "2022-02-11T19:17:36.043953",
     "status": "completed"
    },
    "tags": []
   },
   "outputs": [],
   "source": [
    "# train = pd.read_csv('../input/tensorflow-great-barrier-reef/train.csv')\n",
    "# train['pos'] = train.annotations != '[]'"
   ]
  },
  {
   "cell_type": "code",
   "execution_count": 4,
   "id": "a3bc155d",
   "metadata": {
    "execution": {
     "iopub.execute_input": "2022-02-11T19:17:36.136233Z",
     "iopub.status.busy": "2022-02-11T19:17:36.135305Z",
     "iopub.status.idle": "2022-02-11T19:17:36.614459Z",
     "shell.execute_reply": "2022-02-11T19:17:36.614999Z",
     "shell.execute_reply.started": "2022-02-11T18:31:13.986458Z"
    },
    "papermill": {
     "duration": 0.511796,
     "end_time": "2022-02-11T19:17:36.615178",
     "exception": false,
     "start_time": "2022-02-11T19:17:36.103382",
     "status": "completed"
    },
    "tags": []
   },
   "outputs": [
    {
     "data": {
      "text/html": [
       "<div>\n",
       "<style scoped>\n",
       "    .dataframe tbody tr th:only-of-type {\n",
       "        vertical-align: middle;\n",
       "    }\n",
       "\n",
       "    .dataframe tbody tr th {\n",
       "        vertical-align: top;\n",
       "    }\n",
       "\n",
       "    .dataframe thead th {\n",
       "        text-align: right;\n",
       "    }\n",
       "</style>\n",
       "<table border=\"1\" class=\"dataframe\">\n",
       "  <thead>\n",
       "    <tr style=\"text-align: right;\">\n",
       "      <th></th>\n",
       "      <th>video_id</th>\n",
       "      <th>sequence</th>\n",
       "      <th>video_frame</th>\n",
       "      <th>sequence_frame</th>\n",
       "      <th>image_id</th>\n",
       "      <th>annotations</th>\n",
       "      <th>annotations1</th>\n",
       "      <th>image_path</th>\n",
       "      <th>no_of_bbox</th>\n",
       "    </tr>\n",
       "  </thead>\n",
       "  <tbody>\n",
       "    <tr>\n",
       "      <th>0</th>\n",
       "      <td>0</td>\n",
       "      <td>40258</td>\n",
       "      <td>0</td>\n",
       "      <td>0</td>\n",
       "      <td>0-0</td>\n",
       "      <td>[]</td>\n",
       "      <td>[]</td>\n",
       "      <td>video_0/0.jpg</td>\n",
       "      <td>0</td>\n",
       "    </tr>\n",
       "    <tr>\n",
       "      <th>1</th>\n",
       "      <td>0</td>\n",
       "      <td>40258</td>\n",
       "      <td>1</td>\n",
       "      <td>1</td>\n",
       "      <td>0-1</td>\n",
       "      <td>[]</td>\n",
       "      <td>[]</td>\n",
       "      <td>video_0/1.jpg</td>\n",
       "      <td>0</td>\n",
       "    </tr>\n",
       "    <tr>\n",
       "      <th>2</th>\n",
       "      <td>0</td>\n",
       "      <td>40258</td>\n",
       "      <td>2</td>\n",
       "      <td>2</td>\n",
       "      <td>0-2</td>\n",
       "      <td>[]</td>\n",
       "      <td>[]</td>\n",
       "      <td>video_0/2.jpg</td>\n",
       "      <td>0</td>\n",
       "    </tr>\n",
       "    <tr>\n",
       "      <th>3</th>\n",
       "      <td>0</td>\n",
       "      <td>40258</td>\n",
       "      <td>3</td>\n",
       "      <td>3</td>\n",
       "      <td>0-3</td>\n",
       "      <td>[]</td>\n",
       "      <td>[]</td>\n",
       "      <td>video_0/3.jpg</td>\n",
       "      <td>0</td>\n",
       "    </tr>\n",
       "    <tr>\n",
       "      <th>4</th>\n",
       "      <td>0</td>\n",
       "      <td>40258</td>\n",
       "      <td>4</td>\n",
       "      <td>4</td>\n",
       "      <td>0-4</td>\n",
       "      <td>[]</td>\n",
       "      <td>[]</td>\n",
       "      <td>video_0/4.jpg</td>\n",
       "      <td>0</td>\n",
       "    </tr>\n",
       "  </tbody>\n",
       "</table>\n",
       "</div>"
      ],
      "text/plain": [
       "   video_id  sequence  video_frame  sequence_frame image_id annotations  \\\n",
       "0         0     40258            0               0      0-0          []   \n",
       "1         0     40258            1               1      0-1          []   \n",
       "2         0     40258            2               2      0-2          []   \n",
       "3         0     40258            3               3      0-3          []   \n",
       "4         0     40258            4               4      0-4          []   \n",
       "\n",
       "  annotations1     image_path  no_of_bbox  \n",
       "0           []  video_0/0.jpg           0  \n",
       "1           []  video_0/1.jpg           0  \n",
       "2           []  video_0/2.jpg           0  \n",
       "3           []  video_0/3.jpg           0  \n",
       "4           []  video_0/4.jpg           0  "
      ]
     },
     "execution_count": 4,
     "metadata": {},
     "output_type": "execute_result"
    }
   ],
   "source": [
    "df = pd.read_csv(\"../input/tensorflow-great-barrier-reef/train.csv\")\n",
    "\n",
    "# Turn annotations from strings into lists of dictionaries\n",
    "df['annotations1'] = df['annotations'].apply(eval)\n",
    "\n",
    "# Create the image path for the row\n",
    "df['image_path'] = \"video_\" + df['video_id'].astype(str) + \"/\" + df['video_frame'].astype(str) + \".jpg\"\n",
    "\n",
    "length = lambda x: len(x) \n",
    "\n",
    "df[\"no_of_bbox\"] = df[\"annotations1\"].apply(length)\n",
    "\n",
    "df.head(5)"
   ]
  },
  {
   "cell_type": "code",
   "execution_count": 5,
   "id": "cfc68af4",
   "metadata": {
    "execution": {
     "iopub.execute_input": "2022-02-11T19:17:36.675087Z",
     "iopub.status.busy": "2022-02-11T19:17:36.674029Z",
     "iopub.status.idle": "2022-02-11T19:17:36.690418Z",
     "shell.execute_reply": "2022-02-11T19:17:36.691028Z",
     "shell.execute_reply.started": "2022-02-11T18:31:14.430583Z"
    },
    "papermill": {
     "duration": 0.049157,
     "end_time": "2022-02-11T19:17:36.691219",
     "exception": false,
     "start_time": "2022-02-11T19:17:36.642062",
     "status": "completed"
    },
    "tags": []
   },
   "outputs": [
    {
     "name": "stderr",
     "output_type": "stream",
     "text": [
      "/opt/conda/lib/python3.7/site-packages/ipykernel_launcher.py:1: UserWarning: Boolean Series key will be reindexed to match DataFrame index.\n",
      "  \"\"\"Entry point for launching an IPython kernel.\n"
     ]
    },
    {
     "data": {
      "text/plain": [
       "(677, 9)"
      ]
     },
     "execution_count": 5,
     "metadata": {},
     "output_type": "execute_result"
    }
   ],
   "source": [
    "val_df = df[df[\"video_id\"]==2][df[\"no_of_bbox\"]>0]\n",
    "val_df.shape"
   ]
  },
  {
   "cell_type": "code",
   "execution_count": 6,
   "id": "e2153f79",
   "metadata": {
    "execution": {
     "iopub.execute_input": "2022-02-11T19:17:36.752495Z",
     "iopub.status.busy": "2022-02-11T19:17:36.751411Z",
     "iopub.status.idle": "2022-02-11T19:17:36.761715Z",
     "shell.execute_reply": "2022-02-11T19:17:36.762346Z",
     "shell.execute_reply.started": "2022-02-11T18:31:14.447156Z"
    },
    "papermill": {
     "duration": 0.043862,
     "end_time": "2022-02-11T19:17:36.762535",
     "exception": false,
     "start_time": "2022-02-11T19:17:36.718673",
     "status": "completed"
    },
    "tags": []
   },
   "outputs": [
    {
     "name": "stderr",
     "output_type": "stream",
     "text": [
      "/opt/conda/lib/python3.7/site-packages/ipykernel_launcher.py:1: UserWarning: Boolean Series key will be reindexed to match DataFrame index.\n",
      "  \"\"\"Entry point for launching an IPython kernel.\n"
     ]
    },
    {
     "data": {
      "text/plain": [
       "(4242, 9)"
      ]
     },
     "execution_count": 6,
     "metadata": {},
     "output_type": "execute_result"
    }
   ],
   "source": [
    "train_df = df[df[\"video_id\"]!=2][df[\"no_of_bbox\"]>0]\n",
    "train_df.shape"
   ]
  },
  {
   "cell_type": "code",
   "execution_count": 7,
   "id": "dfc15e69",
   "metadata": {
    "execution": {
     "iopub.execute_input": "2022-02-11T19:17:36.833210Z",
     "iopub.status.busy": "2022-02-11T19:17:36.825901Z",
     "iopub.status.idle": "2022-02-11T19:17:39.625265Z",
     "shell.execute_reply": "2022-02-11T19:17:39.624751Z",
     "shell.execute_reply.started": "2022-02-11T18:31:14.459154Z"
    },
    "papermill": {
     "duration": 2.83472,
     "end_time": "2022-02-11T19:17:39.625406",
     "exception": false,
     "start_time": "2022-02-11T19:17:36.790686",
     "status": "completed"
    },
    "tags": []
   },
   "outputs": [],
   "source": [
    "!mkdir -p ./yolo_data/fold2/images/val\n",
    "!mkdir -p ./yolo_data/fold2/images/train\n",
    "\n",
    "!mkdir -p ./yolo_data/fold2/labels/val\n",
    "!mkdir -p ./yolo_data/fold2/labels/train"
   ]
  },
  {
   "cell_type": "code",
   "execution_count": 8,
   "id": "99eb9eee",
   "metadata": {
    "execution": {
     "iopub.execute_input": "2022-02-11T19:17:39.685591Z",
     "iopub.status.busy": "2022-02-11T19:17:39.685027Z",
     "iopub.status.idle": "2022-02-11T19:17:48.004359Z",
     "shell.execute_reply": "2022-02-11T19:17:48.005464Z",
     "shell.execute_reply.started": "2022-02-11T18:31:17.055707Z"
    },
    "papermill": {
     "duration": 8.354675,
     "end_time": "2022-02-11T19:17:48.005680",
     "exception": false,
     "start_time": "2022-02-11T19:17:39.651005",
     "status": "completed"
    },
    "tags": []
   },
   "outputs": [],
   "source": [
    "fold = 2\n",
    "\n",
    "annos = []\n",
    "for i, x in val_df.iterrows():\n",
    "#     if x.video_id == fold:\n",
    "#         if x.pos:\n",
    "    mode = 'val'\n",
    "#     else:\n",
    "#         # train\n",
    "#         mode = 'train'\n",
    "#         if not x.pos: continue\n",
    "        # val\n",
    "    copyfile(f'../input/tensorflow-great-barrier-reef/train_images/video_{x.video_id}/{x.video_frame}.jpg',\n",
    "                f'./yolo_data/fold{fold}/images/{mode}/{x.image_id}.jpg')\n",
    "#     if not x.pos:\n",
    "#         continue\n",
    "    r = ''\n",
    "    anno = eval(x.annotations)\n",
    "    for an in anno:\n",
    "#            annos.append(an)\n",
    "        r += '0 {} {} {} {}\\n'.format((an['x'] + an['width'] / 2) / 1280,\n",
    "                                        (an['y'] + an['height'] / 2) / 720,\n",
    "                                        an['width'] / 1280, an['height'] / 720)\n",
    "    with open(f'./yolo_data/fold{fold}/labels/{mode}/{x.image_id}.txt', 'w') as fp:\n",
    "        fp.write(r)"
   ]
  },
  {
   "cell_type": "code",
   "execution_count": 9,
   "id": "c47103d0",
   "metadata": {
    "execution": {
     "iopub.execute_input": "2022-02-11T19:17:48.097430Z",
     "iopub.status.busy": "2022-02-11T19:17:48.096557Z",
     "iopub.status.idle": "2022-02-11T19:18:32.950932Z",
     "shell.execute_reply": "2022-02-11T19:18:32.950439Z",
     "shell.execute_reply.started": "2022-02-11T18:31:26.913731Z"
    },
    "papermill": {
     "duration": 44.903918,
     "end_time": "2022-02-11T19:18:32.951102",
     "exception": false,
     "start_time": "2022-02-11T19:17:48.047184",
     "status": "completed"
    },
    "tags": []
   },
   "outputs": [],
   "source": [
    "fold = 2\n",
    "\n",
    "annos = []\n",
    "for i, x in train_df.iterrows():\n",
    "#     if x.video_id == fold:\n",
    "#         if x.pos:\n",
    "    mode = 'train'\n",
    "#     else:\n",
    "#         # train\n",
    "#         mode = 'train'\n",
    "#         if not x.pos: continue\n",
    "        # val\n",
    "    copyfile(f'../input/tensorflow-great-barrier-reef/train_images/video_{x.video_id}/{x.video_frame}.jpg',\n",
    "                f'./yolo_data/fold{fold}/images/{mode}/{x.image_id}.jpg')\n",
    "#     if not x.pos:\n",
    "#         continue\n",
    "    r = ''\n",
    "    anno = eval(x.annotations)\n",
    "    for an in anno:\n",
    "#            annos.append(an)\n",
    "        r += '0 {} {} {} {}\\n'.format((an['x'] + an['width'] / 2) / 1280,\n",
    "                                        (an['y'] + an['height'] / 2) / 720,\n",
    "                                        an['width'] / 1280, an['height'] / 720)\n",
    "    with open(f'./yolo_data/fold{fold}/labels/{mode}/{x.image_id}.txt', 'w') as fp:\n",
    "        fp.write(r)"
   ]
  },
  {
   "cell_type": "code",
   "execution_count": null,
   "id": "6fe32813",
   "metadata": {
    "papermill": {
     "duration": 0.025186,
     "end_time": "2022-02-11T19:18:33.001765",
     "exception": false,
     "start_time": "2022-02-11T19:18:32.976579",
     "status": "completed"
    },
    "tags": []
   },
   "outputs": [],
   "source": []
  },
  {
   "cell_type": "code",
   "execution_count": 10,
   "id": "aab48382",
   "metadata": {
    "_kg_hide-input": true,
    "execution": {
     "iopub.execute_input": "2022-02-11T19:18:33.055963Z",
     "iopub.status.busy": "2022-02-11T19:18:33.055262Z",
     "iopub.status.idle": "2022-02-11T19:18:33.057928Z",
     "shell.execute_reply": "2022-02-11T19:18:33.057514Z",
     "shell.execute_reply.started": "2022-02-11T18:32:15.836441Z"
    },
    "papermill": {
     "duration": 0.031624,
     "end_time": "2022-02-11T19:18:33.058065",
     "exception": false,
     "start_time": "2022-02-11T19:18:33.026441",
     "status": "completed"
    },
    "tags": []
   },
   "outputs": [],
   "source": [
    "# fold = 1\n",
    "\n",
    "# annos = []\n",
    "# for i, x in train.iterrows():\n",
    "#     if x.video_id == fold:\n",
    "#         if x.pos:\n",
    "#             mode = 'val'\n",
    "#     else:\n",
    "#         # train\n",
    "#         mode = 'train'\n",
    "#         if not x.pos: continue\n",
    "#         # val\n",
    "#     copyfile(f'../input/tensorflow-great-barrier-reef/train_images/video_{x.video_id}/{x.video_frame}.jpg',\n",
    "#                 f'./yolo_data/fold{fold}/images/{mode}/{x.image_id}.jpg')\n",
    "#     if not x.pos:\n",
    "#         continue\n",
    "#     r = ''\n",
    "#     anno = eval(x.annotations)\n",
    "#     for an in anno:\n",
    "# #            annos.append(an)\n",
    "#         r += '0 {} {} {} {}\\n'.format((an['x'] + an['width'] / 2) / 1280,\n",
    "#                                         (an['y'] + an['height'] / 2) / 720,\n",
    "#                                         an['width'] / 1280, an['height'] / 720)\n",
    "#     with open(f'./yolo_data/fold{fold}/labels/{mode}/{x.image_id}.txt', 'w') as fp:\n",
    "#         fp.write(r)"
   ]
  },
  {
   "cell_type": "code",
   "execution_count": 11,
   "id": "d7a8b494",
   "metadata": {
    "execution": {
     "iopub.execute_input": "2022-02-11T19:18:33.111764Z",
     "iopub.status.busy": "2022-02-11T19:18:33.110981Z",
     "iopub.status.idle": "2022-02-11T19:18:33.118004Z",
     "shell.execute_reply": "2022-02-11T19:18:33.118414Z",
     "shell.execute_reply.started": "2022-02-11T18:32:15.842851Z"
    },
    "papermill": {
     "duration": 0.035499,
     "end_time": "2022-02-11T19:18:33.118552",
     "exception": false,
     "start_time": "2022-02-11T19:18:33.083053",
     "status": "completed"
    },
    "tags": []
   },
   "outputs": [
    {
     "data": {
      "text/plain": [
       "4242"
      ]
     },
     "execution_count": 11,
     "metadata": {},
     "output_type": "execute_result"
    }
   ],
   "source": [
    "import os\n",
    "len(os.listdir(\"./yolo_data/fold2/labels/train\"))"
   ]
  },
  {
   "cell_type": "code",
   "execution_count": 12,
   "id": "9905c676",
   "metadata": {
    "execution": {
     "iopub.execute_input": "2022-02-11T19:18:33.176596Z",
     "iopub.status.busy": "2022-02-11T19:18:33.175699Z",
     "iopub.status.idle": "2022-02-11T19:18:33.177508Z",
     "shell.execute_reply": "2022-02-11T19:18:33.177964Z",
     "shell.execute_reply.started": "2022-02-11T18:32:15.860437Z"
    },
    "papermill": {
     "duration": 0.033231,
     "end_time": "2022-02-11T19:18:33.178103",
     "exception": false,
     "start_time": "2022-02-11T19:18:33.144872",
     "status": "completed"
    },
    "tags": []
   },
   "outputs": [],
   "source": [
    "hyps = '''\n",
    "# YOLOv5 by Ultralytics, GPL-3.0 license\n",
    "# Hyperparameters for COCO training from scratch\n",
    "# python train.py --batch 40 --cfg yolov5m.yaml --weights '' --data coco.yaml --img 640 --epochs 300\n",
    "# See tutorials for hyperparameter evolution https://github.com/ultralytics/yolov5#tutorials\n",
    "\n",
    "lr0: 0.01  # initial learning rate (SGD=1E-2, Adam=1E-3)\n",
    "lrf: 0.1  # final OneCycleLR learning rate (lr0 * lrf)\n",
    "momentum: 0.937  # SGD momentum/Adam beta1\n",
    "weight_decay: 0.0005  # optimizer weight decay 5e-4\n",
    "warmup_epochs: 3.0  # warmup epochs (fractions ok)\n",
    "warmup_momentum: 0.8  # warmup initial momentum\n",
    "warmup_bias_lr: 0.1  # warmup initial bias lr\n",
    "box: 0.05  # box loss gain\n",
    "cls: 0.5  # cls loss gain\n",
    "cls_pw: 1.0  # cls BCELoss positive_weight\n",
    "obj: 1.0  # obj loss gain (scale with pixels)\n",
    "obj_pw: 1.0  # obj BCELoss positive_weight\n",
    "iou_t: 0.20  # IoU training threshold\n",
    "anchor_t: 4.0  # anchor-multiple threshold\n",
    "# anchors: 3  # anchors per output layer (0 to ignore)\n",
    "fl_gamma: 0.0  # focal loss gamma (efficientDet default gamma=1.5)\n",
    "hsv_h: 0.015  # image HSV-Hue augmentation (fraction)\n",
    "hsv_s: 0.7  # image HSV-Saturation augmentation (fraction)\n",
    "hsv_v: 0.4  # image HSV-Value augmentation (fraction)\n",
    "degrees: 0.0  # image rotation (+/- deg)\n",
    "translate: 0.1  # image translation (+/- fraction)\n",
    "scale: 0.5  # image scale (+/- gain)\n",
    "shear: 0.0  # image shear (+/- deg)\n",
    "perspective: 0.0  # image perspective (+/- fraction), range 0-0.001\n",
    "flipud: 0.5  # image flip up-down (probability)\n",
    "fliplr: 0.5  # image flip left-right (probability)\n",
    "mosaic: 1.0  # image mosaic (probability)\n",
    "mixup: 0.5  # image mixup (probability)\n",
    "copy_paste: 0.0  # segment copy-paste (probability)\n",
    "'''"
   ]
  },
  {
   "cell_type": "code",
   "execution_count": 13,
   "id": "290e9433",
   "metadata": {
    "execution": {
     "iopub.execute_input": "2022-02-11T19:18:33.233428Z",
     "iopub.status.busy": "2022-02-11T19:18:33.232843Z",
     "iopub.status.idle": "2022-02-11T19:18:33.236706Z",
     "shell.execute_reply": "2022-02-11T19:18:33.236242Z",
     "shell.execute_reply.started": "2022-02-11T18:32:15.869808Z"
    },
    "papermill": {
     "duration": 0.033854,
     "end_time": "2022-02-11T19:18:33.236836",
     "exception": false,
     "start_time": "2022-02-11T19:18:33.202982",
     "status": "completed"
    },
    "tags": []
   },
   "outputs": [],
   "source": [
    "data = '''\n",
    "# Train/val/test sets as 1) dir: path/to/imgs, 2) file: path/to/imgs.txt, or 3) list: [path/to/imgs1, path/to/imgs2, ..]\n",
    "\n",
    "path: ../yolo_data/fold2/  # dataset root dir\n",
    "train: images/train  # train images (relative to 'path') 128 images\n",
    "val: images/val  # val images (relative to 'path') 128 images\n",
    "test:  # test images (optional)\n",
    "\n",
    "# Classes\n",
    "nc: 1  # number of classes\n",
    "names: ['reef']  # class names\n",
    "\n",
    "\n",
    "# Download script/URL (optional)\n",
    "# download: https://ultralytics.com/assets/coco128.zip\n",
    "'''"
   ]
  },
  {
   "cell_type": "code",
   "execution_count": 14,
   "id": "64a389ed",
   "metadata": {
    "execution": {
     "iopub.execute_input": "2022-02-11T19:18:33.293910Z",
     "iopub.status.busy": "2022-02-11T19:18:33.293192Z",
     "iopub.status.idle": "2022-02-11T19:18:52.800073Z",
     "shell.execute_reply": "2022-02-11T19:18:52.798723Z",
     "shell.execute_reply.started": "2022-02-11T18:39:31.979332Z"
    },
    "papermill": {
     "duration": 19.537675,
     "end_time": "2022-02-11T19:18:52.800270",
     "exception": false,
     "start_time": "2022-02-11T19:18:33.262595",
     "status": "completed"
    },
    "tags": []
   },
   "outputs": [],
   "source": [
    "!mkdir /kaggle/working/yolov5\n",
    "!cp -a ../input/yolov5m6try1-video-foldvid-id2img3ke11bs2/yolov5/. /kaggle/working/yolov5"
   ]
  },
  {
   "cell_type": "code",
   "execution_count": 15,
   "id": "5149400e",
   "metadata": {
    "execution": {
     "iopub.execute_input": "2022-02-11T19:18:52.893718Z",
     "iopub.status.busy": "2022-02-11T19:18:52.892807Z",
     "iopub.status.idle": "2022-02-11T19:18:52.895175Z",
     "shell.execute_reply": "2022-02-11T19:18:52.894522Z",
     "shell.execute_reply.started": "2022-02-11T18:32:36.769546Z"
    },
    "papermill": {
     "duration": 0.049721,
     "end_time": "2022-02-11T19:18:52.895331",
     "exception": false,
     "start_time": "2022-02-11T19:18:52.845610",
     "status": "completed"
    },
    "tags": []
   },
   "outputs": [],
   "source": [
    "# !git clone https://github.com/ultralytics/yolov5.git"
   ]
  },
  {
   "cell_type": "code",
   "execution_count": 16,
   "id": "528d9553",
   "metadata": {
    "execution": {
     "iopub.execute_input": "2022-02-11T19:18:52.984852Z",
     "iopub.status.busy": "2022-02-11T19:18:52.983966Z",
     "iopub.status.idle": "2022-02-11T19:18:52.986295Z",
     "shell.execute_reply": "2022-02-11T19:18:52.985613Z",
     "shell.execute_reply.started": "2022-02-11T18:39:46.287595Z"
    },
    "papermill": {
     "duration": 0.051204,
     "end_time": "2022-02-11T19:18:52.986453",
     "exception": false,
     "start_time": "2022-02-11T19:18:52.935249",
     "status": "completed"
    },
    "tags": []
   },
   "outputs": [],
   "source": [
    "with open('./yolov5/data/reef_f1_naive.yaml', 'w') as fp:\n",
    "    fp.write(data)\n",
    "with open('./yolov5/data/hyps/hyp.heavy.2.yaml', 'w') as fp:\n",
    "    fp.write(hyps)"
   ]
  },
  {
   "cell_type": "code",
   "execution_count": 17,
   "id": "16516911",
   "metadata": {
    "execution": {
     "iopub.execute_input": "2022-02-11T19:18:53.080040Z",
     "iopub.status.busy": "2022-02-11T19:18:53.079182Z",
     "iopub.status.idle": "2022-02-11T19:18:53.082611Z",
     "shell.execute_reply": "2022-02-11T19:18:53.080733Z",
     "shell.execute_reply.started": "2022-02-11T18:39:48.442560Z"
    },
    "papermill": {
     "duration": 0.053455,
     "end_time": "2022-02-11T19:18:53.082778",
     "exception": false,
     "start_time": "2022-02-11T19:18:53.029323",
     "status": "completed"
    },
    "tags": []
   },
   "outputs": [
    {
     "name": "stdout",
     "output_type": "stream",
     "text": [
      "/kaggle/working/yolov5\n"
     ]
    }
   ],
   "source": [
    "%cd yolov5"
   ]
  },
  {
   "cell_type": "code",
   "execution_count": 18,
   "id": "62ec8077",
   "metadata": {
    "execution": {
     "iopub.execute_input": "2022-02-11T19:18:53.180032Z",
     "iopub.status.busy": "2022-02-11T19:18:53.179183Z",
     "iopub.status.idle": "2022-02-11T19:18:53.844656Z",
     "shell.execute_reply": "2022-02-11T19:18:53.843612Z",
     "shell.execute_reply.started": "2022-02-11T18:39:50.203214Z"
    },
    "papermill": {
     "duration": 0.720284,
     "end_time": "2022-02-11T19:18:53.844859",
     "exception": false,
     "start_time": "2022-02-11T19:18:53.124575",
     "status": "completed"
    },
    "tags": []
   },
   "outputs": [
    {
     "name": "stdout",
     "output_type": "stream",
     "text": [
      "Argoverse.yaml\t      VOC.yaml\t     hyps\t\t xView.yaml\n",
      "GlobalWheat2020.yaml  VisDrone.yaml  images\n",
      "Objects365.yaml       coco.yaml      reef_f1_naive.yaml\n",
      "SKU-110K.yaml\t      coco128.yaml   scripts\n"
     ]
    }
   ],
   "source": [
    "!ls data/"
   ]
  },
  {
   "cell_type": "code",
   "execution_count": 19,
   "id": "913f5710",
   "metadata": {
    "execution": {
     "iopub.execute_input": "2022-02-11T19:18:53.947935Z",
     "iopub.status.busy": "2022-02-11T19:18:53.947044Z",
     "iopub.status.idle": "2022-02-12T01:23:04.878133Z",
     "shell.execute_reply": "2022-02-12T01:23:04.877638Z",
     "shell.execute_reply.started": "2022-02-11T18:41:42.390099Z"
    },
    "papermill": {
     "duration": 21850.989108,
     "end_time": "2022-02-12T01:23:04.878279",
     "exception": false,
     "start_time": "2022-02-11T19:18:53.889171",
     "status": "completed"
    },
    "tags": []
   },
   "outputs": [
    {
     "name": "stdout",
     "output_type": "stream",
     "text": [
      "W&B disabled.\n",
      "\u001b[34m\u001b[1mtrain: \u001b[0mScanning '../yolo_data/fold2/labels/train' images and labels...4242 found\u001b[0m\n",
      "\u001b[34m\u001b[1mval: \u001b[0mScanning '../yolo_data/fold2/labels/val' images and labels...677 found, 0 m\u001b[0m\n",
      "      7/10     14.6G     0.031   0.04609         0         8      3008: 100%|███\n",
      "               Class     Images     Labels          P          R         F2     \n",
      "      8/10     15.7G   0.02945   0.04369         0         2      3008: 100%|███\n",
      "               Class     Images     Labels          P          R         F2     \n",
      "      9/10     15.7G   0.02851   0.04376         0         2      3008: 100%|███\n",
      "               Class     Images     Labels          P          R         F2     \n",
      "     10/10     15.7G   0.02715   0.04193         0         4      3008: 100%|███\n",
      "               Class     Images     Labels          P          R         F2     \n",
      "               Class     Images     Labels          P          R         F2     \n",
      "Exception ignored in: <function _MultiProcessingDataLoaderIter.__del__ at 0x7fcd0432a050>\n",
      "Traceback (most recent call last):\n",
      "  File \"/opt/conda/lib/python3.7/site-packages/torch/utils/data/dataloader.py\", line 1328, in __del__\n",
      "  File \"/opt/conda/lib/python3.7/site-packages/torch/utils/data/dataloader.py\", line 1262, in _shutdown_workers\n",
      "AttributeError: 'NoneType' object has no attribute 'python_exit_status'\n",
      "Exception ignored in: <function _MultiProcessingDataLoaderIter.__del__ at 0x7fcd0432a050>\n",
      "Traceback (most recent call last):\n",
      "  File \"/opt/conda/lib/python3.7/site-packages/torch/utils/data/dataloader.py\", line 1328, in __del__\n",
      "  File \"/opt/conda/lib/python3.7/site-packages/torch/utils/data/dataloader.py\", line 1262, in _shutdown_workers\n",
      "AttributeError: 'NoneType' object has no attribute 'python_exit_status'\n"
     ]
    }
   ],
   "source": [
    "!python -m wandb disabled\n",
    "\n",
    "!python train.py \\\n",
    "    --resume /kaggle/working/yolov5/runs/train/M6_base_vid_2val/weights/last.pt \\\n",
    "    --epochs 11 \\\n",
    "    --save-period 1"
   ]
  },
  {
   "cell_type": "code",
   "execution_count": 20,
   "id": "8de3f773",
   "metadata": {
    "execution": {
     "iopub.execute_input": "2022-02-12T01:23:11.679081Z",
     "iopub.status.busy": "2022-02-12T01:23:11.677147Z",
     "iopub.status.idle": "2022-02-12T01:23:11.679641Z",
     "shell.execute_reply": "2022-02-12T01:23:11.680085Z",
     "shell.execute_reply.started": "2022-02-11T18:41:23.106486Z"
    },
    "papermill": {
     "duration": 3.276304,
     "end_time": "2022-02-12T01:23:11.680232",
     "exception": false,
     "start_time": "2022-02-12T01:23:08.403928",
     "status": "completed"
    },
    "tags": []
   },
   "outputs": [],
   "source": [
    "# !ls -A /kaggle/working/yolov5/runs/train/M6_base_vid_2val/weights"
   ]
  },
  {
   "cell_type": "code",
   "execution_count": 21,
   "id": "406b4739",
   "metadata": {
    "execution": {
     "iopub.execute_input": "2022-02-12T01:23:17.791008Z",
     "iopub.status.busy": "2022-02-12T01:23:17.790094Z",
     "iopub.status.idle": "2022-02-12T01:23:17.792712Z",
     "shell.execute_reply": "2022-02-12T01:23:17.791988Z",
     "shell.execute_reply.started": "2022-02-11T18:32:50.976972Z"
    },
    "papermill": {
     "duration": 3.009334,
     "end_time": "2022-02-12T01:23:17.792851",
     "exception": false,
     "start_time": "2022-02-12T01:23:14.783517",
     "status": "completed"
    },
    "tags": []
   },
   "outputs": [],
   "source": [
    "# !python -m wandb disabled\n",
    "\n",
    "# !python train.py \\\n",
    "#     --img 3000 \\\n",
    "#     --batch 2 \\\n",
    "#     --epochs 11 \\\n",
    "#     --data data/reef_f1_naive.yaml \\\n",
    "#     --weights yolov5m6.pt \\\n",
    "#     --name base_vid_2val \\\n",
    "#     --hyp data/hyps/hyp.heavy.2.yaml \\\n",
    "#     --save-period 1"
   ]
  },
  {
   "cell_type": "code",
   "execution_count": 22,
   "id": "9557f380",
   "metadata": {
    "execution": {
     "iopub.execute_input": "2022-02-12T01:23:24.089101Z",
     "iopub.status.busy": "2022-02-12T01:23:24.088165Z",
     "iopub.status.idle": "2022-02-12T01:23:24.090475Z",
     "shell.execute_reply": "2022-02-12T01:23:24.089934Z",
     "shell.execute_reply.started": "2022-02-11T18:32:50.984877Z"
    },
    "papermill": {
     "duration": 3.291027,
     "end_time": "2022-02-12T01:23:24.090611",
     "exception": false,
     "start_time": "2022-02-12T01:23:20.799584",
     "status": "completed"
    },
    "tags": []
   },
   "outputs": [],
   "source": [
    "# !python -m wandb disabled\n",
    "\n",
    "# !python train.py \\\n",
    "#     --img 3000 \\\n",
    "#     --batch 2 \\\n",
    "#     --epochs 11 \\\n",
    "#     --data data/reef_f1_naive.yaml \\\n",
    "#     --weights yolov5s6.pt \\\n",
    "#     --name cots_with_albs \\\n",
    "#     --hyp data/hyps/hyp.heavy.2.yaml \\\n",
    "#     --save-period 1"
   ]
  },
  {
   "cell_type": "code",
   "execution_count": 23,
   "id": "8003b5a3",
   "metadata": {
    "execution": {
     "iopub.execute_input": "2022-02-12T01:23:30.363165Z",
     "iopub.status.busy": "2022-02-12T01:23:30.362362Z",
     "iopub.status.idle": "2022-02-12T01:23:31.079791Z",
     "shell.execute_reply": "2022-02-12T01:23:31.079275Z",
     "shell.execute_reply.started": "2022-02-11T18:32:50.991847Z"
    },
    "papermill": {
     "duration": 3.78971,
     "end_time": "2022-02-12T01:23:31.079923",
     "exception": false,
     "start_time": "2022-02-12T01:23:27.290213",
     "status": "completed"
    },
    "tags": []
   },
   "outputs": [
    {
     "name": "stdout",
     "output_type": "stream",
     "text": [
      "CONTRIBUTING.md  __pycache__  hubconf.py\tsetup.cfg\tval.py\n",
      "Dockerfile\t data\t      models\t\ttrain.py\twandb\n",
      "LICENSE\t\t detect.py    requirements.txt\ttutorial.ipynb\tyolov5m6.pt\n",
      "README.md\t export.py    runs\t\tutils\n"
     ]
    }
   ],
   "source": [
    "!ls"
   ]
  },
  {
   "cell_type": "code",
   "execution_count": 24,
   "id": "31c8e276",
   "metadata": {
    "execution": {
     "iopub.execute_input": "2022-02-12T01:23:37.504395Z",
     "iopub.status.busy": "2022-02-12T01:23:37.503587Z",
     "iopub.status.idle": "2022-02-12T01:23:37.506185Z",
     "shell.execute_reply": "2022-02-12T01:23:37.505713Z",
     "shell.execute_reply.started": "2022-02-11T18:32:51.649443Z"
    },
    "papermill": {
     "duration": 3.085928,
     "end_time": "2022-02-12T01:23:37.506305",
     "exception": false,
     "start_time": "2022-02-12T01:23:34.420377",
     "status": "completed"
    },
    "tags": []
   },
   "outputs": [],
   "source": [
    "# %cd /kaggle/working\n",
    "\n",
    "# !cp -r /kaggle/working/yolov5/runs/train/base_vid_2val /kaggle/working\n",
    "\n",
    "# !cp /kaggle/working/yolov5/data/reef_f1_naive.yaml /kaggle/working/base_vid_2val/\n",
    "# !cp /kaggle/working/yolov5/data/hyps/hyp.heavy.2.yaml /kaggle/working/base_vid_2val/\n",
    "# # !cp /kaggle/working/yolov5/utils/augmentations.py /kaggle/working/base_vid_2val/\n",
    "\n",
    "# !rm -r /kaggle/working/yolov5\n",
    "# !rm -r /kaggle/working/images\n",
    "# !rm -r /kaggle/working/labels"
   ]
  }
 ],
 "metadata": {
  "kernelspec": {
   "display_name": "Python 3",
   "language": "python",
   "name": "python3"
  },
  "language_info": {
   "codemirror_mode": {
    "name": "ipython",
    "version": 3
   },
   "file_extension": ".py",
   "mimetype": "text/x-python",
   "name": "python",
   "nbconvert_exporter": "python",
   "pygments_lexer": "ipython3",
   "version": "3.7.3"
  },
  "papermill": {
   "default_parameters": {},
   "duration": 21974.716793,
   "end_time": "2022-02-12T01:23:41.607829",
   "environment_variables": {},
   "exception": null,
   "input_path": "__notebook__.ipynb",
   "output_path": "__notebook__.ipynb",
   "parameters": {},
   "start_time": "2022-02-11T19:17:26.891036",
   "version": "2.3.3"
  }
 },
 "nbformat": 4,
 "nbformat_minor": 5
}
