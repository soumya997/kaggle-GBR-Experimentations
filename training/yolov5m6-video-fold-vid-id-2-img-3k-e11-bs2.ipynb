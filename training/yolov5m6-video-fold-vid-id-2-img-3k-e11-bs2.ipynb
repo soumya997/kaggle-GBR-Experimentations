{
 "cells": [
  {
   "cell_type": "markdown",
   "metadata": {},
   "source": [
    "## Yolov5 high resolution training\n",
    "\n",
    "### Major modification\n",
    "* img=3600\n",
    "* mixup=0.5\n",
    "* fliplr: 0.5\n",
    "\n",
    "### Hardware to reproduce\n",
    "* RTX3090"
   ]
  },
  {
   "cell_type": "markdown",
   "metadata": {},
   "source": [
    "### Training Log:\n",
    "> ```\n",
    "version=1\n",
    "img_size:3584,bs2,e11,[yolov5s6] \n",
    "Fold: video2[validation]\n",
    "Labels: only GT\n",
    "```"
   ]
  },
  {
   "cell_type": "code",
   "execution_count": null,
   "metadata": {
    "execution": {
     "iopub.execute_input": "2022-02-10T20:53:13.667086Z",
     "iopub.status.busy": "2022-02-10T20:53:13.666496Z",
     "iopub.status.idle": "2022-02-10T20:53:14.377969Z",
     "shell.execute_reply": "2022-02-10T20:53:14.377216Z",
     "shell.execute_reply.started": "2022-02-10T20:53:13.66699Z"
    }
   },
   "outputs": [],
   "source": [
    "!nvidia-smi"
   ]
  },
  {
   "cell_type": "code",
   "execution_count": null,
   "metadata": {
    "_cell_guid": "b1076dfc-b9ad-4769-8c92-a6c4dae69d19",
    "_uuid": "8f2839f25d086af736a60e9eeb907d3b93b6e0e5",
    "execution": {
     "iopub.execute_input": "2022-02-10T20:53:14.382037Z",
     "iopub.status.busy": "2022-02-10T20:53:14.381432Z",
     "iopub.status.idle": "2022-02-10T20:53:14.388293Z",
     "shell.execute_reply": "2022-02-10T20:53:14.387595Z",
     "shell.execute_reply.started": "2022-02-10T20:53:14.382005Z"
    }
   },
   "outputs": [],
   "source": [
    "# This Python 3 environment comes with many helpful analytics libraries installed\n",
    "# It is defined by the kaggle/python Docker image: https://github.com/kaggle/docker-python\n",
    "# For example, here's several helpful packages to load\n",
    "\n",
    "import numpy as np # linear algebra\n",
    "import pandas as pd # data processing, CSV file I/O (e.g. pd.read_csv)\n",
    "from shutil import copyfile\n",
    "\n",
    "# Input data files are available in the read-only \"../input/\" directory\n",
    "# For example, running this (by clicking run or pressing Shift+Enter) will list all files under the input directory"
   ]
  },
  {
   "cell_type": "code",
   "execution_count": null,
   "metadata": {
    "execution": {
     "iopub.execute_input": "2022-02-10T20:53:14.391302Z",
     "iopub.status.busy": "2022-02-10T20:53:14.389279Z",
     "iopub.status.idle": "2022-02-10T20:53:14.396477Z",
     "shell.execute_reply": "2022-02-10T20:53:14.395722Z",
     "shell.execute_reply.started": "2022-02-10T20:53:14.391265Z"
    }
   },
   "outputs": [],
   "source": [
    "# train = pd.read_csv('../input/tensorflow-great-barrier-reef/train.csv')\n",
    "# train['pos'] = train.annotations != '[]'"
   ]
  },
  {
   "cell_type": "code",
   "execution_count": null,
   "metadata": {
    "execution": {
     "iopub.execute_input": "2022-02-10T20:53:14.398453Z",
     "iopub.status.busy": "2022-02-10T20:53:14.397934Z",
     "iopub.status.idle": "2022-02-10T20:53:14.84267Z",
     "shell.execute_reply": "2022-02-10T20:53:14.841995Z",
     "shell.execute_reply.started": "2022-02-10T20:53:14.398416Z"
    }
   },
   "outputs": [],
   "source": [
    "df = pd.read_csv(\"../input/tensorflow-great-barrier-reef/train.csv\")\n",
    "\n",
    "# Turn annotations from strings into lists of dictionaries\n",
    "df['annotations1'] = df['annotations'].apply(eval)\n",
    "\n",
    "# Create the image path for the row\n",
    "df['image_path'] = \"video_\" + df['video_id'].astype(str) + \"/\" + df['video_frame'].astype(str) + \".jpg\"\n",
    "\n",
    "length = lambda x: len(x) \n",
    "\n",
    "df[\"no_of_bbox\"] = df[\"annotations1\"].apply(length)\n",
    "\n",
    "df.head(5)"
   ]
  },
  {
   "cell_type": "code",
   "execution_count": null,
   "metadata": {
    "execution": {
     "iopub.execute_input": "2022-02-10T20:53:14.845479Z",
     "iopub.status.busy": "2022-02-10T20:53:14.844998Z",
     "iopub.status.idle": "2022-02-10T20:53:14.860407Z",
     "shell.execute_reply": "2022-02-10T20:53:14.859735Z",
     "shell.execute_reply.started": "2022-02-10T20:53:14.845443Z"
    }
   },
   "outputs": [],
   "source": [
    "val_df = df[df[\"video_id\"]==2][df[\"no_of_bbox\"]>0]\n",
    "val_df.shape"
   ]
  },
  {
   "cell_type": "code",
   "execution_count": null,
   "metadata": {
    "execution": {
     "iopub.execute_input": "2022-02-10T20:53:14.862246Z",
     "iopub.status.busy": "2022-02-10T20:53:14.861754Z",
     "iopub.status.idle": "2022-02-10T20:53:14.872489Z",
     "shell.execute_reply": "2022-02-10T20:53:14.871697Z",
     "shell.execute_reply.started": "2022-02-10T20:53:14.86221Z"
    }
   },
   "outputs": [],
   "source": [
    "train_df = df[df[\"video_id\"]!=2][df[\"no_of_bbox\"]>0]\n",
    "train_df.shape"
   ]
  },
  {
   "cell_type": "code",
   "execution_count": null,
   "metadata": {
    "execution": {
     "iopub.execute_input": "2022-02-10T20:53:14.874414Z",
     "iopub.status.busy": "2022-02-10T20:53:14.873931Z",
     "iopub.status.idle": "2022-02-10T20:53:17.517342Z",
     "shell.execute_reply": "2022-02-10T20:53:17.516405Z",
     "shell.execute_reply.started": "2022-02-10T20:53:14.874379Z"
    }
   },
   "outputs": [],
   "source": [
    "!mkdir -p ./yolo_data/fold2/images/val\n",
    "!mkdir -p ./yolo_data/fold2/images/train\n",
    "\n",
    "!mkdir -p ./yolo_data/fold2/labels/val\n",
    "!mkdir -p ./yolo_data/fold2/labels/train"
   ]
  },
  {
   "cell_type": "code",
   "execution_count": null,
   "metadata": {
    "execution": {
     "iopub.execute_input": "2022-02-10T20:53:17.519935Z",
     "iopub.status.busy": "2022-02-10T20:53:17.519315Z",
     "iopub.status.idle": "2022-02-10T20:53:26.249839Z",
     "shell.execute_reply": "2022-02-10T20:53:26.249116Z",
     "shell.execute_reply.started": "2022-02-10T20:53:17.51989Z"
    }
   },
   "outputs": [],
   "source": [
    "fold = 2\n",
    "\n",
    "annos = []\n",
    "for i, x in val_df.iterrows():\n",
    "#     if x.video_id == fold:\n",
    "#         if x.pos:\n",
    "    mode = 'val'\n",
    "#     else:\n",
    "#         # train\n",
    "#         mode = 'train'\n",
    "#         if not x.pos: continue\n",
    "        # val\n",
    "    copyfile(f'../input/tensorflow-great-barrier-reef/train_images/video_{x.video_id}/{x.video_frame}.jpg',\n",
    "                f'./yolo_data/fold{fold}/images/{mode}/{x.image_id}.jpg')\n",
    "#     if not x.pos:\n",
    "#         continue\n",
    "    r = ''\n",
    "    anno = eval(x.annotations)\n",
    "    for an in anno:\n",
    "#            annos.append(an)\n",
    "        r += '0 {} {} {} {}\\n'.format((an['x'] + an['width'] / 2) / 1280,\n",
    "                                        (an['y'] + an['height'] / 2) / 720,\n",
    "                                        an['width'] / 1280, an['height'] / 720)\n",
    "    with open(f'./yolo_data/fold{fold}/labels/{mode}/{x.image_id}.txt', 'w') as fp:\n",
    "        fp.write(r)"
   ]
  },
  {
   "cell_type": "code",
   "execution_count": null,
   "metadata": {
    "execution": {
     "iopub.execute_input": "2022-02-10T20:53:26.251347Z",
     "iopub.status.busy": "2022-02-10T20:53:26.251082Z",
     "iopub.status.idle": "2022-02-10T20:54:15.406615Z",
     "shell.execute_reply": "2022-02-10T20:54:15.405894Z",
     "shell.execute_reply.started": "2022-02-10T20:53:26.251313Z"
    }
   },
   "outputs": [],
   "source": [
    "fold = 2\n",
    "\n",
    "annos = []\n",
    "for i, x in train_df.iterrows():\n",
    "#     if x.video_id == fold:\n",
    "#         if x.pos:\n",
    "    mode = 'train'\n",
    "#     else:\n",
    "#         # train\n",
    "#         mode = 'train'\n",
    "#         if not x.pos: continue\n",
    "        # val\n",
    "    copyfile(f'../input/tensorflow-great-barrier-reef/train_images/video_{x.video_id}/{x.video_frame}.jpg',\n",
    "                f'./yolo_data/fold{fold}/images/{mode}/{x.image_id}.jpg')\n",
    "#     if not x.pos:\n",
    "#         continue\n",
    "    r = ''\n",
    "    anno = eval(x.annotations)\n",
    "    for an in anno:\n",
    "#            annos.append(an)\n",
    "        r += '0 {} {} {} {}\\n'.format((an['x'] + an['width'] / 2) / 1280,\n",
    "                                        (an['y'] + an['height'] / 2) / 720,\n",
    "                                        an['width'] / 1280, an['height'] / 720)\n",
    "    with open(f'./yolo_data/fold{fold}/labels/{mode}/{x.image_id}.txt', 'w') as fp:\n",
    "        fp.write(r)"
   ]
  },
  {
   "cell_type": "code",
   "execution_count": null,
   "metadata": {},
   "outputs": [],
   "source": []
  },
  {
   "cell_type": "code",
   "execution_count": null,
   "metadata": {
    "_kg_hide-input": true,
    "execution": {
     "iopub.execute_input": "2022-02-10T20:54:15.40843Z",
     "iopub.status.busy": "2022-02-10T20:54:15.407956Z",
     "iopub.status.idle": "2022-02-10T20:54:15.413285Z",
     "shell.execute_reply": "2022-02-10T20:54:15.41258Z",
     "shell.execute_reply.started": "2022-02-10T20:54:15.408393Z"
    }
   },
   "outputs": [],
   "source": [
    "# fold = 1\n",
    "\n",
    "# annos = []\n",
    "# for i, x in train.iterrows():\n",
    "#     if x.video_id == fold:\n",
    "#         if x.pos:\n",
    "#             mode = 'val'\n",
    "#     else:\n",
    "#         # train\n",
    "#         mode = 'train'\n",
    "#         if not x.pos: continue\n",
    "#         # val\n",
    "#     copyfile(f'../input/tensorflow-great-barrier-reef/train_images/video_{x.video_id}/{x.video_frame}.jpg',\n",
    "#                 f'./yolo_data/fold{fold}/images/{mode}/{x.image_id}.jpg')\n",
    "#     if not x.pos:\n",
    "#         continue\n",
    "#     r = ''\n",
    "#     anno = eval(x.annotations)\n",
    "#     for an in anno:\n",
    "# #            annos.append(an)\n",
    "#         r += '0 {} {} {} {}\\n'.format((an['x'] + an['width'] / 2) / 1280,\n",
    "#                                         (an['y'] + an['height'] / 2) / 720,\n",
    "#                                         an['width'] / 1280, an['height'] / 720)\n",
    "#     with open(f'./yolo_data/fold{fold}/labels/{mode}/{x.image_id}.txt', 'w') as fp:\n",
    "#         fp.write(r)"
   ]
  },
  {
   "cell_type": "code",
   "execution_count": null,
   "metadata": {
    "execution": {
     "iopub.execute_input": "2022-02-10T20:54:15.415157Z",
     "iopub.status.busy": "2022-02-10T20:54:15.414497Z",
     "iopub.status.idle": "2022-02-10T20:54:15.432244Z",
     "shell.execute_reply": "2022-02-10T20:54:15.431582Z",
     "shell.execute_reply.started": "2022-02-10T20:54:15.415119Z"
    }
   },
   "outputs": [],
   "source": [
    "import os\n",
    "len(os.listdir(\"./yolo_data/fold2/labels/train\"))"
   ]
  },
  {
   "cell_type": "code",
   "execution_count": null,
   "metadata": {
    "execution": {
     "iopub.execute_input": "2022-02-10T20:54:15.433788Z",
     "iopub.status.busy": "2022-02-10T20:54:15.433519Z",
     "iopub.status.idle": "2022-02-10T20:54:15.441385Z",
     "shell.execute_reply": "2022-02-10T20:54:15.440656Z",
     "shell.execute_reply.started": "2022-02-10T20:54:15.433752Z"
    }
   },
   "outputs": [],
   "source": [
    "hyps = '''\n",
    "# YOLOv5 by Ultralytics, GPL-3.0 license\n",
    "# Hyperparameters for COCO training from scratch\n",
    "# python train.py --batch 40 --cfg yolov5m.yaml --weights '' --data coco.yaml --img 640 --epochs 300\n",
    "# See tutorials for hyperparameter evolution https://github.com/ultralytics/yolov5#tutorials\n",
    "\n",
    "lr0: 0.01  # initial learning rate (SGD=1E-2, Adam=1E-3)\n",
    "lrf: 0.1  # final OneCycleLR learning rate (lr0 * lrf)\n",
    "momentum: 0.937  # SGD momentum/Adam beta1\n",
    "weight_decay: 0.0005  # optimizer weight decay 5e-4\n",
    "warmup_epochs: 3.0  # warmup epochs (fractions ok)\n",
    "warmup_momentum: 0.8  # warmup initial momentum\n",
    "warmup_bias_lr: 0.1  # warmup initial bias lr\n",
    "box: 0.05  # box loss gain\n",
    "cls: 0.5  # cls loss gain\n",
    "cls_pw: 1.0  # cls BCELoss positive_weight\n",
    "obj: 1.0  # obj loss gain (scale with pixels)\n",
    "obj_pw: 1.0  # obj BCELoss positive_weight\n",
    "iou_t: 0.20  # IoU training threshold\n",
    "anchor_t: 4.0  # anchor-multiple threshold\n",
    "# anchors: 3  # anchors per output layer (0 to ignore)\n",
    "fl_gamma: 0.0  # focal loss gamma (efficientDet default gamma=1.5)\n",
    "hsv_h: 0.015  # image HSV-Hue augmentation (fraction)\n",
    "hsv_s: 0.7  # image HSV-Saturation augmentation (fraction)\n",
    "hsv_v: 0.4  # image HSV-Value augmentation (fraction)\n",
    "degrees: 0.0  # image rotation (+/- deg)\n",
    "translate: 0.1  # image translation (+/- fraction)\n",
    "scale: 0.5  # image scale (+/- gain)\n",
    "shear: 0.0  # image shear (+/- deg)\n",
    "perspective: 0.0  # image perspective (+/- fraction), range 0-0.001\n",
    "flipud: 0.5  # image flip up-down (probability)\n",
    "fliplr: 0.5  # image flip left-right (probability)\n",
    "mosaic: 1.0  # image mosaic (probability)\n",
    "mixup: 0.5  # image mixup (probability)\n",
    "copy_paste: 0.0  # segment copy-paste (probability)\n",
    "'''"
   ]
  },
  {
   "cell_type": "code",
   "execution_count": null,
   "metadata": {
    "execution": {
     "iopub.execute_input": "2022-02-10T20:54:15.44277Z",
     "iopub.status.busy": "2022-02-10T20:54:15.442464Z",
     "iopub.status.idle": "2022-02-10T20:54:15.451545Z",
     "shell.execute_reply": "2022-02-10T20:54:15.450764Z",
     "shell.execute_reply.started": "2022-02-10T20:54:15.442736Z"
    }
   },
   "outputs": [],
   "source": [
    "data = '''\n",
    "# Train/val/test sets as 1) dir: path/to/imgs, 2) file: path/to/imgs.txt, or 3) list: [path/to/imgs1, path/to/imgs2, ..]\n",
    "\n",
    "path: ../yolo_data/fold2/  # dataset root dir\n",
    "train: images/train  # train images (relative to 'path') 128 images\n",
    "val: images/val  # val images (relative to 'path') 128 images\n",
    "test:  # test images (optional)\n",
    "\n",
    "# Classes\n",
    "nc: 1  # number of classes\n",
    "names: ['reef']  # class names\n",
    "\n",
    "\n",
    "# Download script/URL (optional)\n",
    "# download: https://ultralytics.com/assets/coco128.zip\n",
    "'''"
   ]
  },
  {
   "cell_type": "code",
   "execution_count": null,
   "metadata": {
    "execution": {
     "iopub.execute_input": "2022-02-10T20:54:15.455352Z",
     "iopub.status.busy": "2022-02-10T20:54:15.455126Z",
     "iopub.status.idle": "2022-02-10T20:54:19.179894Z",
     "shell.execute_reply": "2022-02-10T20:54:19.178924Z",
     "shell.execute_reply.started": "2022-02-10T20:54:15.455323Z"
    }
   },
   "outputs": [],
   "source": [
    "# !git clone https://github.com/ultralytics/yolov5.git\n",
    "!git clone https://github.com/soumya997/yolov5-w-f2-mod.git\n",
    "!mv ./yolov5-w-f2-mod ./yolov5"
   ]
  },
  {
   "cell_type": "code",
   "execution_count": null,
   "metadata": {
    "execution": {
     "iopub.execute_input": "2022-02-10T20:54:19.18169Z",
     "iopub.status.busy": "2022-02-10T20:54:19.181426Z",
     "iopub.status.idle": "2022-02-10T20:54:19.187697Z",
     "shell.execute_reply": "2022-02-10T20:54:19.186925Z",
     "shell.execute_reply.started": "2022-02-10T20:54:19.181652Z"
    }
   },
   "outputs": [],
   "source": [
    "with open('./yolov5/data/reef_f1_naive.yaml', 'w') as fp:\n",
    "    fp.write(data)\n",
    "with open('./yolov5/data/hyps/hyp.heavy.2.yaml', 'w') as fp:\n",
    "    fp.write(hyps)"
   ]
  },
  {
   "cell_type": "code",
   "execution_count": null,
   "metadata": {
    "execution": {
     "iopub.execute_input": "2022-02-10T20:54:19.189482Z",
     "iopub.status.busy": "2022-02-10T20:54:19.189243Z",
     "iopub.status.idle": "2022-02-10T20:54:19.19859Z",
     "shell.execute_reply": "2022-02-10T20:54:19.197836Z",
     "shell.execute_reply.started": "2022-02-10T20:54:19.189451Z"
    }
   },
   "outputs": [],
   "source": [
    "%cd yolov5"
   ]
  },
  {
   "cell_type": "code",
   "execution_count": null,
   "metadata": {
    "execution": {
     "iopub.execute_input": "2022-02-10T20:54:19.200289Z",
     "iopub.status.busy": "2022-02-10T20:54:19.199913Z",
     "iopub.status.idle": "2022-02-10T20:54:19.856227Z",
     "shell.execute_reply": "2022-02-10T20:54:19.855422Z",
     "shell.execute_reply.started": "2022-02-10T20:54:19.200255Z"
    }
   },
   "outputs": [],
   "source": [
    "!ls data/"
   ]
  },
  {
   "cell_type": "code",
   "execution_count": null,
   "metadata": {
    "execution": {
     "iopub.execute_input": "2022-02-10T20:54:19.858295Z",
     "iopub.status.busy": "2022-02-10T20:54:19.857983Z",
     "iopub.status.idle": "2022-02-10T20:59:21.638503Z",
     "shell.execute_reply": "2022-02-10T20:59:21.637663Z",
     "shell.execute_reply.started": "2022-02-10T20:54:19.858255Z"
    }
   },
   "outputs": [],
   "source": [
    "!python -m wandb disabled\n",
    "\n",
    "!python train.py \\\n",
    "    --img 3000 \\\n",
    "    --batch 2 \\\n",
    "    --epochs 11 \\\n",
    "    --data data/reef_f1_naive.yaml \\\n",
    "    --weights yolov5m6.pt \\\n",
    "    --name M6_base_vid_2val \\\n",
    "    --hyp data/hyps/hyp.heavy.2.yaml \\\n",
    "    --save-period 1"
   ]
  },
  {
   "cell_type": "code",
   "execution_count": null,
   "metadata": {
    "execution": {
     "iopub.execute_input": "2022-02-10T20:59:21.642222Z",
     "iopub.status.busy": "2022-02-10T20:59:21.641971Z",
     "iopub.status.idle": "2022-02-10T20:59:22.415242Z",
     "shell.execute_reply": "2022-02-10T20:59:22.41408Z",
     "shell.execute_reply.started": "2022-02-10T20:59:21.64217Z"
    }
   },
   "outputs": [],
   "source": [
    "!pwd"
   ]
  },
  {
   "cell_type": "code",
   "execution_count": null,
   "metadata": {
    "execution": {
     "iopub.execute_input": "2022-02-10T20:59:22.420917Z",
     "iopub.status.busy": "2022-02-10T20:59:22.420691Z",
     "iopub.status.idle": "2022-02-10T20:59:22.427415Z",
     "shell.execute_reply": "2022-02-10T20:59:22.426674Z",
     "shell.execute_reply.started": "2022-02-10T20:59:22.420887Z"
    }
   },
   "outputs": [],
   "source": [
    "# !python -m wandb disabled\n",
    "\n",
    "# !python train.py \\\n",
    "#     --img 3000 \\\n",
    "#     --batch 2 \\\n",
    "#     --epochs 11 \\\n",
    "#     --data data/reef_f1_naive.yaml \\\n",
    "#     --weights yolov5s6.pt \\\n",
    "#     --name cots_with_albs \\\n",
    "#     --hyp data/hyps/hyp.heavy.2.yaml \\\n",
    "#     --save-period 1"
   ]
  },
  {
   "cell_type": "code",
   "execution_count": null,
   "metadata": {
    "execution": {
     "iopub.execute_input": "2022-02-10T20:59:22.430125Z",
     "iopub.status.busy": "2022-02-10T20:59:22.429098Z",
     "iopub.status.idle": "2022-02-10T20:59:23.084692Z",
     "shell.execute_reply": "2022-02-10T20:59:23.083885Z",
     "shell.execute_reply.started": "2022-02-10T20:59:22.430099Z"
    }
   },
   "outputs": [],
   "source": [
    "!ls"
   ]
  },
  {
   "cell_type": "code",
   "execution_count": null,
   "metadata": {
    "execution": {
     "iopub.execute_input": "2022-02-10T20:59:23.087935Z",
     "iopub.status.busy": "2022-02-10T20:59:23.087292Z",
     "iopub.status.idle": "2022-02-10T20:59:27.066381Z",
     "shell.execute_reply": "2022-02-10T20:59:27.065562Z",
     "shell.execute_reply.started": "2022-02-10T20:59:23.087899Z"
    }
   },
   "outputs": [],
   "source": [
    "%cd /kaggle/working\n",
    "\n",
    "!cp -r /kaggle/working/yolov5/runs/train/base_vid_2val /kaggle/working\n",
    "\n",
    "!cp /kaggle/working/yolov5/data/reef_f1_naive.yaml /kaggle/working/base_vid_2val/\n",
    "!cp /kaggle/working/yolov5/data/hyps/hyp.heavy.2.yaml /kaggle/working/base_vid_2val/\n",
    "# !cp /kaggle/working/yolov5/utils/augmentations.py /kaggle/working/base_vid_2val/\n",
    "\n",
    "!rm -r /kaggle/working/yolov5\n",
    "!rm -r /kaggle/working/images\n",
    "!rm -r /kaggle/working/labels\n",
    "!rm -r /kaggle/working/yolo_data"
   ]
  }
 ],
 "metadata": {
  "kernelspec": {
   "display_name": "Python 3",
   "language": "python",
   "name": "python3"
  },
  "language_info": {
   "codemirror_mode": {
    "name": "ipython",
    "version": 3
   },
   "file_extension": ".py",
   "mimetype": "text/x-python",
   "name": "python",
   "nbconvert_exporter": "python",
   "pygments_lexer": "ipython3",
   "version": "3.7.3"
  }
 },
 "nbformat": 4,
 "nbformat_minor": 4
}
