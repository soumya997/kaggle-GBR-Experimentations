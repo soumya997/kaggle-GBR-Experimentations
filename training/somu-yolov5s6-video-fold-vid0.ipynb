{
 "cells": [
  {
   "cell_type": "markdown",
   "id": "af967433",
   "metadata": {
    "papermill": {
     "duration": 0.042827,
     "end_time": "2022-02-10T19:47:19.998868",
     "exception": false,
     "start_time": "2022-02-10T19:47:19.956041",
     "status": "completed"
    },
    "tags": []
   },
   "source": [
    "## Yolov5 high resolution training\n",
    "\n",
    "### Major modification\n",
    "* img=3600\n",
    "* mixup=0.5\n",
    "* fliplr: 0.5\n",
    "\n",
    "### Hardware to reproduce\n",
    "* RTX3090"
   ]
  },
  {
   "cell_type": "markdown",
   "id": "bb9e2871",
   "metadata": {
    "papermill": {
     "duration": 0.027285,
     "end_time": "2022-02-10T19:47:20.057321",
     "exception": false,
     "start_time": "2022-02-10T19:47:20.030036",
     "status": "completed"
    },
    "tags": []
   },
   "source": [
    "### Training Log:\n",
    "> ```\n",
    "version=1\n",
    "img_size:3584,bs2,e11,[yolov5s6] \n",
    "Fold: video2[validation]\n",
    "Labels: only GT\n",
    "```"
   ]
  },
  {
   "cell_type": "code",
   "execution_count": 1,
   "id": "029275d9",
   "metadata": {
    "execution": {
     "iopub.execute_input": "2022-02-10T19:47:20.130875Z",
     "iopub.status.busy": "2022-02-10T19:47:20.130093Z",
     "iopub.status.idle": "2022-02-10T19:47:20.945593Z",
     "shell.execute_reply": "2022-02-10T19:47:20.944923Z",
     "shell.execute_reply.started": "2022-02-10T19:38:04.341602Z"
    },
    "papermill": {
     "duration": 0.860874,
     "end_time": "2022-02-10T19:47:20.945752",
     "exception": false,
     "start_time": "2022-02-10T19:47:20.084878",
     "status": "completed"
    },
    "tags": []
   },
   "outputs": [
    {
     "name": "stdout",
     "output_type": "stream",
     "text": [
      "Thu Feb 10 19:47:20 2022       \n",
      "+-----------------------------------------------------------------------------+\n",
      "| NVIDIA-SMI 450.119.04   Driver Version: 450.119.04   CUDA Version: 11.0     |\n",
      "|-------------------------------+----------------------+----------------------+\n",
      "| GPU  Name        Persistence-M| Bus-Id        Disp.A | Volatile Uncorr. ECC |\n",
      "| Fan  Temp  Perf  Pwr:Usage/Cap|         Memory-Usage | GPU-Util  Compute M. |\n",
      "|                               |                      |               MIG M. |\n",
      "|===============================+======================+======================|\n",
      "|   0  Tesla P100-PCIE...  Off  | 00000000:00:04.0 Off |                    0 |\n",
      "| N/A   33C    P0    26W / 250W |      0MiB / 16280MiB |      0%      Default |\n",
      "|                               |                      |                  N/A |\n",
      "+-------------------------------+----------------------+----------------------+\n",
      "                                                                               \n",
      "+-----------------------------------------------------------------------------+\n",
      "| Processes:                                                                  |\n",
      "|  GPU   GI   CI        PID   Type   Process name                  GPU Memory |\n",
      "|        ID   ID                                                   Usage      |\n",
      "|=============================================================================|\n",
      "|  No running processes found                                                 |\n",
      "+-----------------------------------------------------------------------------+\n"
     ]
    }
   ],
   "source": [
    "!nvidia-smi"
   ]
  },
  {
   "cell_type": "code",
   "execution_count": 2,
   "id": "38872ae6",
   "metadata": {
    "_cell_guid": "b1076dfc-b9ad-4769-8c92-a6c4dae69d19",
    "_uuid": "8f2839f25d086af736a60e9eeb907d3b93b6e0e5",
    "execution": {
     "iopub.execute_input": "2022-02-10T19:47:20.986541Z",
     "iopub.status.busy": "2022-02-10T19:47:20.985092Z",
     "iopub.status.idle": "2022-02-10T19:47:20.987050Z",
     "shell.execute_reply": "2022-02-10T19:47:20.987878Z",
     "shell.execute_reply.started": "2022-02-10T19:38:05.054177Z"
    },
    "papermill": {
     "duration": 0.025092,
     "end_time": "2022-02-10T19:47:20.988025",
     "exception": false,
     "start_time": "2022-02-10T19:47:20.962933",
     "status": "completed"
    },
    "tags": []
   },
   "outputs": [],
   "source": [
    "# This Python 3 environment comes with many helpful analytics libraries installed\n",
    "# It is defined by the kaggle/python Docker image: https://github.com/kaggle/docker-python\n",
    "# For example, here's several helpful packages to load\n",
    "\n",
    "import numpy as np # linear algebra\n",
    "import pandas as pd # data processing, CSV file I/O (e.g. pd.read_csv)\n",
    "from shutil import copyfile\n",
    "\n",
    "# Input data files are available in the read-only \"../input/\" directory\n",
    "# For example, running this (by clicking run or pressing Shift+Enter) will list all files under the input directory"
   ]
  },
  {
   "cell_type": "code",
   "execution_count": 3,
   "id": "e043d379",
   "metadata": {
    "execution": {
     "iopub.execute_input": "2022-02-10T19:47:21.026005Z",
     "iopub.status.busy": "2022-02-10T19:47:21.024460Z",
     "iopub.status.idle": "2022-02-10T19:47:21.026644Z",
     "shell.execute_reply": "2022-02-10T19:47:21.027044Z",
     "shell.execute_reply.started": "2022-02-10T19:38:05.061114Z"
    },
    "papermill": {
     "duration": 0.022719,
     "end_time": "2022-02-10T19:47:21.027176",
     "exception": false,
     "start_time": "2022-02-10T19:47:21.004457",
     "status": "completed"
    },
    "tags": []
   },
   "outputs": [],
   "source": [
    "# train = pd.read_csv('../input/tensorflow-great-barrier-reef/train.csv')\n",
    "# train['pos'] = train.annotations != '[]'"
   ]
  },
  {
   "cell_type": "code",
   "execution_count": 4,
   "id": "4ee91465",
   "metadata": {
    "execution": {
     "iopub.execute_input": "2022-02-10T19:47:21.065610Z",
     "iopub.status.busy": "2022-02-10T19:47:21.061592Z",
     "iopub.status.idle": "2022-02-10T19:47:21.575291Z",
     "shell.execute_reply": "2022-02-10T19:47:21.575871Z",
     "shell.execute_reply.started": "2022-02-10T19:38:05.071019Z"
    },
    "papermill": {
     "duration": 0.532686,
     "end_time": "2022-02-10T19:47:21.576069",
     "exception": false,
     "start_time": "2022-02-10T19:47:21.043383",
     "status": "completed"
    },
    "tags": []
   },
   "outputs": [
    {
     "data": {
      "text/html": [
       "<div>\n",
       "<style scoped>\n",
       "    .dataframe tbody tr th:only-of-type {\n",
       "        vertical-align: middle;\n",
       "    }\n",
       "\n",
       "    .dataframe tbody tr th {\n",
       "        vertical-align: top;\n",
       "    }\n",
       "\n",
       "    .dataframe thead th {\n",
       "        text-align: right;\n",
       "    }\n",
       "</style>\n",
       "<table border=\"1\" class=\"dataframe\">\n",
       "  <thead>\n",
       "    <tr style=\"text-align: right;\">\n",
       "      <th></th>\n",
       "      <th>video_id</th>\n",
       "      <th>sequence</th>\n",
       "      <th>video_frame</th>\n",
       "      <th>sequence_frame</th>\n",
       "      <th>image_id</th>\n",
       "      <th>annotations</th>\n",
       "      <th>annotations1</th>\n",
       "      <th>image_path</th>\n",
       "      <th>no_of_bbox</th>\n",
       "    </tr>\n",
       "  </thead>\n",
       "  <tbody>\n",
       "    <tr>\n",
       "      <th>0</th>\n",
       "      <td>0</td>\n",
       "      <td>40258</td>\n",
       "      <td>0</td>\n",
       "      <td>0</td>\n",
       "      <td>0-0</td>\n",
       "      <td>[]</td>\n",
       "      <td>[]</td>\n",
       "      <td>video_0/0.jpg</td>\n",
       "      <td>0</td>\n",
       "    </tr>\n",
       "    <tr>\n",
       "      <th>1</th>\n",
       "      <td>0</td>\n",
       "      <td>40258</td>\n",
       "      <td>1</td>\n",
       "      <td>1</td>\n",
       "      <td>0-1</td>\n",
       "      <td>[]</td>\n",
       "      <td>[]</td>\n",
       "      <td>video_0/1.jpg</td>\n",
       "      <td>0</td>\n",
       "    </tr>\n",
       "    <tr>\n",
       "      <th>2</th>\n",
       "      <td>0</td>\n",
       "      <td>40258</td>\n",
       "      <td>2</td>\n",
       "      <td>2</td>\n",
       "      <td>0-2</td>\n",
       "      <td>[]</td>\n",
       "      <td>[]</td>\n",
       "      <td>video_0/2.jpg</td>\n",
       "      <td>0</td>\n",
       "    </tr>\n",
       "    <tr>\n",
       "      <th>3</th>\n",
       "      <td>0</td>\n",
       "      <td>40258</td>\n",
       "      <td>3</td>\n",
       "      <td>3</td>\n",
       "      <td>0-3</td>\n",
       "      <td>[]</td>\n",
       "      <td>[]</td>\n",
       "      <td>video_0/3.jpg</td>\n",
       "      <td>0</td>\n",
       "    </tr>\n",
       "    <tr>\n",
       "      <th>4</th>\n",
       "      <td>0</td>\n",
       "      <td>40258</td>\n",
       "      <td>4</td>\n",
       "      <td>4</td>\n",
       "      <td>0-4</td>\n",
       "      <td>[]</td>\n",
       "      <td>[]</td>\n",
       "      <td>video_0/4.jpg</td>\n",
       "      <td>0</td>\n",
       "    </tr>\n",
       "  </tbody>\n",
       "</table>\n",
       "</div>"
      ],
      "text/plain": [
       "   video_id  sequence  video_frame  sequence_frame image_id annotations  \\\n",
       "0         0     40258            0               0      0-0          []   \n",
       "1         0     40258            1               1      0-1          []   \n",
       "2         0     40258            2               2      0-2          []   \n",
       "3         0     40258            3               3      0-3          []   \n",
       "4         0     40258            4               4      0-4          []   \n",
       "\n",
       "  annotations1     image_path  no_of_bbox  \n",
       "0           []  video_0/0.jpg           0  \n",
       "1           []  video_0/1.jpg           0  \n",
       "2           []  video_0/2.jpg           0  \n",
       "3           []  video_0/3.jpg           0  \n",
       "4           []  video_0/4.jpg           0  "
      ]
     },
     "execution_count": 4,
     "metadata": {},
     "output_type": "execute_result"
    }
   ],
   "source": [
    "df = pd.read_csv(\"../input/tensorflow-great-barrier-reef/train.csv\")\n",
    "\n",
    "# Turn annotations from strings into lists of dictionaries\n",
    "df['annotations1'] = df['annotations'].apply(eval)\n",
    "\n",
    "# Create the image path for the row\n",
    "df['image_path'] = \"video_\" + df['video_id'].astype(str) + \"/\" + df['video_frame'].astype(str) + \".jpg\"\n",
    "\n",
    "length = lambda x: len(x) \n",
    "\n",
    "df[\"no_of_bbox\"] = df[\"annotations1\"].apply(length)\n",
    "\n",
    "df.head(5)"
   ]
  },
  {
   "cell_type": "code",
   "execution_count": 5,
   "id": "364041d3",
   "metadata": {
    "execution": {
     "iopub.execute_input": "2022-02-10T19:47:21.633319Z",
     "iopub.status.busy": "2022-02-10T19:47:21.632422Z",
     "iopub.status.idle": "2022-02-10T19:47:21.650642Z",
     "shell.execute_reply": "2022-02-10T19:47:21.649994Z",
     "shell.execute_reply.started": "2022-02-10T19:38:05.547342Z"
    },
    "papermill": {
     "duration": 0.050188,
     "end_time": "2022-02-10T19:47:21.650809",
     "exception": false,
     "start_time": "2022-02-10T19:47:21.600621",
     "status": "completed"
    },
    "tags": []
   },
   "outputs": [
    {
     "name": "stderr",
     "output_type": "stream",
     "text": [
      "/opt/conda/lib/python3.7/site-packages/ipykernel_launcher.py:1: UserWarning: Boolean Series key will be reindexed to match DataFrame index.\n",
      "  \"\"\"Entry point for launching an IPython kernel.\n"
     ]
    },
    {
     "data": {
      "text/plain": [
       "(2143, 9)"
      ]
     },
     "execution_count": 5,
     "metadata": {},
     "output_type": "execute_result"
    }
   ],
   "source": [
    "val_df = df[df[\"video_id\"]==0][df[\"no_of_bbox\"]>0]\n",
    "val_df.shape"
   ]
  },
  {
   "cell_type": "code",
   "execution_count": 6,
   "id": "b631a421",
   "metadata": {
    "execution": {
     "iopub.execute_input": "2022-02-10T19:47:21.712880Z",
     "iopub.status.busy": "2022-02-10T19:47:21.711951Z",
     "iopub.status.idle": "2022-02-10T19:47:21.723834Z",
     "shell.execute_reply": "2022-02-10T19:47:21.724411Z",
     "shell.execute_reply.started": "2022-02-10T19:38:05.566373Z"
    },
    "papermill": {
     "duration": 0.045583,
     "end_time": "2022-02-10T19:47:21.724615",
     "exception": false,
     "start_time": "2022-02-10T19:47:21.679032",
     "status": "completed"
    },
    "tags": []
   },
   "outputs": [
    {
     "name": "stderr",
     "output_type": "stream",
     "text": [
      "/opt/conda/lib/python3.7/site-packages/ipykernel_launcher.py:1: UserWarning: Boolean Series key will be reindexed to match DataFrame index.\n",
      "  \"\"\"Entry point for launching an IPython kernel.\n"
     ]
    },
    {
     "data": {
      "text/plain": [
       "(2776, 9)"
      ]
     },
     "execution_count": 6,
     "metadata": {},
     "output_type": "execute_result"
    }
   ],
   "source": [
    "train_df = df[df[\"video_id\"]!=0][df[\"no_of_bbox\"]>0]\n",
    "train_df.shape"
   ]
  },
  {
   "cell_type": "code",
   "execution_count": 7,
   "id": "aa0ea3ba",
   "metadata": {
    "execution": {
     "iopub.execute_input": "2022-02-10T19:47:21.793406Z",
     "iopub.status.busy": "2022-02-10T19:47:21.792644Z",
     "iopub.status.idle": "2022-02-10T19:47:24.437802Z",
     "shell.execute_reply": "2022-02-10T19:47:24.437286Z",
     "shell.execute_reply.started": "2022-02-10T19:38:05.579090Z"
    },
    "papermill": {
     "duration": 2.683804,
     "end_time": "2022-02-10T19:47:24.437922",
     "exception": false,
     "start_time": "2022-02-10T19:47:21.754118",
     "status": "completed"
    },
    "tags": []
   },
   "outputs": [],
   "source": [
    "!mkdir -p ./yolo_data/fold0/images/val\n",
    "!mkdir -p ./yolo_data/fold0/images/train\n",
    "\n",
    "!mkdir -p ./yolo_data/fold0/labels/val\n",
    "!mkdir -p ./yolo_data/fold0/labels/train"
   ]
  },
  {
   "cell_type": "code",
   "execution_count": 8,
   "id": "d496ce09",
   "metadata": {
    "execution": {
     "iopub.execute_input": "2022-02-10T19:47:24.482389Z",
     "iopub.status.busy": "2022-02-10T19:47:24.481549Z",
     "iopub.status.idle": "2022-02-10T19:47:52.174752Z",
     "shell.execute_reply": "2022-02-10T19:47:52.175287Z",
     "shell.execute_reply.started": "2022-02-10T19:38:08.226025Z"
    },
    "papermill": {
     "duration": 27.719075,
     "end_time": "2022-02-10T19:47:52.175476",
     "exception": false,
     "start_time": "2022-02-10T19:47:24.456401",
     "status": "completed"
    },
    "tags": []
   },
   "outputs": [],
   "source": [
    "fold = 0\n",
    "\n",
    "annos = []\n",
    "for i, x in val_df.iterrows():\n",
    "#     if x.video_id == fold:\n",
    "#         if x.pos:\n",
    "    mode = 'val'\n",
    "#     else:\n",
    "#         # train\n",
    "#         mode = 'train'\n",
    "#         if not x.pos: continue\n",
    "        # val\n",
    "    copyfile(f'../input/tensorflow-great-barrier-reef/train_images/video_{x.video_id}/{x.video_frame}.jpg',\n",
    "                f'./yolo_data/fold{fold}/images/{mode}/{x.image_id}.jpg')\n",
    "#     if not x.pos:\n",
    "#         continue\n",
    "    r = ''\n",
    "    anno = eval(x.annotations)\n",
    "    for an in anno:\n",
    "#            annos.append(an)\n",
    "        r += '0 {} {} {} {}\\n'.format((an['x'] + an['width'] / 2) / 1280,\n",
    "                                        (an['y'] + an['height'] / 2) / 720,\n",
    "                                        an['width'] / 1280, an['height'] / 720)\n",
    "    with open(f'./yolo_data/fold{fold}/labels/{mode}/{x.image_id}.txt', 'w') as fp:\n",
    "        fp.write(r)"
   ]
  },
  {
   "cell_type": "code",
   "execution_count": 9,
   "id": "bf690bc7",
   "metadata": {
    "execution": {
     "iopub.execute_input": "2022-02-10T19:47:52.225656Z",
     "iopub.status.busy": "2022-02-10T19:47:52.225041Z",
     "iopub.status.idle": "2022-02-10T19:48:28.359359Z",
     "shell.execute_reply": "2022-02-10T19:48:28.358866Z",
     "shell.execute_reply.started": "2022-02-10T19:38:32.607346Z"
    },
    "papermill": {
     "duration": 36.16314,
     "end_time": "2022-02-10T19:48:28.359499",
     "exception": false,
     "start_time": "2022-02-10T19:47:52.196359",
     "status": "completed"
    },
    "tags": []
   },
   "outputs": [],
   "source": [
    "fold = 0\n",
    "\n",
    "annos = []\n",
    "for i, x in train_df.iterrows():\n",
    "#     if x.video_id == fold:\n",
    "#         if x.pos:\n",
    "    mode = 'train'\n",
    "#     else:\n",
    "#         # train\n",
    "#         mode = 'train'\n",
    "#         if not x.pos: continue\n",
    "        # val\n",
    "    copyfile(f'../input/tensorflow-great-barrier-reef/train_images/video_{x.video_id}/{x.video_frame}.jpg',\n",
    "                f'./yolo_data/fold{fold}/images/{mode}/{x.image_id}.jpg')\n",
    "#     if not x.pos:\n",
    "#         continue\n",
    "    r = ''\n",
    "    anno = eval(x.annotations)\n",
    "    for an in anno:\n",
    "#            annos.append(an)\n",
    "        r += '0 {} {} {} {}\\n'.format((an['x'] + an['width'] / 2) / 1280,\n",
    "                                        (an['y'] + an['height'] / 2) / 720,\n",
    "                                        an['width'] / 1280, an['height'] / 720)\n",
    "    with open(f'./yolo_data/fold{fold}/labels/{mode}/{x.image_id}.txt', 'w') as fp:\n",
    "        fp.write(r)"
   ]
  },
  {
   "cell_type": "code",
   "execution_count": null,
   "id": "ec6af21a",
   "metadata": {
    "papermill": {
     "duration": 0.017914,
     "end_time": "2022-02-10T19:48:28.395917",
     "exception": false,
     "start_time": "2022-02-10T19:48:28.378003",
     "status": "completed"
    },
    "tags": []
   },
   "outputs": [],
   "source": []
  },
  {
   "cell_type": "code",
   "execution_count": 10,
   "id": "84b97b1b",
   "metadata": {
    "_kg_hide-input": true,
    "execution": {
     "iopub.execute_input": "2022-02-10T19:48:28.438870Z",
     "iopub.status.busy": "2022-02-10T19:48:28.437954Z",
     "iopub.status.idle": "2022-02-10T19:48:28.441470Z",
     "shell.execute_reply": "2022-02-10T19:48:28.442028Z",
     "shell.execute_reply.started": "2022-02-10T19:39:06.658646Z"
    },
    "papermill": {
     "duration": 0.026903,
     "end_time": "2022-02-10T19:48:28.442235",
     "exception": false,
     "start_time": "2022-02-10T19:48:28.415332",
     "status": "completed"
    },
    "tags": []
   },
   "outputs": [],
   "source": [
    "# fold = 1\n",
    "\n",
    "# annos = []\n",
    "# for i, x in train.iterrows():\n",
    "#     if x.video_id == fold:\n",
    "#         if x.pos:\n",
    "#             mode = 'val'\n",
    "#     else:\n",
    "#         # train\n",
    "#         mode = 'train'\n",
    "#         if not x.pos: continue\n",
    "#         # val\n",
    "#     copyfile(f'../input/tensorflow-great-barrier-reef/train_images/video_{x.video_id}/{x.video_frame}.jpg',\n",
    "#                 f'./yolo_data/fold{fold}/images/{mode}/{x.image_id}.jpg')\n",
    "#     if not x.pos:\n",
    "#         continue\n",
    "#     r = ''\n",
    "#     anno = eval(x.annotations)\n",
    "#     for an in anno:\n",
    "# #            annos.append(an)\n",
    "#         r += '0 {} {} {} {}\\n'.format((an['x'] + an['width'] / 2) / 1280,\n",
    "#                                         (an['y'] + an['height'] / 2) / 720,\n",
    "#                                         an['width'] / 1280, an['height'] / 720)\n",
    "#     with open(f'./yolo_data/fold{fold}/labels/{mode}/{x.image_id}.txt', 'w') as fp:\n",
    "#         fp.write(r)"
   ]
  },
  {
   "cell_type": "code",
   "execution_count": 11,
   "id": "aad454d7",
   "metadata": {
    "execution": {
     "iopub.execute_input": "2022-02-10T19:48:28.483615Z",
     "iopub.status.busy": "2022-02-10T19:48:28.482888Z",
     "iopub.status.idle": "2022-02-10T19:48:28.488871Z",
     "shell.execute_reply": "2022-02-10T19:48:28.488439Z",
     "shell.execute_reply.started": "2022-02-10T19:39:47.783791Z"
    },
    "papermill": {
     "duration": 0.027795,
     "end_time": "2022-02-10T19:48:28.488975",
     "exception": false,
     "start_time": "2022-02-10T19:48:28.461180",
     "status": "completed"
    },
    "tags": []
   },
   "outputs": [
    {
     "data": {
      "text/plain": [
       "2776"
      ]
     },
     "execution_count": 11,
     "metadata": {},
     "output_type": "execute_result"
    }
   ],
   "source": [
    "import os\n",
    "len(os.listdir(\"./yolo_data/fold0/labels/train\"))"
   ]
  },
  {
   "cell_type": "code",
   "execution_count": 12,
   "id": "e09509ec",
   "metadata": {
    "execution": {
     "iopub.execute_input": "2022-02-10T19:48:28.530637Z",
     "iopub.status.busy": "2022-02-10T19:48:28.529874Z",
     "iopub.status.idle": "2022-02-10T19:48:28.531870Z",
     "shell.execute_reply": "2022-02-10T19:48:28.532281Z",
     "shell.execute_reply.started": "2022-02-10T19:39:47.980983Z"
    },
    "papermill": {
     "duration": 0.025519,
     "end_time": "2022-02-10T19:48:28.532418",
     "exception": false,
     "start_time": "2022-02-10T19:48:28.506899",
     "status": "completed"
    },
    "tags": []
   },
   "outputs": [],
   "source": [
    "hyps = '''\n",
    "# YOLOv5 by Ultralytics, GPL-3.0 license\n",
    "# Hyperparameters for COCO training from scratch\n",
    "# python train.py --batch 40 --cfg yolov5m.yaml --weights '' --data coco.yaml --img 640 --epochs 300\n",
    "# See tutorials for hyperparameter evolution https://github.com/ultralytics/yolov5#tutorials\n",
    "\n",
    "lr0: 0.01  # initial learning rate (SGD=1E-2, Adam=1E-3)\n",
    "lrf: 0.1  # final OneCycleLR learning rate (lr0 * lrf)\n",
    "momentum: 0.937  # SGD momentum/Adam beta1\n",
    "weight_decay: 0.0005  # optimizer weight decay 5e-4\n",
    "warmup_epochs: 3.0  # warmup epochs (fractions ok)\n",
    "warmup_momentum: 0.8  # warmup initial momentum\n",
    "warmup_bias_lr: 0.1  # warmup initial bias lr\n",
    "box: 0.05  # box loss gain\n",
    "cls: 0.5  # cls loss gain\n",
    "cls_pw: 1.0  # cls BCELoss positive_weight\n",
    "obj: 1.0  # obj loss gain (scale with pixels)\n",
    "obj_pw: 1.0  # obj BCELoss positive_weight\n",
    "iou_t: 0.20  # IoU training threshold\n",
    "anchor_t: 4.0  # anchor-multiple threshold\n",
    "# anchors: 3  # anchors per output layer (0 to ignore)\n",
    "fl_gamma: 0.0  # focal loss gamma (efficientDet default gamma=1.5)\n",
    "hsv_h: 0.015  # image HSV-Hue augmentation (fraction)\n",
    "hsv_s: 0.7  # image HSV-Saturation augmentation (fraction)\n",
    "hsv_v: 0.4  # image HSV-Value augmentation (fraction)\n",
    "degrees: 0.0  # image rotation (+/- deg)\n",
    "translate: 0.1  # image translation (+/- fraction)\n",
    "scale: 0.5  # image scale (+/- gain)\n",
    "shear: 0.0  # image shear (+/- deg)\n",
    "perspective: 0.0  # image perspective (+/- fraction), range 0-0.001\n",
    "flipud: 0.5  # image flip up-down (probability)\n",
    "fliplr: 0.5  # image flip left-right (probability)\n",
    "mosaic: 1.0  # image mosaic (probability)\n",
    "mixup: 0.5  # image mixup (probability)\n",
    "copy_paste: 0.0  # segment copy-paste (probability)\n",
    "'''"
   ]
  },
  {
   "cell_type": "code",
   "execution_count": 13,
   "id": "ad60ef52",
   "metadata": {
    "execution": {
     "iopub.execute_input": "2022-02-10T19:48:28.574875Z",
     "iopub.status.busy": "2022-02-10T19:48:28.573345Z",
     "iopub.status.idle": "2022-02-10T19:48:28.575467Z",
     "shell.execute_reply": "2022-02-10T19:48:28.575874Z",
     "shell.execute_reply.started": "2022-02-10T19:39:48.241321Z"
    },
    "papermill": {
     "duration": 0.024711,
     "end_time": "2022-02-10T19:48:28.575999",
     "exception": false,
     "start_time": "2022-02-10T19:48:28.551288",
     "status": "completed"
    },
    "tags": []
   },
   "outputs": [],
   "source": [
    "data = '''\n",
    "# Train/val/test sets as 1) dir: path/to/imgs, 2) file: path/to/imgs.txt, or 3) list: [path/to/imgs1, path/to/imgs2, ..]\n",
    "\n",
    "path: ../yolo_data/fold0/  # dataset root dir\n",
    "train: images/train  # train images (relative to 'path') 128 images\n",
    "val: images/val  # val images (relative to 'path') 128 images\n",
    "test:  # test images (optional)\n",
    "\n",
    "# Classes\n",
    "nc: 1  # number of classes\n",
    "names: ['reef']  # class names\n",
    "\n",
    "\n",
    "# Download script/URL (optional)\n",
    "# download: https://ultralytics.com/assets/coco128.zip\n",
    "'''"
   ]
  },
  {
   "cell_type": "code",
   "execution_count": 14,
   "id": "861a3190",
   "metadata": {
    "execution": {
     "iopub.execute_input": "2022-02-10T19:48:28.619302Z",
     "iopub.status.busy": "2022-02-10T19:48:28.618555Z",
     "iopub.status.idle": "2022-02-10T19:48:31.133018Z",
     "shell.execute_reply": "2022-02-10T19:48:31.132367Z",
     "shell.execute_reply.started": "2022-02-10T19:39:48.499172Z"
    },
    "papermill": {
     "duration": 2.538093,
     "end_time": "2022-02-10T19:48:31.133168",
     "exception": false,
     "start_time": "2022-02-10T19:48:28.595075",
     "status": "completed"
    },
    "tags": []
   },
   "outputs": [
    {
     "name": "stdout",
     "output_type": "stream",
     "text": [
      "Cloning into 'yolov5-w-f2-mod'...\n",
      "remote: Enumerating objects: 132, done.\u001b[K\n",
      "remote: Counting objects: 100% (132/132), done.\u001b[K\n",
      "remote: Compressing objects: 100% (105/105), done.\u001b[K\n",
      "remote: Total 132 (delta 36), reused 120 (delta 26), pack-reused 0\u001b[K\n",
      "Receiving objects: 100% (132/132), 1.39 MiB | 4.79 MiB/s, done.\n",
      "Resolving deltas: 100% (36/36), done.\n"
     ]
    }
   ],
   "source": [
    "# !git clone https://github.com/ultralytics/yolov5.git\n",
    "!git clone https://github.com/soumya997/yolov5-w-f2-mod.git\n",
    "!mv ./yolov5-w-f2-mod ./yolov5"
   ]
  },
  {
   "cell_type": "code",
   "execution_count": 15,
   "id": "4a103d57",
   "metadata": {
    "execution": {
     "iopub.execute_input": "2022-02-10T19:48:31.180352Z",
     "iopub.status.busy": "2022-02-10T19:48:31.179772Z",
     "iopub.status.idle": "2022-02-10T19:48:31.183861Z",
     "shell.execute_reply": "2022-02-10T19:48:31.183419Z",
     "shell.execute_reply.started": "2022-02-10T19:39:51.386830Z"
    },
    "papermill": {
     "duration": 0.029364,
     "end_time": "2022-02-10T19:48:31.183972",
     "exception": false,
     "start_time": "2022-02-10T19:48:31.154608",
     "status": "completed"
    },
    "tags": []
   },
   "outputs": [],
   "source": [
    "with open('./yolov5/data/reef_f1_naive.yaml', 'w') as fp:\n",
    "    fp.write(data)\n",
    "with open('./yolov5/data/hyps/hyp.heavy.2.yaml', 'w') as fp:\n",
    "    fp.write(hyps)"
   ]
  },
  {
   "cell_type": "code",
   "execution_count": 16,
   "id": "e443711b",
   "metadata": {
    "execution": {
     "iopub.execute_input": "2022-02-10T19:48:31.230688Z",
     "iopub.status.busy": "2022-02-10T19:48:31.229947Z",
     "iopub.status.idle": "2022-02-10T19:48:31.234380Z",
     "shell.execute_reply": "2022-02-10T19:48:31.233808Z",
     "shell.execute_reply.started": "2022-02-10T19:39:51.395005Z"
    },
    "papermill": {
     "duration": 0.029839,
     "end_time": "2022-02-10T19:48:31.234527",
     "exception": false,
     "start_time": "2022-02-10T19:48:31.204688",
     "status": "completed"
    },
    "tags": []
   },
   "outputs": [
    {
     "name": "stdout",
     "output_type": "stream",
     "text": [
      "/kaggle/working/yolov5\n"
     ]
    }
   ],
   "source": [
    "%cd yolov5"
   ]
  },
  {
   "cell_type": "code",
   "execution_count": 17,
   "id": "83bc20b9",
   "metadata": {
    "execution": {
     "iopub.execute_input": "2022-02-10T19:48:31.281745Z",
     "iopub.status.busy": "2022-02-10T19:48:31.281019Z",
     "iopub.status.idle": "2022-02-10T19:48:31.930272Z",
     "shell.execute_reply": "2022-02-10T19:48:31.929766Z",
     "shell.execute_reply.started": "2022-02-10T19:39:51.405276Z"
    },
    "papermill": {
     "duration": 0.67447,
     "end_time": "2022-02-10T19:48:31.930415",
     "exception": false,
     "start_time": "2022-02-10T19:48:31.255945",
     "status": "completed"
    },
    "tags": []
   },
   "outputs": [
    {
     "name": "stdout",
     "output_type": "stream",
     "text": [
      "Argoverse.yaml\t      VOC.yaml\t     hyps\t\t xView.yaml\n",
      "GlobalWheat2020.yaml  VisDrone.yaml  images\n",
      "Objects365.yaml       coco.yaml      reef_f1_naive.yaml\n",
      "SKU-110K.yaml\t      coco128.yaml   scripts\n"
     ]
    }
   ],
   "source": [
    "!ls data/"
   ]
  },
  {
   "cell_type": "code",
   "execution_count": 18,
   "id": "612aae77",
   "metadata": {
    "execution": {
     "iopub.execute_input": "2022-02-10T19:48:31.979928Z",
     "iopub.status.busy": "2022-02-10T19:48:31.979152Z",
     "iopub.status.idle": "2022-02-11T04:17:45.648765Z",
     "shell.execute_reply": "2022-02-11T04:17:45.647545Z",
     "shell.execute_reply.started": "2022-02-10T19:39:52.060539Z"
    },
    "papermill": {
     "duration": 30553.697228,
     "end_time": "2022-02-11T04:17:45.648960",
     "exception": false,
     "start_time": "2022-02-10T19:48:31.951732",
     "status": "completed"
    },
    "tags": []
   },
   "outputs": [
    {
     "name": "stdout",
     "output_type": "stream",
     "text": [
      "W&B disabled.\n",
      "Downloading https://github.com/ultralytics/yolov5/releases/download/v6.0/yolov5s6.pt to yolov5s6.pt...\n",
      "100%|██████████████████████████████████████| 24.5M/24.5M [00:00<00:00, 51.1MB/s]\n",
      "\n",
      "\u001b[34m\u001b[1mtrain: \u001b[0mScanning '../yolo_data/fold0/labels/train' images and labels...2776 found\u001b[0m\n",
      "\u001b[34m\u001b[1mval: \u001b[0mScanning '../yolo_data/fold0/labels/val' images and labels...2143 found, 0 \u001b[0m\n",
      "      0/10     13.2G   0.07685    0.1247         0         5      3584: 100%|███\n",
      "               Class     Images     Labels          P          R         F2     \n",
      "      1/10     13.2G   0.05546   0.09834         0        34      3584: 100%|███\n",
      "               Class     Images     Labels          P          R         F2     \n",
      "      2/10     13.2G    0.0507   0.08906         0        28      3584: 100%|███\n",
      "               Class     Images     Labels          P          R         F2     \n",
      "      3/10     13.2G   0.04476   0.08653         0        18      3584: 100%|███\n",
      "               Class     Images     Labels          P          R         F2     \n",
      "      4/10     13.2G   0.04137   0.08215         0         5      3584: 100%|███\n",
      "               Class     Images     Labels          P          R         F2     \n",
      "      5/10     13.2G   0.03922   0.08004         0         1      3584: 100%|███\n",
      "               Class     Images     Labels          P          R         F2     \n",
      "      6/10     13.2G   0.03744   0.08115         0        22      3584: 100%|███\n",
      "               Class     Images     Labels          P          R         F2     \n",
      "      7/10     13.2G   0.03609   0.07532         0        26      3584: 100%|███\n",
      "               Class     Images     Labels          P          R         F2     \n",
      "      8/10     13.2G   0.03486   0.07287         0         8      3584: 100%|███\n",
      "               Class     Images     Labels          P          R         F2     \n",
      "      9/10     13.2G   0.03393    0.0722         0        16      3584: 100%|███\n",
      "               Class     Images     Labels          P          R         F2     \n",
      "     10/10     13.2G    0.0334    0.0713         0        39      3584: 100%|███\n",
      "               Class     Images     Labels          P          R         F2     \n",
      "               Class     Images     Labels          P          R         F2     \n",
      "Exception ignored in: <function _MultiProcessingDataLoaderIter.__del__ at 0x7fedf9d65950>\n",
      "Traceback (most recent call last):\n",
      "  File \"/opt/conda/lib/python3.7/site-packages/torch/utils/data/dataloader.py\", line 1328, in __del__\n",
      "  File \"/opt/conda/lib/python3.7/site-packages/torch/utils/data/dataloader.py\", line 1262, in _shutdown_workers\n",
      "AttributeError: 'NoneType' object has no attribute 'python_exit_status'\n",
      "Exception ignored in: <function _MultiProcessingDataLoaderIter.__del__ at 0x7fedf9d65950>\n",
      "Traceback (most recent call last):\n",
      "  File \"/opt/conda/lib/python3.7/site-packages/torch/utils/data/dataloader.py\", line 1328, in __del__\n",
      "  File \"/opt/conda/lib/python3.7/site-packages/torch/utils/data/dataloader.py\", line 1262, in _shutdown_workers\n",
      "AttributeError: 'NoneType' object has no attribute 'python_exit_status'\n"
     ]
    }
   ],
   "source": [
    "!python -m wandb disabled\n",
    "\n",
    "!python train.py \\\n",
    "    --img 3584 \\\n",
    "    --batch 2 \\\n",
    "    --epochs 11 \\\n",
    "    --data data/reef_f1_naive.yaml \\\n",
    "    --weights yolov5s6.pt \\\n",
    "    --name base_vid_2val \\\n",
    "    --hyp data/hyps/hyp.heavy.2.yaml \\\n",
    "    --save-period 1"
   ]
  },
  {
   "cell_type": "code",
   "execution_count": 19,
   "id": "69fba564",
   "metadata": {
    "execution": {
     "iopub.execute_input": "2022-02-11T04:17:58.147074Z",
     "iopub.status.busy": "2022-02-11T04:17:58.146289Z",
     "iopub.status.idle": "2022-02-11T04:17:58.148493Z",
     "shell.execute_reply": "2022-02-11T04:17:58.148890Z",
     "shell.execute_reply.started": "2022-02-10T19:39:09.216540Z"
    },
    "papermill": {
     "duration": 6.078958,
     "end_time": "2022-02-11T04:17:58.149035",
     "exception": false,
     "start_time": "2022-02-11T04:17:52.070077",
     "status": "completed"
    },
    "tags": []
   },
   "outputs": [],
   "source": [
    "# !python -m wandb disabled\n",
    "\n",
    "# !python train.py \\\n",
    "#     --img 3000 \\\n",
    "#     --batch 2 \\\n",
    "#     --epochs 11 \\\n",
    "#     --data data/reef_f1_naive.yaml \\\n",
    "#     --weights yolov5s6.pt \\\n",
    "#     --name cots_with_albs \\\n",
    "#     --hyp data/hyps/hyp.heavy.2.yaml \\\n",
    "#     --save-period 1"
   ]
  },
  {
   "cell_type": "code",
   "execution_count": 20,
   "id": "dc53643a",
   "metadata": {
    "execution": {
     "iopub.execute_input": "2022-02-11T04:18:10.198179Z",
     "iopub.status.busy": "2022-02-11T04:18:10.197403Z",
     "iopub.status.idle": "2022-02-11T04:18:10.890647Z",
     "shell.execute_reply": "2022-02-11T04:18:10.890136Z",
     "shell.execute_reply.started": "2022-02-10T19:39:09.218363Z"
    },
    "papermill": {
     "duration": 7.028667,
     "end_time": "2022-02-11T04:18:10.890773",
     "exception": false,
     "start_time": "2022-02-11T04:18:03.862106",
     "status": "completed"
    },
    "tags": []
   },
   "outputs": [
    {
     "name": "stdout",
     "output_type": "stream",
     "text": [
      "CONTRIBUTING.md  __pycache__  hubconf.py\tsetup.cfg\tval.py\n",
      "Dockerfile\t data\t      models\t\ttrain.py\twandb\n",
      "LICENSE\t\t detect.py    requirements.txt\ttutorial.ipynb\tyolov5s6.pt\n",
      "README.md\t export.py    runs\t\tutils\n"
     ]
    }
   ],
   "source": [
    "!ls"
   ]
  },
  {
   "cell_type": "code",
   "execution_count": 21,
   "id": "2b123c3c",
   "metadata": {
    "execution": {
     "iopub.execute_input": "2022-02-11T04:18:22.600939Z",
     "iopub.status.busy": "2022-02-11T04:18:22.600072Z",
     "iopub.status.idle": "2022-02-11T04:18:28.688080Z",
     "shell.execute_reply": "2022-02-11T04:18:28.688907Z",
     "shell.execute_reply.started": "2022-02-10T19:39:09.220228Z"
    },
    "papermill": {
     "duration": 12.077337,
     "end_time": "2022-02-11T04:18:28.689076",
     "exception": false,
     "start_time": "2022-02-11T04:18:16.611739",
     "status": "completed"
    },
    "tags": []
   },
   "outputs": [
    {
     "name": "stdout",
     "output_type": "stream",
     "text": [
      "/kaggle/working\n",
      "rm: cannot remove '/kaggle/working/images': No such file or directory\n",
      "rm: cannot remove '/kaggle/working/labels': No such file or directory\n"
     ]
    }
   ],
   "source": [
    "%cd /kaggle/working\n",
    "\n",
    "!cp -r /kaggle/working/yolov5/runs/train/base_vid_2val /kaggle/working\n",
    "\n",
    "!cp /kaggle/working/yolov5/data/reef_f1_naive.yaml /kaggle/working/base_vid_2val/\n",
    "!cp /kaggle/working/yolov5/data/hyps/hyp.heavy.2.yaml /kaggle/working/base_vid_2val/\n",
    "# !cp /kaggle/working/yolov5/utils/augmentations.py /kaggle/working/base_vid_2val/\n",
    "\n",
    "!rm -r /kaggle/working/yolov5\n",
    "!rm -r /kaggle/working/images\n",
    "!rm -r /kaggle/working/labels"
   ]
  }
 ],
 "metadata": {
  "kernelspec": {
   "display_name": "Python 3",
   "language": "python",
   "name": "python3"
  },
  "language_info": {
   "codemirror_mode": {
    "name": "ipython",
    "version": 3
   },
   "file_extension": ".py",
   "mimetype": "text/x-python",
   "name": "python",
   "nbconvert_exporter": "python",
   "pygments_lexer": "ipython3",
   "version": "3.7.3"
  },
  "papermill": {
   "default_parameters": {},
   "duration": 30684.179959,
   "end_time": "2022-02-11T04:18:35.863296",
   "environment_variables": {},
   "exception": null,
   "input_path": "__notebook__.ipynb",
   "output_path": "__notebook__.ipynb",
   "parameters": {},
   "start_time": "2022-02-10T19:47:11.683337",
   "version": "2.3.3"
  }
 },
 "nbformat": 4,
 "nbformat_minor": 5
}
