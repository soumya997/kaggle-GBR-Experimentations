{
 "cells": [
  {
   "cell_type": "code",
   "execution_count": 1,
   "id": "4c066920",
   "metadata": {
    "_cell_guid": "c6fe5cbc-7021-4e3a-9e14-a671a67b38cc",
    "_uuid": "164f1568-a99c-49fa-87cd-b54338249d13",
    "collapsed": false,
    "execution": {
     "iopub.execute_input": "2022-02-02T22:14:08.017834Z",
     "iopub.status.busy": "2022-02-02T22:14:08.016358Z",
     "iopub.status.idle": "2022-02-02T22:14:08.026746Z",
     "shell.execute_reply": "2022-02-02T22:14:08.026246Z",
     "shell.execute_reply.started": "2022-02-02T15:47:56.521244Z"
    },
    "id": "8o7XwOhNFJsi",
    "jupyter": {
     "outputs_hidden": false
    },
    "papermill": {
     "duration": 0.038322,
     "end_time": "2022-02-02T22:14:08.026879",
     "exception": false,
     "start_time": "2022-02-02T22:14:07.988557",
     "status": "completed"
    },
    "tags": []
   },
   "outputs": [],
   "source": [
    "import numpy as np # linear algebra\n",
    "import pandas as pd # data processing, CSV file I/O (e.g. pd.read_csv)\n",
    "from shutil import copyfile\n",
    "from tqdm import tqdm"
   ]
  },
  {
   "cell_type": "code",
   "execution_count": 2,
   "id": "474d3357",
   "metadata": {
    "_cell_guid": "2b8c13f3-0357-4ad2-b502-85bec56a09b4",
    "_uuid": "70f2dc7c-575e-4ddf-a4ac-3cff999dd30a",
    "collapsed": false,
    "execution": {
     "iopub.execute_input": "2022-02-02T22:14:08.075910Z",
     "iopub.status.busy": "2022-02-02T22:14:08.075109Z",
     "iopub.status.idle": "2022-02-02T22:14:08.135462Z",
     "shell.execute_reply": "2022-02-02T22:14:08.134585Z",
     "shell.execute_reply.started": "2022-02-02T15:47:56.747691Z"
    },
    "id": "xY-U2XYgJEgb",
    "jupyter": {
     "outputs_hidden": false
    },
    "papermill": {
     "duration": 0.085445,
     "end_time": "2022-02-02T22:14:08.135594",
     "exception": false,
     "start_time": "2022-02-02T22:14:08.050149",
     "status": "completed"
    },
    "tags": []
   },
   "outputs": [],
   "source": [
    "train = pd.read_csv('../input/tensorflow-great-barrier-reef/train.csv')\n",
    "train['pos'] = train.annotations != '[]'"
   ]
  },
  {
   "cell_type": "code",
   "execution_count": 3,
   "id": "6ae04ec3",
   "metadata": {
    "_cell_guid": "98fe98b7-6117-4b1a-80fb-5e0a16c3c4dd",
    "_uuid": "b6ba664f-b55a-4bbb-924b-b4b9de50454f",
    "collapsed": false,
    "execution": {
     "iopub.execute_input": "2022-02-02T22:14:08.220192Z",
     "iopub.status.busy": "2022-02-02T22:14:08.219347Z",
     "iopub.status.idle": "2022-02-02T22:14:08.233908Z",
     "shell.execute_reply": "2022-02-02T22:14:08.234456Z",
     "shell.execute_reply.started": "2022-02-02T15:47:57.059004Z"
    },
    "jupyter": {
     "outputs_hidden": false
    },
    "papermill": {
     "duration": 0.063713,
     "end_time": "2022-02-02T22:14:08.234599",
     "exception": false,
     "start_time": "2022-02-02T22:14:08.170886",
     "status": "completed"
    },
    "tags": []
   },
   "outputs": [
    {
     "data": {
      "text/html": [
       "<div>\n",
       "<style scoped>\n",
       "    .dataframe tbody tr th:only-of-type {\n",
       "        vertical-align: middle;\n",
       "    }\n",
       "\n",
       "    .dataframe tbody tr th {\n",
       "        vertical-align: top;\n",
       "    }\n",
       "\n",
       "    .dataframe thead th {\n",
       "        text-align: right;\n",
       "    }\n",
       "</style>\n",
       "<table border=\"1\" class=\"dataframe\">\n",
       "  <thead>\n",
       "    <tr style=\"text-align: right;\">\n",
       "      <th></th>\n",
       "      <th>video_id</th>\n",
       "      <th>sequence</th>\n",
       "      <th>video_frame</th>\n",
       "      <th>sequence_frame</th>\n",
       "      <th>image_id</th>\n",
       "      <th>annotations</th>\n",
       "      <th>pos</th>\n",
       "    </tr>\n",
       "  </thead>\n",
       "  <tbody>\n",
       "    <tr>\n",
       "      <th>0</th>\n",
       "      <td>0</td>\n",
       "      <td>40258</td>\n",
       "      <td>0</td>\n",
       "      <td>0</td>\n",
       "      <td>0-0</td>\n",
       "      <td>[]</td>\n",
       "      <td>False</td>\n",
       "    </tr>\n",
       "    <tr>\n",
       "      <th>1</th>\n",
       "      <td>0</td>\n",
       "      <td>40258</td>\n",
       "      <td>1</td>\n",
       "      <td>1</td>\n",
       "      <td>0-1</td>\n",
       "      <td>[]</td>\n",
       "      <td>False</td>\n",
       "    </tr>\n",
       "    <tr>\n",
       "      <th>2</th>\n",
       "      <td>0</td>\n",
       "      <td>40258</td>\n",
       "      <td>2</td>\n",
       "      <td>2</td>\n",
       "      <td>0-2</td>\n",
       "      <td>[]</td>\n",
       "      <td>False</td>\n",
       "    </tr>\n",
       "    <tr>\n",
       "      <th>3</th>\n",
       "      <td>0</td>\n",
       "      <td>40258</td>\n",
       "      <td>3</td>\n",
       "      <td>3</td>\n",
       "      <td>0-3</td>\n",
       "      <td>[]</td>\n",
       "      <td>False</td>\n",
       "    </tr>\n",
       "    <tr>\n",
       "      <th>4</th>\n",
       "      <td>0</td>\n",
       "      <td>40258</td>\n",
       "      <td>4</td>\n",
       "      <td>4</td>\n",
       "      <td>0-4</td>\n",
       "      <td>[]</td>\n",
       "      <td>False</td>\n",
       "    </tr>\n",
       "  </tbody>\n",
       "</table>\n",
       "</div>"
      ],
      "text/plain": [
       "   video_id  sequence  video_frame  sequence_frame image_id annotations    pos\n",
       "0         0     40258            0               0      0-0          []  False\n",
       "1         0     40258            1               1      0-1          []  False\n",
       "2         0     40258            2               2      0-2          []  False\n",
       "3         0     40258            3               3      0-3          []  False\n",
       "4         0     40258            4               4      0-4          []  False"
      ]
     },
     "execution_count": 3,
     "metadata": {},
     "output_type": "execute_result"
    }
   ],
   "source": [
    "train.head()"
   ]
  },
  {
   "cell_type": "code",
   "execution_count": 4,
   "id": "03b1c0d2",
   "metadata": {
    "_cell_guid": "333969af-2829-45cb-b842-57b2b8554b62",
    "_uuid": "1bf5b7f8-b6d0-41f9-b99c-87eb30fea8b8",
    "collapsed": false,
    "execution": {
     "iopub.execute_input": "2022-02-02T22:14:08.291710Z",
     "iopub.status.busy": "2022-02-02T22:14:08.290993Z",
     "iopub.status.idle": "2022-02-02T22:14:11.085940Z",
     "shell.execute_reply": "2022-02-02T22:14:11.085446Z",
     "shell.execute_reply.started": "2022-02-02T15:47:57.36632Z"
    },
    "id": "dLr2-xw9JL38",
    "jupyter": {
     "outputs_hidden": false
    },
    "papermill": {
     "duration": 2.825276,
     "end_time": "2022-02-02T22:14:11.086072",
     "exception": false,
     "start_time": "2022-02-02T22:14:08.260796",
     "status": "completed"
    },
    "tags": []
   },
   "outputs": [],
   "source": [
    "!mkdir -p ./yolo_data/fold1/images/val\n",
    "!mkdir -p ./yolo_data/fold1/images/train\n",
    "\n",
    "!mkdir -p ./yolo_data/fold1/labels/val\n",
    "!mkdir -p ./yolo_data/fold1/labels/train"
   ]
  },
  {
   "cell_type": "code",
   "execution_count": 5,
   "id": "eb55e521",
   "metadata": {
    "_cell_guid": "fe5f05c5-75a5-4035-997b-90f579f448fb",
    "_uuid": "17013b63-b32f-4e30-87ff-00b49f46db59",
    "collapsed": false,
    "execution": {
     "iopub.execute_input": "2022-02-02T22:14:11.140767Z",
     "iopub.status.busy": "2022-02-02T22:14:11.140228Z",
     "iopub.status.idle": "2022-02-02T22:16:09.664187Z",
     "shell.execute_reply": "2022-02-02T22:16:09.663770Z",
     "shell.execute_reply.started": "2022-02-02T15:47:59.993185Z"
    },
    "id": "SGozlvX3JQDa",
    "jupyter": {
     "outputs_hidden": false
    },
    "papermill": {
     "duration": 118.55502,
     "end_time": "2022-02-02T22:16:09.664351",
     "exception": false,
     "start_time": "2022-02-02T22:14:11.109331",
     "status": "completed"
    },
    "tags": []
   },
   "outputs": [
    {
     "name": "stderr",
     "output_type": "stream",
     "text": [
      "23501it [01:58, 198.30it/s] \n"
     ]
    }
   ],
   "source": [
    "fold = 1\n",
    "\n",
    "annos = []\n",
    "for i, x in tqdm(train.iterrows()):\n",
    "#     print(i,x)\n",
    "#     break\n",
    "    if x.video_id == fold:\n",
    "        mode = 'val'\n",
    "    else:\n",
    "        # train\n",
    "        mode = 'train'\n",
    "        if not x.pos: continue\n",
    "        # val\n",
    "    copyfile(f'../input/tensorflow-great-barrier-reef/train_images/video_{x.video_id}/{x.video_frame}.jpg',\n",
    "                f'./yolo_data/fold{fold}/images/{mode}/{x.image_id}.jpg')\n",
    "    if not x.pos:\n",
    "        continue\n",
    "    r = ''\n",
    "    anno = eval(x.annotations)\n",
    "    for an in anno:\n",
    "        r += '0 {} {} {} {}\\n'.format((an['x'] + an['width'] / 2) / 1280,\n",
    "                                        (an['y'] + an['height'] / 2) / 720,\n",
    "                                        an['width'] / 1280, an['height'] / 720)\n",
    "#         print(r)\n",
    "#         print()\n",
    "    with open(f'./yolo_data/fold{fold}/labels/{mode}/{x.image_id}.txt', 'w') as fp:\n",
    "        fp.write(r)"
   ]
  },
  {
   "cell_type": "code",
   "execution_count": null,
   "id": "5ef8ae3c",
   "metadata": {
    "_cell_guid": "0573fc8d-e5b4-456c-b0e5-59a6fa02a5a0",
    "_uuid": "42c6be3a-7e23-42fb-bbe0-852bd325df21",
    "collapsed": false,
    "jupyter": {
     "outputs_hidden": false
    },
    "papermill": {
     "duration": 0.233383,
     "end_time": "2022-02-02T22:16:10.131683",
     "exception": false,
     "start_time": "2022-02-02T22:16:09.898300",
     "status": "completed"
    },
    "tags": []
   },
   "outputs": [],
   "source": []
  },
  {
   "cell_type": "code",
   "execution_count": 6,
   "id": "c4cc7198",
   "metadata": {
    "_cell_guid": "08390a81-df16-4ea1-9dd8-d8166f26d358",
    "_uuid": "fad93b76-9b09-47fd-90ea-89a6709c94ed",
    "collapsed": false,
    "execution": {
     "iopub.execute_input": "2022-02-02T22:16:10.613494Z",
     "iopub.status.busy": "2022-02-02T22:16:10.603116Z",
     "iopub.status.idle": "2022-02-02T22:16:10.617716Z",
     "shell.execute_reply": "2022-02-02T22:16:10.617292Z",
     "shell.execute_reply.started": "2022-02-01T14:35:11.126412Z"
    },
    "jupyter": {
     "outputs_hidden": false
    },
    "papermill": {
     "duration": 0.249768,
     "end_time": "2022-02-02T22:16:10.617832",
     "exception": false,
     "start_time": "2022-02-02T22:16:10.368064",
     "status": "completed"
    },
    "tags": []
   },
   "outputs": [
    {
     "data": {
      "text/plain": [
       "2    8561\n",
       "1    8232\n",
       "0    6708\n",
       "Name: video_id, dtype: int64"
      ]
     },
     "execution_count": 6,
     "metadata": {},
     "output_type": "execute_result"
    }
   ],
   "source": [
    "train[\"video_id\"].value_counts()"
   ]
  },
  {
   "cell_type": "code",
   "execution_count": 7,
   "id": "097302b7",
   "metadata": {
    "_cell_guid": "889c36fa-3956-47f7-9bef-ddddf9134acf",
    "_uuid": "02108aca-d05a-42e4-82ea-60cf836abcb5",
    "collapsed": false,
    "execution": {
     "iopub.execute_input": "2022-02-02T22:16:11.090138Z",
     "iopub.status.busy": "2022-02-02T22:16:11.089291Z",
     "iopub.status.idle": "2022-02-02T22:16:11.096366Z",
     "shell.execute_reply": "2022-02-02T22:16:11.095910Z",
     "shell.execute_reply.started": "2022-02-02T15:53:13.154542Z"
    },
    "jupyter": {
     "outputs_hidden": false
    },
    "papermill": {
     "duration": 0.244465,
     "end_time": "2022-02-02T22:16:11.096485",
     "exception": false,
     "start_time": "2022-02-02T22:16:10.852020",
     "status": "completed"
    },
    "tags": []
   },
   "outputs": [
    {
     "data": {
      "text/plain": [
       "2820"
      ]
     },
     "execution_count": 7,
     "metadata": {},
     "output_type": "execute_result"
    }
   ],
   "source": [
    "import os\n",
    "len(os.listdir(\"./yolo_data/fold1/images/train\"))"
   ]
  },
  {
   "cell_type": "code",
   "execution_count": 8,
   "id": "2a566fa7",
   "metadata": {
    "_cell_guid": "70384453-46b9-47c2-9638-f2ffd3dbad2a",
    "_uuid": "33684472-3362-4d3b-80ac-c2c3d0a7297b",
    "collapsed": false,
    "execution": {
     "iopub.execute_input": "2022-02-02T22:16:11.859552Z",
     "iopub.status.busy": "2022-02-02T22:16:11.858725Z",
     "iopub.status.idle": "2022-02-02T22:16:11.861166Z",
     "shell.execute_reply": "2022-02-02T22:16:11.860754Z",
     "shell.execute_reply.started": "2022-02-02T15:53:15.093742Z"
    },
    "id": "8SMFbwAnJUqa",
    "jupyter": {
     "outputs_hidden": false
    },
    "papermill": {
     "duration": 0.363757,
     "end_time": "2022-02-02T22:16:11.861295",
     "exception": false,
     "start_time": "2022-02-02T22:16:11.497538",
     "status": "completed"
    },
    "tags": []
   },
   "outputs": [],
   "source": [
    "hyps = '''\n",
    "# YOLOv5 Hyperparameter Evolution Results\n",
    "# Best generation: 4\n",
    "# Last generation: 5\n",
    "#    metrics/precision,       metrics/recall,      metrics/mAP_0.5, metrics/mAP_0.5:0.95,         val/box_loss,         val/obj_loss,         val/cls_loss\n",
    "#              0.16318,              0.11858,             0.064654,             0.023477,             0.039919,            0.0055961,                    0\n",
    "\n",
    "lr0: 0.01048\n",
    "lrf: 0.11894\n",
    "momentum: 0.92909\n",
    "weight_decay: 0.00052\n",
    "warmup_epochs: 3.88107\n",
    "warmup_momentum: 0.57065\n",
    "warmup_bias_lr: 0.10278\n",
    "box: 0.06726\n",
    "cls: 0.46752\n",
    "cls_pw: 1.44082\n",
    "obj: 1.0107\n",
    "obj_pw: 0.803\n",
    "iou_t: 0.2\n",
    "anchor_t: 3.1544\n",
    "fl_gamma: 0.0\n",
    "hsv_h: 0.01506\n",
    "hsv_s: 0.79959\n",
    "hsv_v: 0.49056\n",
    "degrees: 0.0\n",
    "translate: 0.09677\n",
    "scale: 0.48172\n",
    "shear: 0.0\n",
    "perspective: 0.0\n",
    "flipud: 0.0\n",
    "fliplr: 0.5\n",
    "mosaic: 0.95352\n",
    "mixup: 0.0\n",
    "copy_paste: 0.0\n",
    "anchors: 2.55656\n",
    "'''"
   ]
  },
  {
   "cell_type": "code",
   "execution_count": 9,
   "id": "b43af5a0",
   "metadata": {
    "_cell_guid": "2cbd4465-ba45-4059-96f9-16aa7ad52b44",
    "_uuid": "dfd7f2ac-ca00-4917-8a9e-f5dfb273a605",
    "collapsed": false,
    "execution": {
     "iopub.execute_input": "2022-02-02T22:16:12.333457Z",
     "iopub.status.busy": "2022-02-02T22:16:12.332467Z",
     "iopub.status.idle": "2022-02-02T22:16:12.334407Z",
     "shell.execute_reply": "2022-02-02T22:16:12.334813Z",
     "shell.execute_reply.started": "2022-02-02T15:53:15.654672Z"
    },
    "id": "bcpF8aPDJhqU",
    "jupyter": {
     "outputs_hidden": false
    },
    "papermill": {
     "duration": 0.240661,
     "end_time": "2022-02-02T22:16:12.334954",
     "exception": false,
     "start_time": "2022-02-02T22:16:12.094293",
     "status": "completed"
    },
    "tags": []
   },
   "outputs": [],
   "source": [
    "data = '''\n",
    "# Train/val/test sets as 1) dir: path/to/imgs, 2) file: path/to/imgs.txt, or 3) list: [path/to/imgs1, path/to/imgs2, ..]\n",
    "path: ../yolo_data/fold1/  # dataset root dir\n",
    "train: images/train  # train images (relative to 'path') 128 images\n",
    "val: images/val  # val images (relative to 'path') 128 images\n",
    "test:  # test images (optional)\n",
    "\n",
    "# Classes\n",
    "nc: 1  # number of classes\n",
    "names: ['reef']  # class names\n",
    "\n",
    "\n",
    "# Download script/URL (optional)\n",
    "# download: https://ultralytics.com/assets/coco128.zip\n",
    "'''"
   ]
  },
  {
   "cell_type": "code",
   "execution_count": 10,
   "id": "0ca027d7",
   "metadata": {
    "_cell_guid": "22762001-70ca-44e4-8874-140c48f0ea51",
    "_uuid": "00ae3da1-d9f5-4727-a096-902ecb8a224a",
    "collapsed": false,
    "execution": {
     "iopub.execute_input": "2022-02-02T22:16:12.813596Z",
     "iopub.status.busy": "2022-02-02T22:16:12.812721Z",
     "iopub.status.idle": "2022-02-02T22:16:16.806301Z",
     "shell.execute_reply": "2022-02-02T22:16:16.805767Z",
     "shell.execute_reply.started": "2022-02-02T15:53:16.551758Z"
    },
    "id": "f_jBTQiUJ1L2",
    "jupyter": {
     "outputs_hidden": false
    },
    "outputId": "7a115d54-672d-44f6-e182-68f27ad4f09b",
    "papermill": {
     "duration": 4.23508,
     "end_time": "2022-02-02T22:16:16.806435",
     "exception": false,
     "start_time": "2022-02-02T22:16:12.571355",
     "status": "completed"
    },
    "tags": []
   },
   "outputs": [
    {
     "name": "stdout",
     "output_type": "stream",
     "text": [
      "Cloning into 'yolov5-w-f2-mod'...\n",
      "remote: Enumerating objects: 112, done.\u001b[K\n",
      "remote: Counting objects: 100% (112/112), done.\u001b[K\n",
      "remote: Compressing objects: 100% (92/92), done.\u001b[K\n",
      "remote: Total 112 (delta 23), reused 105 (delta 19), pack-reused 0\u001b[K\n",
      "Receiving objects: 100% (112/112), 1.38 MiB | 3.35 MiB/s, done.\n",
      "Resolving deltas: 100% (23/23), done.\n"
     ]
    }
   ],
   "source": [
    "# !git clone https://github.com/ultralytics/yolov5.git\n",
    "!git clone https://github.com/soumya997/yolov5-w-f2-mod.git\n",
    "!mv ./yolov5-w-f2-mod ./yolov5"
   ]
  },
  {
   "cell_type": "code",
   "execution_count": 12,
   "id": "46c130a7",
   "metadata": {
    "_cell_guid": "e75188c4-8d7c-4858-9798-8302913e4116",
    "_uuid": "3ae12128-c534-4d8b-b34a-e21120e98eaa",
    "collapsed": false,
    "execution": {
     "iopub.execute_input": "2022-02-02T22:16:18.458824Z",
     "iopub.status.busy": "2022-02-02T22:16:18.458023Z",
     "iopub.status.idle": "2022-02-02T22:16:18.459990Z",
     "shell.execute_reply": "2022-02-02T22:16:18.460393Z"
    },
    "id": "kuk-vIRyOAfy",
    "jupyter": {
     "outputs_hidden": false
    },
    "outputId": "b39948a5-927c-4fc5-9646-29f839327b85",
    "papermill": {
     "duration": 0.238065,
     "end_time": "2022-02-02T22:16:18.460531",
     "exception": false,
     "start_time": "2022-02-02T22:16:18.222466",
     "status": "completed"
    },
    "tags": []
   },
   "outputs": [],
   "source": [
    "# !touch ./data/reef_f1_naive.yaml\n",
    "# !touch ./data/hyps/hyp.heavy.2.yaml"
   ]
  },
  {
   "cell_type": "code",
   "execution_count": 13,
   "id": "3573361a",
   "metadata": {
    "_cell_guid": "3850324c-89bb-45da-ba80-00014097b87b",
    "_uuid": "4fdb9fa2-2e15-4946-a90a-ae8b4290a156",
    "collapsed": false,
    "execution": {
     "iopub.execute_input": "2022-02-02T22:16:18.948877Z",
     "iopub.status.busy": "2022-02-02T22:16:18.948069Z",
     "iopub.status.idle": "2022-02-02T22:16:18.950667Z",
     "shell.execute_reply": "2022-02-02T22:16:18.950200Z"
    },
    "id": "ItYnlhYWPKWz",
    "jupyter": {
     "outputs_hidden": false
    },
    "outputId": "6f4b5008-1d66-4d79-af0c-9d01a4d1b831",
    "papermill": {
     "duration": 0.250671,
     "end_time": "2022-02-02T22:16:18.950777",
     "exception": false,
     "start_time": "2022-02-02T22:16:18.700106",
     "status": "completed"
    },
    "tags": []
   },
   "outputs": [],
   "source": [
    "# !pwd"
   ]
  },
  {
   "cell_type": "code",
   "execution_count": 14,
   "id": "52d6c2c0",
   "metadata": {
    "_cell_guid": "711f09af-d3d0-4cc9-a889-2be4be4895c3",
    "_uuid": "5666bc38-47a1-41ce-baad-8c17e40eb21f",
    "collapsed": false,
    "execution": {
     "iopub.execute_input": "2022-02-02T22:16:19.436172Z",
     "iopub.status.busy": "2022-02-02T22:16:19.435580Z",
     "iopub.status.idle": "2022-02-02T22:16:19.438470Z",
     "shell.execute_reply": "2022-02-02T22:16:19.438007Z",
     "shell.execute_reply.started": "2022-02-02T15:56:00.696414Z"
    },
    "id": "lmuZ2CrNK8_8",
    "jupyter": {
     "outputs_hidden": false
    },
    "papermill": {
     "duration": 0.244483,
     "end_time": "2022-02-02T22:16:19.438585",
     "exception": false,
     "start_time": "2022-02-02T22:16:19.194102",
     "status": "completed"
    },
    "tags": []
   },
   "outputs": [],
   "source": [
    "with open('./yolov5/data/reef_f1_naive.yaml', 'w') as fp:\n",
    "    fp.write(data)\n",
    "with open('./yolov5/data/hyps/hyp.heavy.2.yaml', 'w') as fp:\n",
    "    fp.write(hyps)"
   ]
  },
  {
   "cell_type": "code",
   "execution_count": 15,
   "id": "d280dcf2",
   "metadata": {
    "_cell_guid": "4f3b2925-4fcc-4362-bd37-dfcd5938c0f3",
    "_uuid": "0d235423-09f2-488e-a43c-a220f3ce82a4",
    "collapsed": false,
    "execution": {
     "iopub.execute_input": "2022-02-02T22:16:19.908709Z",
     "iopub.status.busy": "2022-02-02T22:16:19.908096Z",
     "iopub.status.idle": "2022-02-02T22:16:19.910800Z",
     "shell.execute_reply": "2022-02-02T22:16:19.911194Z",
     "shell.execute_reply.started": "2022-02-02T15:56:00.992044Z"
    },
    "id": "TOf1wrrgM0zb",
    "jupyter": {
     "outputs_hidden": false
    },
    "outputId": "47ccffe9-fb22-4952-b559-e2c5018b2852",
    "papermill": {
     "duration": 0.24067,
     "end_time": "2022-02-02T22:16:19.911340",
     "exception": false,
     "start_time": "2022-02-02T22:16:19.670670",
     "status": "completed"
    },
    "tags": []
   },
   "outputs": [
    {
     "name": "stdout",
     "output_type": "stream",
     "text": [
      "/kaggle/working/yolov5\n"
     ]
    }
   ],
   "source": [
    "%cd yolov5"
   ]
  },
  {
   "cell_type": "code",
   "execution_count": 16,
   "id": "014ffedf",
   "metadata": {
    "_cell_guid": "ae64d33e-66fa-49ff-8238-99741a9e04c7",
    "_uuid": "953846a0-e4a9-42ab-ac49-1a25fac044bf",
    "collapsed": false,
    "execution": {
     "iopub.execute_input": "2022-02-02T22:16:20.385774Z",
     "iopub.status.busy": "2022-02-02T22:16:20.384994Z",
     "iopub.status.idle": "2022-02-02T22:16:21.043675Z",
     "shell.execute_reply": "2022-02-02T22:16:21.043176Z",
     "shell.execute_reply.started": "2022-02-02T15:56:05.797779Z"
    },
    "id": "Kxn8yUnsM3FD",
    "jupyter": {
     "outputs_hidden": false
    },
    "outputId": "64feb896-6b96-49d8-ed2a-1157ee40eb03",
    "papermill": {
     "duration": 0.900258,
     "end_time": "2022-02-02T22:16:21.043805",
     "exception": false,
     "start_time": "2022-02-02T22:16:20.143547",
     "status": "completed"
    },
    "tags": []
   },
   "outputs": [
    {
     "name": "stdout",
     "output_type": "stream",
     "text": [
      "Argoverse.yaml\t      VOC.yaml\t     hyps\t\t xView.yaml\n",
      "GlobalWheat2020.yaml  VisDrone.yaml  images\n",
      "Objects365.yaml       coco.yaml      reef_f1_naive.yaml\n",
      "SKU-110K.yaml\t      coco128.yaml   scripts\n"
     ]
    }
   ],
   "source": [
    "!ls data"
   ]
  },
  {
   "cell_type": "code",
   "execution_count": 17,
   "id": "1d1504fa",
   "metadata": {
    "_cell_guid": "0f4ad550-4148-4acd-9717-ac228cc22c13",
    "_uuid": "31a5a1a3-3b42-4181-8d47-8241b043122b",
    "collapsed": false,
    "execution": {
     "iopub.execute_input": "2022-02-02T22:16:21.529077Z",
     "iopub.status.busy": "2022-02-02T22:16:21.528333Z",
     "iopub.status.idle": "2022-02-03T00:29:34.728299Z",
     "shell.execute_reply": "2022-02-03T00:29:34.727746Z",
     "shell.execute_reply.started": "2022-02-02T15:57:18.170066Z"
    },
    "id": "DT7pyZT8P-Ya",
    "jupyter": {
     "outputs_hidden": false
    },
    "outputId": "0b1102b8-0741-4ba4-e092-e951ff930c7b",
    "papermill": {
     "duration": 7993.440176,
     "end_time": "2022-02-03T00:29:34.728474",
     "exception": false,
     "start_time": "2022-02-02T22:16:21.288298",
     "status": "completed"
    },
    "tags": []
   },
   "outputs": [
    {
     "name": "stdout",
     "output_type": "stream",
     "text": [
      "\u001b[34m\u001b[1mwandb\u001b[0m: (1) Create a W&B account\n",
      "\u001b[34m\u001b[1mwandb\u001b[0m: (2) Use an existing W&B account\n",
      "\u001b[34m\u001b[1mwandb\u001b[0m: (3) Don't visualize my results\n",
      "\u001b[34m\u001b[1mwandb\u001b[0m: Enter your choice: (30 second timeout) \n",
      "\u001b[34m\u001b[1mwandb\u001b[0m: W&B disabled due to login timeout.\n",
      "\u001b[34m\u001b[1mWeights & Biases: \u001b[0mrun 'pip install wandb' to automatically track and visualize YOLOv5 🚀 runs (RECOMMENDED)\n",
      "Downloading https://github.com/ultralytics/yolov5/releases/download/v6.0/yolov5s6.pt to yolov5s6.pt...\n",
      "100%|███████████████████████████████████████| 24.5M/24.5M [00:00<00:00, 220MB/s]\n",
      "\n",
      "\u001b[34m\u001b[1mtrain: \u001b[0mScanning '../yolo_data/fold1/labels/train' images and labels...2820 found\u001b[0m\n",
      "\u001b[34m\u001b[1mval: \u001b[0mScanning '../yolo_data/fold1/labels/val' images and labels...2099 found, 61\u001b[0m\n",
      "\u001b[34m\u001b[1mAutoAnchor: \u001b[0mEvolving anchors with Genetic Algorithm: fitness = 0.9003: 100%|█| 1\u001b[0m\n",
      "       0/6     4.18G   0.09725   0.04898         0         2      1920: 100%|███\n",
      "               Class     Images     Labels          P          R     mAP@.5 mAP@\n",
      "       1/6     4.18G   0.06998   0.03293         0         2      1920: 100%|███\n",
      "               Class     Images     Labels          P          R     mAP@.5 mAP@\n",
      "       2/6     4.18G   0.05492   0.02688         0         3      1920: 100%|███\n",
      "               Class     Images     Labels          P          R     mAP@.5 mAP@\n",
      "       3/6     4.18G   0.04945   0.01943         0         1      1920: 100%|███\n",
      "               Class     Images     Labels          P          R     mAP@.5 mAP@\n",
      "       4/6     4.18G    0.0435   0.01581         0         8      1920: 100%|███\n",
      "               Class     Images     Labels          P          R     mAP@.5 mAP@\n",
      "       5/6     4.18G   0.03572   0.01301         0         5      1920: 100%|███\n",
      "               Class     Images     Labels          P          R     mAP@.5 mAP@\n",
      "       6/6     4.18G   0.03182   0.01175         0         5      1920: 100%|███\n",
      "               Class     Images     Labels          P          R     mAP@.5 mAP@\n",
      "               Class     Images     Labels          P          R     mAP@.5 mAP@\n",
      "Traceback (most recent call last):\n",
      "  File \"train.py\", line 638, in <module>\n",
      "    main(opt)\n",
      "  File \"train.py\", line 535, in main\n",
      "    train(opt.hyp, opt, device, callbacks)\n",
      "  File \"train.py\", line 446, in train\n",
      "    callbacks.run('on_train_end', last, best, plots, epoch, results)\n",
      "  File \"/kaggle/working/yolov5/utils/callbacks.py\", line 78, in run\n",
      "    logger['callback'](*args, **kwargs)\n",
      "  File \"/kaggle/working/yolov5/utils/loggers/__init__.py\", line 146, in on_train_end\n",
      "    plot_results(file=self.save_dir / 'results.csv')  # save results.png\n",
      "  File \"/kaggle/working/yolov5/utils/plots.py\", line 406, in plot_results\n",
      "    assert len(files), f'No results.csv files found in {save_dir.resolve()}, nothing to plot.'\n",
      "AssertionError: No results.csv files found in /kaggle/working/yolov5/runs/train/l6_3600_uflip_vm5_f1, nothing to plot.\n",
      "Exception ignored in: <function _MultiProcessingDataLoaderIter.__del__ at 0x7f7570e83680>\n",
      "Traceback (most recent call last):\n",
      "  File \"/opt/conda/lib/python3.7/site-packages/torch/utils/data/dataloader.py\", line 1328, in __del__\n",
      "  File \"/opt/conda/lib/python3.7/site-packages/torch/utils/data/dataloader.py\", line 1262, in _shutdown_workers\n",
      "AttributeError: 'NoneType' object has no attribute 'python_exit_status'\n",
      "Exception ignored in: <function _MultiProcessingDataLoaderIter.__del__ at 0x7f7570e83680>\n",
      "Traceback (most recent call last):\n",
      "  File \"/opt/conda/lib/python3.7/site-packages/torch/utils/data/dataloader.py\", line 1328, in __del__\n",
      "  File \"/opt/conda/lib/python3.7/site-packages/torch/utils/data/dataloader.py\", line 1262, in _shutdown_workers\n",
      "AttributeError: 'NoneType' object has no attribute 'python_exit_status'\n"
     ]
    }
   ],
   "source": [
    "!python train.py --img 1920 --batch 2 --epochs 7 --data reef_f1_naive.yaml --weights yolov5s6.pt --name l6_3600_uflip_vm5_f1 --hyp data/hyps/hyp.heavy.2.yaml"
   ]
  },
  {
   "cell_type": "code",
   "execution_count": 18,
   "id": "838acb34",
   "metadata": {
    "execution": {
     "iopub.execute_input": "2022-02-03T00:29:49.882595Z",
     "iopub.status.busy": "2022-02-03T00:29:49.881676Z",
     "iopub.status.idle": "2022-02-03T00:29:49.883339Z",
     "shell.execute_reply": "2022-02-03T00:29:49.883827Z"
    },
    "papermill": {
     "duration": 7.167586,
     "end_time": "2022-02-03T00:29:49.883976",
     "exception": false,
     "start_time": "2022-02-03T00:29:42.716390",
     "status": "completed"
    },
    "tags": []
   },
   "outputs": [],
   "source": [
    "# !python train.py --img 1920\\ \n",
    "# --batch 2\\ \n",
    "# --epochs 7\\ \n",
    "# --data reef_f1_naive.yaml\\ \n",
    "# --weights yolov5s6.pt\\\n",
    "# --name base_yolo_5\\ \n",
    "# --hyp data/hyps/hyp.heavy.2.yaml"
   ]
  },
  {
   "cell_type": "code",
   "execution_count": 19,
   "id": "0d5a43ed",
   "metadata": {
    "execution": {
     "iopub.execute_input": "2022-02-03T00:30:04.956608Z",
     "iopub.status.busy": "2022-02-03T00:30:04.955755Z",
     "iopub.status.idle": "2022-02-03T00:30:04.958119Z",
     "shell.execute_reply": "2022-02-03T00:30:04.957607Z"
    },
    "papermill": {
     "duration": 7.610317,
     "end_time": "2022-02-03T00:30:04.958262",
     "exception": false,
     "start_time": "2022-02-03T00:29:57.347945",
     "status": "completed"
    },
    "tags": []
   },
   "outputs": [],
   "source": [
    "# asdlkasnhdljnalsdnlaksndlkasnd hvkvk khvhkv  apijdpajsd apsjdpa asnpduhy7hy7hyn asdnpa apsjdpa asnpdn asdnpa iygiyugb giugu"
   ]
  },
  {
   "cell_type": "markdown",
   "id": "9755a8dd",
   "metadata": {
    "papermill": {
     "duration": 7.302426,
     "end_time": "2022-02-03T00:30:20.596457",
     "exception": false,
     "start_time": "2022-02-03T00:30:13.294031",
     "status": "completed"
    },
    "tags": []
   },
   "source": [
    "# Kaggle dataset API call:"
   ]
  },
  {
   "cell_type": "code",
   "execution_count": 20,
   "id": "dda5fed5",
   "metadata": {
    "execution": {
     "iopub.execute_input": "2022-02-03T00:30:35.553482Z",
     "iopub.status.busy": "2022-02-03T00:30:35.552753Z",
     "iopub.status.idle": "2022-02-03T00:30:36.323192Z",
     "shell.execute_reply": "2022-02-03T00:30:36.323827Z"
    },
    "papermill": {
     "duration": 8.272408,
     "end_time": "2022-02-03T00:30:36.324002",
     "exception": false,
     "start_time": "2022-02-03T00:30:28.051594",
     "status": "completed"
    },
    "tags": []
   },
   "outputs": [
    {
     "name": "stdout",
     "output_type": "stream",
     "text": [
      "rm: cannot remove '/root/.kaggle': No such file or directory\n"
     ]
    }
   ],
   "source": [
    "!rm /root/.kaggle"
   ]
  },
  {
   "cell_type": "code",
   "execution_count": 21,
   "id": "15655c06",
   "metadata": {
    "execution": {
     "iopub.execute_input": "2022-02-03T00:30:51.530258Z",
     "iopub.status.busy": "2022-02-03T00:30:51.529255Z",
     "iopub.status.idle": "2022-02-03T00:30:52.195396Z",
     "shell.execute_reply": "2022-02-03T00:30:52.194836Z",
     "shell.execute_reply.started": "2022-02-02T18:56:39.345247Z"
    },
    "papermill": {
     "duration": 8.166336,
     "end_time": "2022-02-03T00:30:52.195539",
     "exception": false,
     "start_time": "2022-02-03T00:30:44.029203",
     "status": "completed"
    },
    "tags": []
   },
   "outputs": [],
   "source": [
    "!mkdir /root/.kaggle"
   ]
  },
  {
   "cell_type": "code",
   "execution_count": 22,
   "id": "1ed8c10f",
   "metadata": {
    "execution": {
     "iopub.execute_input": "2022-02-03T00:31:06.917592Z",
     "iopub.status.busy": "2022-02-03T00:31:06.916809Z",
     "iopub.status.idle": "2022-02-03T00:31:07.717769Z",
     "shell.execute_reply": "2022-02-03T00:31:07.716796Z"
    },
    "papermill": {
     "duration": 7.978399,
     "end_time": "2022-02-03T00:31:07.717965",
     "exception": false,
     "start_time": "2022-02-03T00:30:59.739566",
     "status": "completed"
    },
    "tags": []
   },
   "outputs": [
    {
     "name": "stdout",
     "output_type": "stream",
     "text": [
      "'/kaggle/input/random-private-files/kaggle.json' -> '/root/.kaggle/kaggle.json'\n"
     ]
    }
   ],
   "source": [
    "!cp -v /kaggle/input/random-private-files/kaggle.json /root/.kaggle"
   ]
  },
  {
   "cell_type": "code",
   "execution_count": 23,
   "id": "960db684",
   "metadata": {
    "execution": {
     "iopub.execute_input": "2022-02-03T00:31:23.203009Z",
     "iopub.status.busy": "2022-02-03T00:31:23.202176Z",
     "iopub.status.idle": "2022-02-03T00:31:24.715297Z",
     "shell.execute_reply": "2022-02-03T00:31:24.714647Z"
    },
    "papermill": {
     "duration": 9.071733,
     "end_time": "2022-02-03T00:31:24.715444",
     "exception": false,
     "start_time": "2022-02-03T00:31:15.643711",
     "status": "completed"
    },
    "tags": []
   },
   "outputs": [
    {
     "name": "stdout",
     "output_type": "stream",
     "text": [
      "Warning: Your Kaggle API key is readable by other users on this system! To fix this, you can run 'chmod 600 /root/.kaggle/kaggle.json'\n",
      "Invalid folder: ./runs/train/base_yolo_5/weights\n"
     ]
    }
   ],
   "source": [
    "!kaggle datasets init -p ./runs/train/base_yolo_5/weights"
   ]
  },
  {
   "cell_type": "code",
   "execution_count": 24,
   "id": "c36539d2",
   "metadata": {
    "_cell_guid": "655b9c11-b596-4359-a8c7-69a47db74dba",
    "_uuid": "e4111edd-c21c-49fd-86da-3249582370e2",
    "collapsed": false,
    "execution": {
     "iopub.execute_input": "2022-02-03T00:31:39.621299Z",
     "iopub.status.busy": "2022-02-03T00:31:39.620721Z",
     "iopub.status.idle": "2022-02-03T00:31:39.752644Z",
     "shell.execute_reply": "2022-02-03T00:31:39.753164Z",
     "shell.execute_reply.started": "2022-02-02T18:57:44.412087Z"
    },
    "jupyter": {
     "outputs_hidden": false
    },
    "papermill": {
     "duration": 7.46027,
     "end_time": "2022-02-03T00:31:39.753459",
     "exception": true,
     "start_time": "2022-02-03T00:31:32.293189",
     "status": "failed"
    },
    "tags": []
   },
   "outputs": [
    {
     "name": "stdout",
     "output_type": "stream",
     "text": [
      "Writing ./runs/train/base_yolo_5/weights/dataset-metadata.json\n"
     ]
    },
    {
     "ename": "FileNotFoundError",
     "evalue": "[Errno 2] No such file or directory: './runs/train/base_yolo_5/weights/dataset-metadata.json'",
     "output_type": "error",
     "traceback": [
      "\u001b[0;31m---------------------------------------------------------------------------\u001b[0m",
      "\u001b[0;31mFileNotFoundError\u001b[0m                         Traceback (most recent call last)",
      "\u001b[0;32m/tmp/ipykernel_23/1086372561.py\u001b[0m in \u001b[0;36m<module>\u001b[0;34m\u001b[0m\n\u001b[0;32m----> 1\u001b[0;31m \u001b[0mget_ipython\u001b[0m\u001b[0;34m(\u001b[0m\u001b[0;34m)\u001b[0m\u001b[0;34m.\u001b[0m\u001b[0mrun_cell_magic\u001b[0m\u001b[0;34m(\u001b[0m\u001b[0;34m'writefile'\u001b[0m\u001b[0;34m,\u001b[0m \u001b[0;34m'./runs/train/base_yolo_5/weights/dataset-metadata.json'\u001b[0m\u001b[0;34m,\u001b[0m \u001b[0;34m'\\n{\\n  \"title\": \"yolov5_train_2_weights\",\\n  \"id\": \"soumya9977/yolov5-train-2-weights\",\\n  \"licenses\": [\\n    {\\n      \"name\": \"CC0-1.0\"\\n    }\\n  ]\\n}\\n'\u001b[0m\u001b[0;34m)\u001b[0m\u001b[0;34m\u001b[0m\u001b[0;34m\u001b[0m\u001b[0m\n\u001b[0m",
      "\u001b[0;32m/opt/conda/lib/python3.7/site-packages/IPython/core/interactiveshell.py\u001b[0m in \u001b[0;36mrun_cell_magic\u001b[0;34m(self, magic_name, line, cell)\u001b[0m\n\u001b[1;32m   2417\u001b[0m             \u001b[0;32mwith\u001b[0m \u001b[0mself\u001b[0m\u001b[0;34m.\u001b[0m\u001b[0mbuiltin_trap\u001b[0m\u001b[0;34m:\u001b[0m\u001b[0;34m\u001b[0m\u001b[0;34m\u001b[0m\u001b[0m\n\u001b[1;32m   2418\u001b[0m                 \u001b[0margs\u001b[0m \u001b[0;34m=\u001b[0m \u001b[0;34m(\u001b[0m\u001b[0mmagic_arg_s\u001b[0m\u001b[0;34m,\u001b[0m \u001b[0mcell\u001b[0m\u001b[0;34m)\u001b[0m\u001b[0;34m\u001b[0m\u001b[0;34m\u001b[0m\u001b[0m\n\u001b[0;32m-> 2419\u001b[0;31m                 \u001b[0mresult\u001b[0m \u001b[0;34m=\u001b[0m \u001b[0mfn\u001b[0m\u001b[0;34m(\u001b[0m\u001b[0;34m*\u001b[0m\u001b[0margs\u001b[0m\u001b[0;34m,\u001b[0m \u001b[0;34m**\u001b[0m\u001b[0mkwargs\u001b[0m\u001b[0;34m)\u001b[0m\u001b[0;34m\u001b[0m\u001b[0;34m\u001b[0m\u001b[0m\n\u001b[0m\u001b[1;32m   2420\u001b[0m             \u001b[0;32mreturn\u001b[0m \u001b[0mresult\u001b[0m\u001b[0;34m\u001b[0m\u001b[0;34m\u001b[0m\u001b[0m\n\u001b[1;32m   2421\u001b[0m \u001b[0;34m\u001b[0m\u001b[0m\n",
      "\u001b[0;32m/opt/conda/lib/python3.7/site-packages/decorator.py\u001b[0m in \u001b[0;36mfun\u001b[0;34m(*args, **kw)\u001b[0m\n\u001b[1;32m    230\u001b[0m             \u001b[0;32mif\u001b[0m \u001b[0;32mnot\u001b[0m \u001b[0mkwsyntax\u001b[0m\u001b[0;34m:\u001b[0m\u001b[0;34m\u001b[0m\u001b[0;34m\u001b[0m\u001b[0m\n\u001b[1;32m    231\u001b[0m                 \u001b[0margs\u001b[0m\u001b[0;34m,\u001b[0m \u001b[0mkw\u001b[0m \u001b[0;34m=\u001b[0m \u001b[0mfix\u001b[0m\u001b[0;34m(\u001b[0m\u001b[0margs\u001b[0m\u001b[0;34m,\u001b[0m \u001b[0mkw\u001b[0m\u001b[0;34m,\u001b[0m \u001b[0msig\u001b[0m\u001b[0;34m)\u001b[0m\u001b[0;34m\u001b[0m\u001b[0;34m\u001b[0m\u001b[0m\n\u001b[0;32m--> 232\u001b[0;31m             \u001b[0;32mreturn\u001b[0m \u001b[0mcaller\u001b[0m\u001b[0;34m(\u001b[0m\u001b[0mfunc\u001b[0m\u001b[0;34m,\u001b[0m \u001b[0;34m*\u001b[0m\u001b[0;34m(\u001b[0m\u001b[0mextras\u001b[0m \u001b[0;34m+\u001b[0m \u001b[0margs\u001b[0m\u001b[0;34m)\u001b[0m\u001b[0;34m,\u001b[0m \u001b[0;34m**\u001b[0m\u001b[0mkw\u001b[0m\u001b[0;34m)\u001b[0m\u001b[0;34m\u001b[0m\u001b[0;34m\u001b[0m\u001b[0m\n\u001b[0m\u001b[1;32m    233\u001b[0m     \u001b[0mfun\u001b[0m\u001b[0;34m.\u001b[0m\u001b[0m__name__\u001b[0m \u001b[0;34m=\u001b[0m \u001b[0mfunc\u001b[0m\u001b[0;34m.\u001b[0m\u001b[0m__name__\u001b[0m\u001b[0;34m\u001b[0m\u001b[0;34m\u001b[0m\u001b[0m\n\u001b[1;32m    234\u001b[0m     \u001b[0mfun\u001b[0m\u001b[0;34m.\u001b[0m\u001b[0m__doc__\u001b[0m \u001b[0;34m=\u001b[0m \u001b[0mfunc\u001b[0m\u001b[0;34m.\u001b[0m\u001b[0m__doc__\u001b[0m\u001b[0;34m\u001b[0m\u001b[0;34m\u001b[0m\u001b[0m\n",
      "\u001b[0;32m/opt/conda/lib/python3.7/site-packages/IPython/core/magic.py\u001b[0m in \u001b[0;36m<lambda>\u001b[0;34m(f, *a, **k)\u001b[0m\n\u001b[1;32m    185\u001b[0m     \u001b[0;31m# but it's overkill for just that one bit of state.\u001b[0m\u001b[0;34m\u001b[0m\u001b[0;34m\u001b[0m\u001b[0;34m\u001b[0m\u001b[0m\n\u001b[1;32m    186\u001b[0m     \u001b[0;32mdef\u001b[0m \u001b[0mmagic_deco\u001b[0m\u001b[0;34m(\u001b[0m\u001b[0marg\u001b[0m\u001b[0;34m)\u001b[0m\u001b[0;34m:\u001b[0m\u001b[0;34m\u001b[0m\u001b[0;34m\u001b[0m\u001b[0m\n\u001b[0;32m--> 187\u001b[0;31m         \u001b[0mcall\u001b[0m \u001b[0;34m=\u001b[0m \u001b[0;32mlambda\u001b[0m \u001b[0mf\u001b[0m\u001b[0;34m,\u001b[0m \u001b[0;34m*\u001b[0m\u001b[0ma\u001b[0m\u001b[0;34m,\u001b[0m \u001b[0;34m**\u001b[0m\u001b[0mk\u001b[0m\u001b[0;34m:\u001b[0m \u001b[0mf\u001b[0m\u001b[0;34m(\u001b[0m\u001b[0;34m*\u001b[0m\u001b[0ma\u001b[0m\u001b[0;34m,\u001b[0m \u001b[0;34m**\u001b[0m\u001b[0mk\u001b[0m\u001b[0;34m)\u001b[0m\u001b[0;34m\u001b[0m\u001b[0;34m\u001b[0m\u001b[0m\n\u001b[0m\u001b[1;32m    188\u001b[0m \u001b[0;34m\u001b[0m\u001b[0m\n\u001b[1;32m    189\u001b[0m         \u001b[0;32mif\u001b[0m \u001b[0mcallable\u001b[0m\u001b[0;34m(\u001b[0m\u001b[0marg\u001b[0m\u001b[0;34m)\u001b[0m\u001b[0;34m:\u001b[0m\u001b[0;34m\u001b[0m\u001b[0;34m\u001b[0m\u001b[0m\n",
      "\u001b[0;32m/opt/conda/lib/python3.7/site-packages/IPython/core/magics/osm.py\u001b[0m in \u001b[0;36mwritefile\u001b[0;34m(self, line, cell)\u001b[0m\n\u001b[1;32m    854\u001b[0m \u001b[0;34m\u001b[0m\u001b[0m\n\u001b[1;32m    855\u001b[0m         \u001b[0mmode\u001b[0m \u001b[0;34m=\u001b[0m \u001b[0;34m'a'\u001b[0m \u001b[0;32mif\u001b[0m \u001b[0margs\u001b[0m\u001b[0;34m.\u001b[0m\u001b[0mappend\u001b[0m \u001b[0;32melse\u001b[0m \u001b[0;34m'w'\u001b[0m\u001b[0;34m\u001b[0m\u001b[0;34m\u001b[0m\u001b[0m\n\u001b[0;32m--> 856\u001b[0;31m         \u001b[0;32mwith\u001b[0m \u001b[0mio\u001b[0m\u001b[0;34m.\u001b[0m\u001b[0mopen\u001b[0m\u001b[0;34m(\u001b[0m\u001b[0mfilename\u001b[0m\u001b[0;34m,\u001b[0m \u001b[0mmode\u001b[0m\u001b[0;34m,\u001b[0m \u001b[0mencoding\u001b[0m\u001b[0;34m=\u001b[0m\u001b[0;34m'utf-8'\u001b[0m\u001b[0;34m)\u001b[0m \u001b[0;32mas\u001b[0m \u001b[0mf\u001b[0m\u001b[0;34m:\u001b[0m\u001b[0;34m\u001b[0m\u001b[0;34m\u001b[0m\u001b[0m\n\u001b[0m\u001b[1;32m    857\u001b[0m             \u001b[0mf\u001b[0m\u001b[0;34m.\u001b[0m\u001b[0mwrite\u001b[0m\u001b[0;34m(\u001b[0m\u001b[0mcell\u001b[0m\u001b[0;34m)\u001b[0m\u001b[0;34m\u001b[0m\u001b[0;34m\u001b[0m\u001b[0m\n",
      "\u001b[0;31mFileNotFoundError\u001b[0m: [Errno 2] No such file or directory: './runs/train/base_yolo_5/weights/dataset-metadata.json'"
     ]
    }
   ],
   "source": [
    "%%writefile ./runs/train/base_yolo_5/weights/dataset-metadata.json\n",
    "\n",
    "{\n",
    "  \"title\": \"yolov5_train_2_weights\",\n",
    "  \"id\": \"soumya9977/yolov5-train-2-weights\",\n",
    "  \"licenses\": [\n",
    "    {\n",
    "      \"name\": \"CC0-1.0\"\n",
    "    }\n",
    "  ]\n",
    "}"
   ]
  },
  {
   "cell_type": "code",
   "execution_count": null,
   "id": "f805c865",
   "metadata": {
    "_cell_guid": "901d1e7f-0b94-4675-a4f1-0e59fb03c269",
    "_uuid": "cf8d4f61-f1fd-4b36-9304-01be61e24ac5",
    "collapsed": false,
    "execution": {
     "iopub.execute_input": "2022-02-02T18:58:10.544729Z",
     "iopub.status.busy": "2022-02-02T18:58:10.544139Z",
     "iopub.status.idle": "2022-02-02T18:58:17.423677Z",
     "shell.execute_reply": "2022-02-02T18:58:17.422848Z",
     "shell.execute_reply.started": "2022-02-02T18:58:10.544688Z"
    },
    "jupyter": {
     "outputs_hidden": false
    },
    "papermill": {
     "duration": null,
     "end_time": null,
     "exception": null,
     "start_time": null,
     "status": "pending"
    },
    "tags": []
   },
   "outputs": [],
   "source": [
    "!kaggle datasets create -p ./runs/train/base_yolo_5/weights"
   ]
  },
  {
   "cell_type": "code",
   "execution_count": null,
   "id": "5f07208e",
   "metadata": {
    "execution": {
     "iopub.execute_input": "2022-02-02T19:02:58.067304Z",
     "iopub.status.busy": "2022-02-02T19:02:58.066586Z",
     "iopub.status.idle": "2022-02-02T19:03:01.954749Z",
     "shell.execute_reply": "2022-02-02T19:03:01.953893Z",
     "shell.execute_reply.started": "2022-02-02T19:02:58.067266Z"
    },
    "papermill": {
     "duration": null,
     "end_time": null,
     "exception": null,
     "start_time": null,
     "status": "pending"
    },
    "tags": []
   },
   "outputs": [],
   "source": [
    "# !kaggle datasets version -p ./runs/train/l6_3600_uflip_vm5_f1/weights -m \"adding model weights\""
   ]
  },
  {
   "cell_type": "code",
   "execution_count": null,
   "id": "a74dcc39",
   "metadata": {
    "execution": {
     "iopub.execute_input": "2022-02-02T19:02:32.872621Z",
     "iopub.status.busy": "2022-02-02T19:02:32.872278Z",
     "iopub.status.idle": "2022-02-02T19:02:33.525219Z",
     "shell.execute_reply": "2022-02-02T19:02:33.524388Z",
     "shell.execute_reply.started": "2022-02-02T19:02:32.872588Z"
    },
    "papermill": {
     "duration": null,
     "end_time": null,
     "exception": null,
     "start_time": null,
     "status": "pending"
    },
    "tags": []
   },
   "outputs": [],
   "source": [
    "# !cp -v ./runs/train/l6_3600_uflip_vm5_f1/dataset-metadata.json ./runs/train/l6_3600_uflip_vm5_f1/weights"
   ]
  },
  {
   "cell_type": "code",
   "execution_count": null,
   "id": "19890207",
   "metadata": {
    "_cell_guid": "c83d4172-5da3-4c3e-a3e1-bf662f47a91c",
    "_uuid": "a82be8f7-f320-4a58-b049-462a5a896f06",
    "collapsed": false,
    "execution": {
     "iopub.execute_input": "2022-02-02T15:57:08.623162Z",
     "iopub.status.busy": "2022-02-02T15:57:08.622533Z",
     "iopub.status.idle": "2022-02-02T15:57:09.285077Z",
     "shell.execute_reply": "2022-02-02T15:57:09.284066Z",
     "shell.execute_reply.started": "2022-02-02T15:57:08.623121Z"
    },
    "jupyter": {
     "outputs_hidden": false
    },
    "papermill": {
     "duration": null,
     "end_time": null,
     "exception": null,
     "start_time": null,
     "status": "pending"
    },
    "tags": []
   },
   "outputs": [],
   "source": [
    "!ls -GFlash --color ."
   ]
  },
  {
   "cell_type": "markdown",
   "id": "e29f2512",
   "metadata": {
    "papermill": {
     "duration": null,
     "end_time": null,
     "exception": null,
     "start_time": null,
     "status": "pending"
    },
    "tags": []
   },
   "source": [
    "# copying to the working:"
   ]
  },
  {
   "cell_type": "code",
   "execution_count": null,
   "id": "73694461",
   "metadata": {
    "_cell_guid": "70294ae6-a764-45d8-8709-70f31438c39e",
    "_uuid": "2e4ace02-eeb0-4902-b4de-7712da8b53bc",
    "collapsed": false,
    "jupyter": {
     "outputs_hidden": false
    },
    "papermill": {
     "duration": null,
     "end_time": null,
     "exception": null,
     "start_time": null,
     "status": "pending"
    },
    "tags": []
   },
   "outputs": [],
   "source": [
    "!cp -R ./runs/train/base_yolo_5 /kaggle/working"
   ]
  },
  {
   "cell_type": "code",
   "execution_count": null,
   "id": "3a09574f",
   "metadata": {
    "_cell_guid": "dfaea3a7-3de8-4931-8497-662b8b89d77d",
    "_uuid": "152491ad-2fe1-484e-bb16-b32dc4707660",
    "collapsed": false,
    "jupyter": {
     "outputs_hidden": false
    },
    "papermill": {
     "duration": null,
     "end_time": null,
     "exception": null,
     "start_time": null,
     "status": "pending"
    },
    "tags": []
   },
   "outputs": [],
   "source": []
  }
 ],
 "metadata": {
  "kernelspec": {
   "display_name": "Python 3",
   "language": "python",
   "name": "python3"
  },
  "language_info": {
   "codemirror_mode": {
    "name": "ipython",
    "version": 3
   },
   "file_extension": ".py",
   "mimetype": "text/x-python",
   "name": "python",
   "nbconvert_exporter": "python",
   "pygments_lexer": "ipython3",
   "version": "3.7.3"
  },
  "papermill": {
   "default_parameters": {},
   "duration": 8268.7519,
   "end_time": "2022-02-03T00:31:48.296198",
   "environment_variables": {},
   "exception": true,
   "input_path": "__notebook__.ipynb",
   "output_path": "__notebook__.ipynb",
   "parameters": {},
   "start_time": "2022-02-02T22:13:59.544298",
   "version": "2.3.3"
  }
 },
 "nbformat": 4,
 "nbformat_minor": 5
}
