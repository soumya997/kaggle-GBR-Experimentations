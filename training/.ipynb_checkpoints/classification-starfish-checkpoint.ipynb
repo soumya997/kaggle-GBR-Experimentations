{
 "cells": [
  {
   "cell_type": "code",
   "execution_count": 1,
   "id": "1e3687a2",
   "metadata": {
    "_cell_guid": "b1076dfc-b9ad-4769-8c92-a6c4dae69d19",
    "_uuid": "8f2839f25d086af736a60e9eeb907d3b93b6e0e5",
    "execution": {
     "iopub.execute_input": "2022-02-09T23:11:37.635864Z",
     "iopub.status.busy": "2022-02-09T23:11:37.634334Z",
     "iopub.status.idle": "2022-02-09T23:11:41.363153Z",
     "shell.execute_reply": "2022-02-09T23:11:41.362533Z",
     "shell.execute_reply.started": "2022-02-09T23:08:02.131404Z"
    },
    "papermill": {
     "duration": 3.752369,
     "end_time": "2022-02-09T23:11:41.363314",
     "exception": false,
     "start_time": "2022-02-09T23:11:37.610945",
     "status": "completed"
    },
    "tags": []
   },
   "outputs": [],
   "source": [
    "import numpy as np\n",
    "import pandas as pd\n",
    "import os\n",
    "import cv2\n",
    "import torch\n",
    "import matplotlib.pyplot as plt\n",
    "from torch.utils.data import Dataset, DataLoader\n",
    "from torchvision import transforms, utils\n",
    "from sklearn.model_selection import train_test_split as split\n",
    "from tqdm.notebook import tqdm\n",
    "import pickle\n",
    "import random\n",
    "from albumentations.pytorch import ToTensorV2\n",
    "import albumentations as A\n",
    "import torchvision # torch package for vision related things\n",
    "import torch.nn.functional as F  # Parameterless functions, like (some) activation functions\n",
    "# import torchvision.datasets as datasets  # Standard datasets\n",
    "import torchvision.transforms as transforms  # Transformations we can perform on our dataset for augmentation\n",
    "from torch import optim  # For optimizers like SGD, Adam, etc.\n",
    "from torch import nn\n",
    "import torchvision.transforms as T\n",
    "from albumentations.pytorch.transforms import ToTensorV2\n",
    "import time"
   ]
  },
  {
   "cell_type": "code",
   "execution_count": 2,
   "id": "c6f8c451",
   "metadata": {
    "execution": {
     "iopub.execute_input": "2022-02-09T23:11:41.406806Z",
     "iopub.status.busy": "2022-02-09T23:11:41.402997Z",
     "iopub.status.idle": "2022-02-09T23:11:41.467577Z",
     "shell.execute_reply": "2022-02-09T23:11:41.466859Z",
     "shell.execute_reply.started": "2022-02-09T23:08:05.845715Z"
    },
    "papermill": {
     "duration": 0.085138,
     "end_time": "2022-02-09T23:11:41.467703",
     "exception": false,
     "start_time": "2022-02-09T23:11:41.382565",
     "status": "completed"
    },
    "tags": []
   },
   "outputs": [],
   "source": [
    "# Set Seed\n",
    "# https://www.kaggle.com/sarques/intel-image-classification-using-pytorch\n",
    "def set_seed(seed = 1234):\n",
    "    '''Sets the seed of the entire notebook so results are the same every time we run.\n",
    "    This is for REPRODUCIBILITY.'''\n",
    "    np.random.seed(seed)\n",
    "#     random.seed(seed)\n",
    "    torch.manual_seed(seed)\n",
    "    if torch.cuda.is_available(): \n",
    "        torch.cuda.manual_seed(seed)\n",
    "        torch.cuda.manual_seed_all(seed) # gpu vars\n",
    "    if torch.backends.cudnn.is_available:\n",
    "        torch.backends.cudnn.deterministic = True\n",
    "        torch.backends.cudnn.benchmark = False\n",
    "    # Set a fixed value for the hash seed\n",
    "    os.environ['PYTHONHASHSEED'] = str(seed)\n",
    "    \n",
    "set_seed(42)"
   ]
  },
  {
   "cell_type": "code",
   "execution_count": 3,
   "id": "ae91ed6b",
   "metadata": {
    "execution": {
     "iopub.execute_input": "2022-02-09T23:11:41.514430Z",
     "iopub.status.busy": "2022-02-09T23:11:41.513710Z",
     "iopub.status.idle": "2022-02-09T23:11:41.516843Z",
     "shell.execute_reply": "2022-02-09T23:11:41.517278Z",
     "shell.execute_reply.started": "2022-02-09T23:08:05.897788Z"
    },
    "papermill": {
     "duration": 0.029931,
     "end_time": "2022-02-09T23:11:41.517402",
     "exception": false,
     "start_time": "2022-02-09T23:11:41.487471",
     "status": "completed"
    },
    "tags": []
   },
   "outputs": [
    {
     "data": {
      "text/plain": [
       "device(type='cuda', index=0)"
      ]
     },
     "execution_count": 3,
     "metadata": {},
     "output_type": "execute_result"
    }
   ],
   "source": [
    "num_epochs = 20\n",
    "num_classes = 2\n",
    "batch_size = 32\n",
    "learning_rate = 0.001\n",
    "in_channels = 3\n",
    "\n",
    "device = torch.device('cuda:0' if torch.cuda.is_available() else 'cpu')\n",
    "device"
   ]
  },
  {
   "cell_type": "code",
   "execution_count": 4,
   "id": "7550c3d5",
   "metadata": {
    "_cell_guid": "b1076dfc-b9ad-4769-8c92-a6c4dae69d19",
    "_uuid": "8f2839f25d086af736a60e9eeb907d3b93b6e0e5",
    "execution": {
     "iopub.execute_input": "2022-02-09T23:11:41.560021Z",
     "iopub.status.busy": "2022-02-09T23:11:41.557641Z",
     "iopub.status.idle": "2022-02-09T23:11:42.450664Z",
     "shell.execute_reply": "2022-02-09T23:11:42.450242Z",
     "shell.execute_reply.started": "2022-02-09T23:08:05.915309Z"
    },
    "papermill": {
     "duration": 0.914969,
     "end_time": "2022-02-09T23:11:42.450791",
     "exception": false,
     "start_time": "2022-02-09T23:11:41.535822",
     "status": "completed"
    },
    "tags": []
   },
   "outputs": [
    {
     "data": {
      "text/html": [
       "<div>\n",
       "<style scoped>\n",
       "    .dataframe tbody tr th:only-of-type {\n",
       "        vertical-align: middle;\n",
       "    }\n",
       "\n",
       "    .dataframe tbody tr th {\n",
       "        vertical-align: top;\n",
       "    }\n",
       "\n",
       "    .dataframe thead th {\n",
       "        text-align: right;\n",
       "    }\n",
       "</style>\n",
       "<table border=\"1\" class=\"dataframe\">\n",
       "  <thead>\n",
       "    <tr style=\"text-align: right;\">\n",
       "      <th></th>\n",
       "      <th>img_path</th>\n",
       "      <th>labels</th>\n",
       "    </tr>\n",
       "  </thead>\n",
       "  <tbody>\n",
       "    <tr>\n",
       "      <th>0</th>\n",
       "      <td>/kaggle/input/binary-cropped-crown-of-thorns-d...</td>\n",
       "      <td>0</td>\n",
       "    </tr>\n",
       "    <tr>\n",
       "      <th>1</th>\n",
       "      <td>/kaggle/input/binary-cropped-crown-of-thorns-d...</td>\n",
       "      <td>0</td>\n",
       "    </tr>\n",
       "    <tr>\n",
       "      <th>2</th>\n",
       "      <td>/kaggle/input/binary-cropped-crown-of-thorns-d...</td>\n",
       "      <td>0</td>\n",
       "    </tr>\n",
       "    <tr>\n",
       "      <th>3</th>\n",
       "      <td>/kaggle/input/binary-cropped-crown-of-thorns-d...</td>\n",
       "      <td>0</td>\n",
       "    </tr>\n",
       "    <tr>\n",
       "      <th>4</th>\n",
       "      <td>/kaggle/input/binary-cropped-crown-of-thorns-d...</td>\n",
       "      <td>0</td>\n",
       "    </tr>\n",
       "  </tbody>\n",
       "</table>\n",
       "</div>"
      ],
      "text/plain": [
       "                                            img_path  labels\n",
       "0  /kaggle/input/binary-cropped-crown-of-thorns-d...       0\n",
       "1  /kaggle/input/binary-cropped-crown-of-thorns-d...       0\n",
       "2  /kaggle/input/binary-cropped-crown-of-thorns-d...       0\n",
       "3  /kaggle/input/binary-cropped-crown-of-thorns-d...       0\n",
       "4  /kaggle/input/binary-cropped-crown-of-thorns-d...       0"
      ]
     },
     "execution_count": 4,
     "metadata": {},
     "output_type": "execute_result"
    }
   ],
   "source": [
    "DIR = \"/kaggle/input/binary-cropped-crown-of-thorns-dataset/\"\n",
    "cot_img = [DIR + \"cots_crops/\" + i for i in os.listdir(DIR+\"cots_crops\")]\n",
    "nocot_img = [DIR + \"notcots_crops/\" + i for i in os.listdir(DIR+\"notcots_crops\")]\n",
    "\n",
    "cot_lab = list(np.zeros((len(cot_img),)).astype(np.int8)) # cot = 0\n",
    "# cot_lab\n",
    "nocot_lab = list(np.ones((len(nocot_img),)).astype(np.int8)) # nocot = 1\n",
    "\n",
    "imgs = cot_img + nocot_img\n",
    "labels = cot_lab + nocot_lab\n",
    "\n",
    "# len(labels),len(imgs)\n",
    "df_dict = {\"img_path\": imgs, \"labels\":labels}\n",
    "df = pd.DataFrame(df_dict)\n",
    "df.head()"
   ]
  },
  {
   "cell_type": "code",
   "execution_count": 5,
   "id": "95803911",
   "metadata": {
    "execution": {
     "iopub.execute_input": "2022-02-09T23:11:42.492542Z",
     "iopub.status.busy": "2022-02-09T23:11:42.491859Z",
     "iopub.status.idle": "2022-02-09T23:11:42.615042Z",
     "shell.execute_reply": "2022-02-09T23:11:42.614562Z",
     "shell.execute_reply.started": "2022-02-09T23:08:06.451786Z"
    },
    "papermill": {
     "duration": 0.145563,
     "end_time": "2022-02-09T23:11:42.615163",
     "exception": false,
     "start_time": "2022-02-09T23:11:42.469600",
     "status": "completed"
    },
    "tags": []
   },
   "outputs": [],
   "source": [
    "df.to_csv(\"bin_cropped_cots.csv\")"
   ]
  },
  {
   "cell_type": "code",
   "execution_count": 6,
   "id": "388e95b9",
   "metadata": {
    "execution": {
     "iopub.execute_input": "2022-02-09T23:11:42.663156Z",
     "iopub.status.busy": "2022-02-09T23:11:42.662489Z",
     "iopub.status.idle": "2022-02-09T23:11:42.665053Z",
     "shell.execute_reply": "2022-02-09T23:11:42.665456Z",
     "shell.execute_reply.started": "2022-02-09T23:08:06.578687Z"
    },
    "papermill": {
     "duration": 0.031428,
     "end_time": "2022-02-09T23:11:42.665573",
     "exception": false,
     "start_time": "2022-02-09T23:11:42.634145",
     "status": "completed"
    },
    "tags": []
   },
   "outputs": [
    {
     "data": {
      "text/plain": [
       "0    11898\n",
       "1    11898\n",
       "Name: labels, dtype: int64"
      ]
     },
     "execution_count": 6,
     "metadata": {},
     "output_type": "execute_result"
    }
   ],
   "source": [
    "df[\"labels\"].value_counts()"
   ]
  },
  {
   "cell_type": "code",
   "execution_count": 7,
   "id": "c30e21c3",
   "metadata": {
    "execution": {
     "iopub.execute_input": "2022-02-09T23:11:42.707942Z",
     "iopub.status.busy": "2022-02-09T23:11:42.707132Z",
     "iopub.status.idle": "2022-02-09T23:11:42.709841Z",
     "shell.execute_reply": "2022-02-09T23:11:42.710345Z",
     "shell.execute_reply.started": "2022-02-09T23:08:06.594369Z"
    },
    "papermill": {
     "duration": 0.026184,
     "end_time": "2022-02-09T23:11:42.710461",
     "exception": false,
     "start_time": "2022-02-09T23:11:42.684277",
     "status": "completed"
    },
    "tags": []
   },
   "outputs": [
    {
     "data": {
      "text/plain": [
       "numpy.int8"
      ]
     },
     "execution_count": 7,
     "metadata": {},
     "output_type": "execute_result"
    }
   ],
   "source": [
    "type(df[\"labels\"].iloc[3])"
   ]
  },
  {
   "cell_type": "code",
   "execution_count": 8,
   "id": "fd9d0cac",
   "metadata": {
    "execution": {
     "iopub.execute_input": "2022-02-09T23:11:42.751229Z",
     "iopub.status.busy": "2022-02-09T23:11:42.750426Z",
     "iopub.status.idle": "2022-02-09T23:11:42.757382Z",
     "shell.execute_reply": "2022-02-09T23:11:42.756944Z",
     "shell.execute_reply.started": "2022-02-09T23:08:06.604085Z"
    },
    "papermill": {
     "duration": 0.028061,
     "end_time": "2022-02-09T23:11:42.757483",
     "exception": false,
     "start_time": "2022-02-09T23:11:42.729422",
     "status": "completed"
    },
    "tags": []
   },
   "outputs": [],
   "source": [
    "class cot_Dataset(Dataset):\n",
    "    \n",
    "    def __init__(self, df, transform=None):\n",
    "\n",
    "        self.df = df\n",
    "        self.transform = transform\n",
    "        \n",
    "    def __len__(self):\n",
    "\n",
    "        return len(self.df)\n",
    "    \n",
    "    def __getitem__(self, index):\n",
    "\n",
    "        img_path = self.df[\"img_path\"].iloc[index]\n",
    "#         print(img_path)\n",
    "        image = cv2.imread(img_path)\n",
    "#         print(image.shape)\n",
    "        image = cv2.cvtColor(image,cv2.COLOR_BGR2RGB)\n",
    "        \n",
    "        y_label = torch.tensor(int(self.df[\"labels\"].iloc[index]))\n",
    "\n",
    "        if self.transform:\n",
    "            image = self.transform(image)\n",
    "#             transformed = self.transform(image=image)\n",
    "#             image = transformed[\"image\"]\n",
    "        \n",
    "        return image, y_label"
   ]
  },
  {
   "cell_type": "code",
   "execution_count": 9,
   "id": "5af80b1c",
   "metadata": {
    "execution": {
     "iopub.execute_input": "2022-02-09T23:11:42.799600Z",
     "iopub.status.busy": "2022-02-09T23:11:42.798763Z",
     "iopub.status.idle": "2022-02-09T23:11:42.803120Z",
     "shell.execute_reply": "2022-02-09T23:11:42.803536Z",
     "shell.execute_reply.started": "2022-02-09T23:08:06.613804Z"
    },
    "papermill": {
     "duration": 0.025754,
     "end_time": "2022-02-09T23:11:42.803650",
     "exception": false,
     "start_time": "2022-02-09T23:11:42.777896",
     "status": "completed"
    },
    "tags": []
   },
   "outputs": [],
   "source": [
    "def get_transform():\n",
    "    return T.Compose([\n",
    "        T.ToTensor(),\n",
    "        T.Resize((50,50))\n",
    "    ])\n",
    "\n",
    "# def get_transform():\n",
    "#     return A.Compose([\n",
    "#         ToTensorV2(1.0),\n",
    "#         A.Resize(50,50,p=1.0)\n",
    "#     ])"
   ]
  },
  {
   "cell_type": "code",
   "execution_count": 10,
   "id": "ffe952e6",
   "metadata": {
    "execution": {
     "iopub.execute_input": "2022-02-09T23:11:42.847789Z",
     "iopub.status.busy": "2022-02-09T23:11:42.847280Z",
     "iopub.status.idle": "2022-02-09T23:11:42.854268Z",
     "shell.execute_reply": "2022-02-09T23:11:42.853798Z",
     "shell.execute_reply.started": "2022-02-09T23:08:06.625880Z"
    },
    "papermill": {
     "duration": 0.031397,
     "end_time": "2022-02-09T23:11:42.854370",
     "exception": false,
     "start_time": "2022-02-09T23:11:42.822973",
     "status": "completed"
    },
    "tags": []
   },
   "outputs": [],
   "source": [
    "train_df, val_df = split(df,test_size=0.33, random_state=42)\n",
    "\n",
    "train_ds = cot_Dataset(train_df,get_transform())\n",
    "val_ds = cot_Dataset(val_df,get_transform())\n",
    "\n",
    "# val_df.shape\n",
    "# train_df.head()"
   ]
  },
  {
   "cell_type": "code",
   "execution_count": 11,
   "id": "2feeb37c",
   "metadata": {
    "execution": {
     "iopub.execute_input": "2022-02-09T23:11:42.896430Z",
     "iopub.status.busy": "2022-02-09T23:11:42.895804Z",
     "iopub.status.idle": "2022-02-09T23:11:43.163500Z",
     "shell.execute_reply": "2022-02-09T23:11:43.164147Z",
     "shell.execute_reply.started": "2022-02-09T23:08:06.637966Z"
    },
    "papermill": {
     "duration": 0.291016,
     "end_time": "2022-02-09T23:11:43.164302",
     "exception": false,
     "start_time": "2022-02-09T23:11:42.873286",
     "status": "completed"
    },
    "tags": []
   },
   "outputs": [
    {
     "name": "stdout",
     "output_type": "stream",
     "text": [
      "tensor(0)\n"
     ]
    },
    {
     "data": {
      "text/plain": [
       "<matplotlib.image.AxesImage at 0x7fc5e9892d50>"
      ]
     },
     "execution_count": 11,
     "metadata": {},
     "output_type": "execute_result"
    },
    {
     "data": {
      "image/png": "[encoded data removed]",
      "text/plain": [
       "<Figure size 432x288 with 1 Axes>"
      ]
     },
     "metadata": {
      "needs_background": "light"
     },
     "output_type": "display_data"
    }
   ],
   "source": [
    "img, lab = train_ds[12]\n",
    "print(lab)\n",
    "plt.imshow(img.permute(2,1,0))"
   ]
  },
  {
   "cell_type": "code",
   "execution_count": 12,
   "id": "56e1fb0c",
   "metadata": {
    "execution": {
     "iopub.execute_input": "2022-02-09T23:11:43.209904Z",
     "iopub.status.busy": "2022-02-09T23:11:43.209256Z",
     "iopub.status.idle": "2022-02-09T23:11:43.214678Z",
     "shell.execute_reply": "2022-02-09T23:11:43.215097Z",
     "shell.execute_reply.started": "2022-02-09T23:08:06.902935Z"
    },
    "papermill": {
     "duration": 0.030283,
     "end_time": "2022-02-09T23:11:43.215232",
     "exception": false,
     "start_time": "2022-02-09T23:11:43.184949",
     "status": "completed"
    },
    "tags": []
   },
   "outputs": [
    {
     "name": "stderr",
     "output_type": "stream",
     "text": [
      "/opt/conda/lib/python3.7/site-packages/torch/utils/data/dataloader.py:481: UserWarning: This DataLoader will create 4 worker processes in total. Our suggested max number of worker in current system is 2, which is smaller than what this DataLoader is going to create. Please be aware that excessive worker creation might get DataLoader running slow or even freeze, lower the worker number to avoid potential slowness/freeze if necessary.\n",
      "  cpuset_checked))\n"
     ]
    }
   ],
   "source": [
    "train_dl = DataLoader(dataset = train_ds, batch_size = batch_size, shuffle=True, num_workers=4)\n",
    "val_dl = DataLoader(dataset = val_ds, batch_size = batch_size, shuffle=True, num_workers=4)"
   ]
  },
  {
   "cell_type": "markdown",
   "id": "d7e3d768",
   "metadata": {
    "papermill": {
     "duration": 0.020628,
     "end_time": "2022-02-09T23:11:43.256342",
     "exception": false,
     "start_time": "2022-02-09T23:11:43.235714",
     "status": "completed"
    },
    "tags": []
   },
   "source": [
    "# get image norm values:"
   ]
  },
  {
   "cell_type": "code",
   "execution_count": 13,
   "id": "de80c3b2",
   "metadata": {
    "execution": {
     "iopub.execute_input": "2022-02-09T23:11:43.301760Z",
     "iopub.status.busy": "2022-02-09T23:11:43.301147Z",
     "iopub.status.idle": "2022-02-09T23:11:43.303361Z",
     "shell.execute_reply": "2022-02-09T23:11:43.303730Z",
     "shell.execute_reply.started": "2022-02-09T23:08:06.913468Z"
    },
    "papermill": {
     "duration": 0.026955,
     "end_time": "2022-02-09T23:11:43.303878",
     "exception": false,
     "start_time": "2022-02-09T23:11:43.276923",
     "status": "completed"
    },
    "tags": []
   },
   "outputs": [],
   "source": [
    "# mean=[0.485, 0.456, 0.406],\n",
    "# std=[0.229, 0.224, 0.225]\n",
    "\n",
    "# norm_ds = cot_Dataset(df)\n",
    "# norm_dl = DataLoader(dataset = norm_ds, batch_size = 1, shuffle=True, num_workers=4)\n",
    "\n",
    "# transform = A.Compose([\n",
    "#      ToTensorV2(p=1.0)\n",
    "# ])\n",
    "\n",
    "# mean_list = []\n",
    "# std_list = []\n",
    "# for i in tqdm(range(len(norm_ds))):\n",
    "#     img = norm_ds[i][0]\n",
    "    \n",
    "#     transformed = transform(image=img)[\"image\"] # shape [chn,height,width]\n",
    "#     mean, std = transformed.mean([0,2]).tolist(), transformed.std([0,2]).tolist()\n",
    "# #     print(transformed.mean([0,2]).shape)\n",
    "# #     break\n",
    "#     mean_list.append(mean)\n",
    "#     std_list.append(std)\n",
    "    \n",
    "# # print mean and std\n",
    "# print(\"mean and std before normalize:\")\n",
    "# print(\"Mean of the image:\", np.mean(mean_list,axis=0))\n",
    "# print(\"Std of the image:\", np.mean(std_list,axis=0))"
   ]
  },
  {
   "cell_type": "code",
   "execution_count": 14,
   "id": "41f41396",
   "metadata": {
    "execution": {
     "iopub.execute_input": "2022-02-09T23:11:43.348937Z",
     "iopub.status.busy": "2022-02-09T23:11:43.348421Z",
     "iopub.status.idle": "2022-02-09T23:11:43.352039Z",
     "shell.execute_reply": "2022-02-09T23:11:43.351566Z",
     "shell.execute_reply.started": "2022-02-09T23:08:06.923290Z"
    },
    "papermill": {
     "duration": 0.027509,
     "end_time": "2022-02-09T23:11:43.352147",
     "exception": false,
     "start_time": "2022-02-09T23:11:43.324638",
     "status": "completed"
    },
    "tags": []
   },
   "outputs": [],
   "source": [
    "# size_set = set()\n",
    "# for i,x in tqdm(df.iterrows()):\n",
    "#     img_path = x.img_path\n",
    "#     size_set.add(plt.imread(img_path).shape)\n",
    "# print(size_set)"
   ]
  },
  {
   "cell_type": "code",
   "execution_count": 15,
   "id": "7aba6f62",
   "metadata": {
    "execution": {
     "iopub.execute_input": "2022-02-09T23:11:43.397434Z",
     "iopub.status.busy": "2022-02-09T23:11:43.396939Z",
     "iopub.status.idle": "2022-02-09T23:11:43.406625Z",
     "shell.execute_reply": "2022-02-09T23:11:43.406242Z",
     "shell.execute_reply.started": "2022-02-09T23:08:06.931028Z"
    },
    "papermill": {
     "duration": 0.03378,
     "end_time": "2022-02-09T23:11:43.406735",
     "exception": false,
     "start_time": "2022-02-09T23:11:43.372955",
     "status": "completed"
    },
    "tags": []
   },
   "outputs": [],
   "source": [
    "##To read it again from file\n",
    "with open('../input/random-images-dataset/size_set.txt','rb') as f:\n",
    "    my_set = pickle.load(f)\n",
    "    \n",
    "# print(my_set)"
   ]
  },
  {
   "cell_type": "code",
   "execution_count": 16,
   "id": "e1d58703",
   "metadata": {
    "execution": {
     "iopub.execute_input": "2022-02-09T23:11:43.457102Z",
     "iopub.status.busy": "2022-02-09T23:11:43.456405Z",
     "iopub.status.idle": "2022-02-09T23:11:43.459250Z",
     "shell.execute_reply": "2022-02-09T23:11:43.458788Z",
     "shell.execute_reply.started": "2022-02-09T23:08:06.943151Z"
    },
    "papermill": {
     "duration": 0.03178,
     "end_time": "2022-02-09T23:11:43.459350",
     "exception": false,
     "start_time": "2022-02-09T23:11:43.427570",
     "status": "completed"
    },
    "tags": []
   },
   "outputs": [],
   "source": [
    "# Simple CNN\n",
    "class CNN(nn.Module):\n",
    "    def __init__(self, in_channels=3, num_classes=num_classes):\n",
    "        super(CNN, self).__init__()\n",
    "        self.conv1 = nn.Conv2d(\n",
    "            in_channels=in_channels,\n",
    "            out_channels=8,\n",
    "            kernel_size=(3, 3),\n",
    "            stride=(1, 1),\n",
    "            padding=(1, 1),\n",
    "        )\n",
    "        self.pool = nn.MaxPool2d(kernel_size=(2, 2), stride=(2, 2))\n",
    "        self.conv2 = nn.Conv2d(\n",
    "            in_channels=8,\n",
    "            out_channels=16,\n",
    "            kernel_size=(3, 3),\n",
    "            stride=(1, 1),\n",
    "            padding=(1, 1),\n",
    "        )\n",
    "        self.fc1 = nn.Linear(2304, num_classes)\n",
    "\n",
    "    def forward(self, x):\n",
    "        x = F.relu(self.conv1(x))\n",
    "        x = self.pool(x)\n",
    "        x = F.relu(self.conv2(x))\n",
    "        x = self.pool(x)\n",
    "        x = x.reshape(x.shape[0], -1)\n",
    "        x = self.fc1(x)\n",
    "        return x"
   ]
  },
  {
   "cell_type": "code",
   "execution_count": 17,
   "id": "e8da2467",
   "metadata": {
    "execution": {
     "iopub.execute_input": "2022-02-09T23:11:43.504529Z",
     "iopub.status.busy": "2022-02-09T23:11:43.503740Z",
     "iopub.status.idle": "2022-02-09T23:11:43.505624Z",
     "shell.execute_reply": "2022-02-09T23:11:43.506043Z",
     "shell.execute_reply.started": "2022-02-09T23:08:06.954242Z"
    },
    "papermill": {
     "duration": 0.026224,
     "end_time": "2022-02-09T23:11:43.506174",
     "exception": false,
     "start_time": "2022-02-09T23:11:43.479950",
     "status": "completed"
    },
    "tags": []
   },
   "outputs": [],
   "source": [
    "# import torchvision.models as models\n",
    "# import torch.nn as nn\n",
    "# def build_model(pretrained=True, fine_tune=True, num_classes=10):\n",
    "#     if pretrained:\n",
    "#         print('[INFO]: Loading pre-trained weights')\n",
    "#     else:\n",
    "#         print('[INFO]: Not loading pre-trained weights')\n",
    "#     model = models.efficientnet_b0(pretrained=pretrained)\n",
    "#     if fine_tune:\n",
    "#         print('[INFO]: Fine-tuning all layers...')\n",
    "#         for params in model.parameters():\n",
    "#             params.requires_grad = True\n",
    "#     elif not fine_tune:\n",
    "#         print('[INFO]: Freezing hidden layers...')\n",
    "#         for params in model.parameters():\n",
    "#             params.requires_grad = False\n",
    "#     # Change the final classification head.\n",
    "#     model.classifier[1] = nn.Linear(in_features=1280, out_features=num_classes)\n",
    "#     return model"
   ]
  },
  {
   "cell_type": "code",
   "execution_count": 18,
   "id": "83223a6b",
   "metadata": {
    "execution": {
     "iopub.execute_input": "2022-02-09T23:11:43.552823Z",
     "iopub.status.busy": "2022-02-09T23:11:43.552316Z",
     "iopub.status.idle": "2022-02-09T23:11:46.466386Z",
     "shell.execute_reply": "2022-02-09T23:11:46.465432Z",
     "shell.execute_reply.started": "2022-02-09T23:08:06.964521Z"
    },
    "papermill": {
     "duration": 2.939797,
     "end_time": "2022-02-09T23:11:46.466534",
     "exception": false,
     "start_time": "2022-02-09T23:11:43.526737",
     "status": "completed"
    },
    "tags": []
   },
   "outputs": [],
   "source": [
    "# Initialize network\n",
    "model = CNN(in_channels=in_channels, num_classes=num_classes).to(device)\n",
    "\n",
    "# Loss and optimizer\n",
    "criterion = nn.CrossEntropyLoss()\n",
    "optimizer = optim.Adam(model.parameters(), lr=learning_rate)"
   ]
  },
  {
   "cell_type": "code",
   "execution_count": 19,
   "id": "707a8e5e",
   "metadata": {
    "execution": {
     "iopub.execute_input": "2022-02-09T23:11:46.515547Z",
     "iopub.status.busy": "2022-02-09T23:11:46.514689Z",
     "iopub.status.idle": "2022-02-09T23:11:46.517347Z",
     "shell.execute_reply": "2022-02-09T23:11:46.516907Z",
     "shell.execute_reply.started": "2022-02-09T23:08:09.775770Z"
    },
    "papermill": {
     "duration": 0.029245,
     "end_time": "2022-02-09T23:11:46.517463",
     "exception": false,
     "start_time": "2022-02-09T23:11:46.488218",
     "status": "completed"
    },
    "tags": []
   },
   "outputs": [],
   "source": [
    "# model = build_model(\n",
    "#         pretrained=True,\n",
    "#         fine_tune=True, \n",
    "#         num_classes=len(dataset_classes)\n",
    "#     ).to(device)\n",
    "    \n",
    "# # Total parameters and trainable parameters.\n",
    "# total_params = sum(p.numel() for p in model.parameters())\n",
    "# print(f\"{total_params:,} total parameters.\")\n",
    "# total_trainable_params = sum(\n",
    "#     p.numel() for p in model.parameters() if p.requires_grad)\n",
    "# print(f\"{total_trainable_params:,} training parameters.\")\n",
    "# # Optimizer.\n",
    "# optimizer = optim.Adam(model.parameters(), lr=lr)\n",
    "# # Loss function.\n",
    "# criterion = nn.CrossEntropyLoss()"
   ]
  },
  {
   "cell_type": "code",
   "execution_count": 20,
   "id": "056b436a",
   "metadata": {
    "execution": {
     "iopub.execute_input": "2022-02-09T23:11:46.566873Z",
     "iopub.status.busy": "2022-02-09T23:11:46.566291Z",
     "iopub.status.idle": "2022-02-09T23:11:46.570150Z",
     "shell.execute_reply": "2022-02-09T23:11:46.569714Z",
     "shell.execute_reply.started": "2022-02-09T23:08:09.782882Z"
    },
    "papermill": {
     "duration": 0.030516,
     "end_time": "2022-02-09T23:11:46.570269",
     "exception": false,
     "start_time": "2022-02-09T23:11:46.539753",
     "status": "completed"
    },
    "tags": []
   },
   "outputs": [],
   "source": [
    "def calc_accuracy(true,pred):\n",
    "    pred = F.softmax(pred, dim = 1)\n",
    "    true = torch.zeros(pred.shape[0], pred.shape[1]).scatter_(1, true.unsqueeze(1), 1.)\n",
    "    acc = (true.argmax(-1) == pred.argmax(-1)).float().detach().numpy()\n",
    "    acc = float((100 * acc.sum()) / len(acc))\n",
    "    return round(acc, 4)"
   ]
  },
  {
   "cell_type": "code",
   "execution_count": 21,
   "id": "8ed82ad2",
   "metadata": {
    "execution": {
     "iopub.execute_input": "2022-02-09T23:11:46.617842Z",
     "iopub.status.busy": "2022-02-09T23:11:46.617187Z",
     "iopub.status.idle": "2022-02-09T23:11:46.619800Z",
     "shell.execute_reply": "2022-02-09T23:11:46.619405Z",
     "shell.execute_reply.started": "2022-02-09T23:08:09.795410Z"
    },
    "papermill": {
     "duration": 0.028172,
     "end_time": "2022-02-09T23:11:46.619933",
     "exception": false,
     "start_time": "2022-02-09T23:11:46.591761",
     "status": "completed"
    },
    "tags": []
   },
   "outputs": [],
   "source": [
    "def save_model(epoch, model, optimizer, path):\n",
    "    \"\"\"\n",
    "    Function to save the trained model till current epoch, or whenver called\n",
    "    \"\"\"\n",
    "    torch.save({\n",
    "                'epoch': epoch+1,\n",
    "                'model_state_dict': model.state_dict(),\n",
    "                'optimizer_state_dict': optimizer.state_dict(),\n",
    "                }, path)"
   ]
  },
  {
   "cell_type": "code",
   "execution_count": 22,
   "id": "9b38c7c3",
   "metadata": {
    "execution": {
     "iopub.execute_input": "2022-02-09T23:11:46.673648Z",
     "iopub.status.busy": "2022-02-09T23:11:46.673097Z",
     "iopub.status.idle": "2022-02-09T23:17:32.051327Z",
     "shell.execute_reply": "2022-02-09T23:17:32.052027Z",
     "shell.execute_reply.started": "2022-02-09T23:08:55.559562Z"
    },
    "papermill": {
     "duration": 345.411421,
     "end_time": "2022-02-09T23:17:32.052234",
     "exception": false,
     "start_time": "2022-02-09T23:11:46.640813",
     "status": "completed"
    },
    "tags": []
   },
   "outputs": [
    {
     "name": "stdout",
     "output_type": "stream",
     "text": [
      "####################  [1/20]  ####################\n",
      "** Epoch 1/20 ** - Epoch Time 0.7256 min  | Train Loss = 0.466  Train Accuracy = 77.88970801603206 %  |  Val Loss = 0.3842  |  Val Accuracy = 82.29264390243904 % \n",
      "\n",
      "####################  [2/20]  ####################\n",
      "** Epoch 2/20 ** - Epoch Time 0.2688 min  | Train Loss = 0.3123  Train Accuracy = 86.50425851703407 %  |  Val Loss = 0.2988  |  Val Accuracy = 87.18925894308943 % \n",
      "\n",
      "####################  [3/20]  ####################\n",
      "** Epoch 3/20 ** - Epoch Time 0.2589 min  | Train Loss = 0.2392  Train Accuracy = 90.11415691382766 %  |  Val Loss = 0.2329  |  Val Accuracy = 90.51164796747969 % \n",
      "\n",
      "####################  [4/20]  ####################\n",
      "** Epoch 4/20 ** - Epoch Time 0.2629 min  | Train Loss = 0.222  Train Accuracy = 91.01953907815631 %  |  Val Loss = 0.2115  |  Val Accuracy = 91.42041910569105 % \n",
      "\n",
      "####################  [5/20]  ####################\n",
      "** Epoch 5/20 ** - Epoch Time 0.2642 min  | Train Loss = 0.2072  Train Accuracy = 91.58942885771543 %  |  Val Loss = 0.191  |  Val Accuracy = 92.30964674796748 % \n",
      "\n",
      "####################  [6/20]  ####################\n",
      "** Epoch 6/20 ** - Epoch Time 0.2655 min  | Train Loss = 0.1924  Train Accuracy = 92.21568136272545 %  |  Val Loss = 0.2099  |  Val Accuracy = 91.74972642276421 % \n",
      "\n",
      "####################  [7/20]  ####################\n",
      "** Epoch 7/20 ** - Epoch Time 0.2638 min  | Train Loss = 0.1837  Train Accuracy = 92.56012024048096 %  |  Val Loss = 0.1966  |  Val Accuracy = 92.30182926829268 % \n",
      "\n",
      "####################  [8/20]  ####################\n",
      "** Epoch 8/20 ** - Epoch Time 0.2626 min  | Train Loss = 0.1785  Train Accuracy = 92.76320501002004 %  |  Val Loss = 0.1844  |  Val Accuracy = 92.49335528455286 % \n",
      "\n",
      "####################  [9/20]  ####################\n",
      "** Epoch 9/20 ** - Epoch Time 0.2623 min  | Train Loss = 0.1705  Train Accuracy = 93.01996853707415 %  |  Val Loss = 0.1825  |  Val Accuracy = 92.75328333333333 % \n",
      "\n",
      "####################  [10/20]  ####################\n",
      "** Epoch 10/20 ** - Epoch Time 0.2666 min  | Train Loss = 0.1667  Train Accuracy = 93.46192384769539 %  |  Val Loss = 0.1727  |  Val Accuracy = 93.07086463414633 % \n",
      "\n",
      "####################  [11/20]  ####################\n",
      "** Epoch 11/20 ** - Epoch Time 0.2646 min  | Train Loss = 0.1568  Train Accuracy = 93.8940380761523 %  |  Val Loss = 0.1665  |  Val Accuracy = 93.49691219512196 % \n",
      "\n",
      "####################  [12/20]  ####################\n",
      "** Epoch 12/20 ** - Epoch Time 0.2676 min  | Train Loss = 0.1497  Train Accuracy = 94.16332665330661 %  |  Val Loss = 0.1609  |  Val Accuracy = 93.8135162601626 % \n",
      "\n",
      "####################  [13/20]  ####################\n",
      "** Epoch 13/20 ** - Epoch Time 0.2626 min  | Train Loss = 0.1474  Train Accuracy = 94.30736472945891 %  |  Val Loss = 0.1597  |  Val Accuracy = 94.31578333333333 % \n",
      "\n",
      "####################  [14/20]  ####################\n",
      "** Epoch 14/20 ** - Epoch Time 0.2682 min  | Train Loss = 0.1396  Train Accuracy = 94.81731322645291 %  |  Val Loss = 0.1511  |  Val Accuracy = 94.02947154471545 % \n",
      "\n",
      "####################  [15/20]  ####################\n",
      "** Epoch 15/20 ** - Epoch Time 0.2594 min  | Train Loss = 0.1402  Train Accuracy = 94.38251503006012 %  |  Val Loss = 0.1392  |  Val Accuracy = 94.44867886178862 % \n",
      "\n",
      "####################  [16/20]  ####################\n",
      "** Epoch 16/20 ** - Epoch Time 0.278 min  | Train Loss = 0.1291  Train Accuracy = 95.20290581162325 %  |  Val Loss = 0.1433  |  Val Accuracy = 94.56984837398373 % \n",
      "\n",
      "####################  [17/20]  ####################\n",
      "** Epoch 17/20 ** - Epoch Time 0.263 min  | Train Loss = 0.1281  Train Accuracy = 94.87099198396794 %  |  Val Loss = 0.1433  |  Val Accuracy = 94.51317235772359 % \n",
      "\n",
      "####################  [18/20]  ####################\n",
      "** Epoch 18/20 ** - Epoch Time 0.2655 min  | Train Loss = 0.1233  Train Accuracy = 95.27179358717434 %  |  Val Loss = 0.1701  |  Val Accuracy = 93.29268292682927 % \n",
      "\n",
      "####################  [19/20]  ####################\n",
      "** Epoch 19/20 ** - Epoch Time 0.256 min  | Train Loss = 0.1258  Train Accuracy = 95.17785571142285 %  |  Val Loss = 0.1494  |  Val Accuracy = 94.20145406504064 % \n",
      "\n",
      "####################  [20/20]  ####################\n",
      "** Epoch 20/20 ** - Epoch Time 0.2692 min  | Train Loss = 0.1188  Train Accuracy = 95.54108216432866 %  |  Val Loss = 0.1487  |  Val Accuracy = 94.14380081300813 % \n",
      "\n"
     ]
    }
   ],
   "source": [
    "### Training Code\n",
    "\n",
    "for epoch in range(num_epochs):\n",
    "    print(\"#\"*20 + f\"  [{epoch+1}/{num_epochs}]  \" + \"#\"*20)\n",
    "    start = time.time()\n",
    "    \n",
    "    #Epoch Loss & Accuracy\n",
    "    train_epoch_loss = []\n",
    "    train_epoch_accuracy = []\n",
    "    _iter = 1\n",
    "    \n",
    "    #Val Loss & Accuracy\n",
    "    val_epoch_loss = []\n",
    "    val_epoch_accuracy = []\n",
    "    \n",
    "    # Training\n",
    "    for images, labels in train_dl:\n",
    "        \n",
    "        images = images.to(device)\n",
    "        labels = labels.to(device)\n",
    "        \n",
    "        #Reset Grads\n",
    "        optimizer.zero_grad()\n",
    "        \n",
    "        #Forward ->\n",
    "        preds = model(images)\n",
    "        \n",
    "        #Calculate Accuracy\n",
    "        acc = calc_accuracy(labels.cpu(), preds.cpu())\n",
    "#         acc = check_accuracy(zip(images,labels.cpu()), model)\n",
    "        \n",
    "        #Calculate Loss & Backward, Update Weights (Step)\n",
    "        loss = criterion(preds, labels)\n",
    "        loss.backward()\n",
    "        optimizer.step()\n",
    "        \n",
    "        #Append loss & acc\n",
    "        loss_value = loss.item()\n",
    "        train_epoch_loss.append(loss_value)\n",
    "        train_epoch_accuracy.append(acc)\n",
    "        \n",
    "        if _iter % 500 == 0:\n",
    "            print(f\"> Iteration {_iter} <  | Iter Loss = {round(loss_value, 4)}  | Iter Accuracy = {acc} % \\n\")\n",
    "            \n",
    "#             print(\"> Iteration {} < \".format(_iter))\n",
    "#             print(\"Iter Loss = {}\".format(round(loss_value, 4)))\n",
    "#             print(\"Iter Accuracy = {} % \\n\".format(acc))\n",
    "        \n",
    "        _iter += 1\n",
    "    \n",
    "    #Validation\n",
    "    for images, labels in val_dl:\n",
    "        \n",
    "        images = images.to(device)\n",
    "        labels = labels.to(device)\n",
    "        \n",
    "        #Forward ->\n",
    "        preds = model(images)\n",
    "        \n",
    "        #Calculate Accuracy\n",
    "        acc = calc_accuracy(labels.cpu(), preds.cpu())\n",
    "        \n",
    "        #Calculate Loss\n",
    "        loss = criterion(preds, labels)\n",
    "        \n",
    "        #Append loss & acc\n",
    "        loss_value = loss.item()\n",
    "        val_epoch_loss.append(loss_value)\n",
    "        val_epoch_accuracy.append(acc)\n",
    "    \n",
    "    \n",
    "    train_epoch_loss = np.mean(train_epoch_loss)\n",
    "    train_epoch_accuracy = np.mean(train_epoch_accuracy)\n",
    "    \n",
    "    val_epoch_loss = np.mean(val_epoch_loss)\n",
    "    val_epoch_accuracy = np.mean(val_epoch_accuracy)\n",
    "    \n",
    "    end = time.time()\n",
    "    \n",
    "#     train_loss.append(train_epoch_loss)\n",
    "#     train_accuracy.append(train_epoch_accuracy)\n",
    "    \n",
    "#     val_loss.append(val_epoch_loss)\n",
    "#     val_accuracy.append(val_epoch_accuracy)\n",
    "    \n",
    "    save_model(epoch, model, optimizer, f'cots_cnn_e{epoch}bs8.pt')\n",
    "    \n",
    "    #Print Epoch Statistics\n",
    "    print(f\"** Epoch {epoch+1}/{num_epochs} ** - Epoch Time {round((end-start)/60,4)} min  | Train Loss = {round(train_epoch_loss, 4)}  Train Accuracy = {train_epoch_accuracy} %  |  Val Loss = {round(val_epoch_loss, 4)}  |  Val Accuracy = {val_epoch_accuracy} % \\n\")\n",
    "#     print(\"** Epoch {} ** - Epoch Time {}\".format(epoch, int(end-start)))\n",
    "#     print(\"Train Loss = {}\".format(round(train_epoch_loss, 4)))\n",
    "#     print(\"Train Accuracy = {} % \\n\".format(train_epoch_accuracy))\n",
    "#     print(\"Val Loss = {}\".format(round(val_epoch_loss, 4)))\n",
    "#     print(\"Val Accuracy = {} % \\n\".format(val_epoch_accuracy))"
   ]
  },
  {
   "cell_type": "code",
   "execution_count": 23,
   "id": "ce0c9981",
   "metadata": {
    "execution": {
     "iopub.execute_input": "2022-02-09T23:17:32.111383Z",
     "iopub.status.busy": "2022-02-09T23:17:32.110382Z",
     "iopub.status.idle": "2022-02-09T23:17:32.114116Z",
     "shell.execute_reply": "2022-02-09T23:17:32.113666Z",
     "shell.execute_reply.started": "2022-02-09T23:08:15.900896Z"
    },
    "papermill": {
     "duration": 0.034787,
     "end_time": "2022-02-09T23:17:32.114240",
     "exception": false,
     "start_time": "2022-02-09T23:17:32.079453",
     "status": "completed"
    },
    "tags": []
   },
   "outputs": [],
   "source": [
    "# # Train Network\n",
    "# model.train()\n",
    "# train_loss = 0\n",
    "\n",
    "# for epoch in range(num_epochs):\n",
    "#     time_start = time.time()\n",
    "#     loss_accum = 0\n",
    "#     for batch_idx, (data, targets) in enumerate(tqdm(train_dl)):\n",
    "#         # Get data to cuda if possible\n",
    "#         data = data.to(device=device)\n",
    "#         targets = targets.to(device=device)\n",
    "# #         print(data.shape)\n",
    "#         # forward\n",
    "#         scores = model(data)\n",
    "#         loss = criterion(scores, targets)\n",
    "        \n",
    "#         loss_value = loss.item()\n",
    "\n",
    "#         loss_accum += loss_value\n",
    "# #         train_loss += loss.item()\n",
    "        \n",
    "#         # backward\n",
    "#         optimizer.zero_grad()\n",
    "#         loss.backward()\n",
    "\n",
    "#         # gradient descent or adam step\n",
    "#         optimizer.step()\n",
    "        \n",
    "#         # Print metrics so we see some progress\n",
    "# #         print('\\tTraining batch {} Loss: {:.6f}'.format(batch_idx + 1, loss.item()))\n",
    "            \n",
    "# #         # return average loss for the epoch\n",
    "# #         avg_loss = train_loss / (batch_idx+1)\n",
    "# #         print('Training set: Average loss: {:.6f}'.format(avg_loss))"
   ]
  },
  {
   "cell_type": "code",
   "execution_count": 24,
   "id": "1b22a539",
   "metadata": {
    "execution": {
     "iopub.execute_input": "2022-02-09T23:17:32.174042Z",
     "iopub.status.busy": "2022-02-09T23:17:32.172733Z",
     "iopub.status.idle": "2022-02-09T23:17:47.252678Z",
     "shell.execute_reply": "2022-02-09T23:17:47.251948Z",
     "shell.execute_reply.started": "2022-02-09T23:08:15.902716Z"
    },
    "papermill": {
     "duration": 15.112585,
     "end_time": "2022-02-09T23:17:47.252877",
     "exception": false,
     "start_time": "2022-02-09T23:17:32.140292",
     "status": "completed"
    },
    "tags": []
   },
   "outputs": [
    {
     "name": "stdout",
     "output_type": "stream",
     "text": [
      "Accuracy on training set: 95.40\n",
      "Accuracy on test set: 94.13\n"
     ]
    }
   ],
   "source": [
    "# Check accuracy on training & test to see how good our model\n",
    "def check_accuracy(loader, model):\n",
    "    num_correct = 0\n",
    "    num_samples = 0\n",
    "    model.eval()\n",
    "\n",
    "    with torch.no_grad():\n",
    "        for x, y in loader:\n",
    "            x = x.to(device=device)\n",
    "            y = y.to(device=device)\n",
    "\n",
    "            scores = model(x)\n",
    "            _, predictions = scores.max(1)\n",
    "            num_correct += (predictions == y).sum()\n",
    "            num_samples += predictions.size(0)\n",
    "\n",
    "\n",
    "    model.train()\n",
    "    return num_correct/num_samples\n",
    "\n",
    "\n",
    "print(f\"Accuracy on training set: {check_accuracy(train_dl, model)*100:.2f}\")\n",
    "print(f\"Accuracy on test set: {check_accuracy(val_dl, model)*100:.2f}\")"
   ]
  },
  {
   "cell_type": "code",
   "execution_count": null,
   "id": "22ea5656",
   "metadata": {
    "papermill": {
     "duration": 0.026588,
     "end_time": "2022-02-09T23:17:47.307391",
     "exception": false,
     "start_time": "2022-02-09T23:17:47.280803",
     "status": "completed"
    },
    "tags": []
   },
   "outputs": [],
   "source": []
  }
 ],
 "metadata": {
  "kernelspec": {
   "display_name": "Python 3",
   "language": "python",
   "name": "python3"
  },
  "language_info": {
   "codemirror_mode": {
    "name": "ipython",
    "version": 3
   },
   "file_extension": ".py",
   "mimetype": "text/x-python",
   "name": "python",
   "nbconvert_exporter": "python",
   "pygments_lexer": "ipython3",
   "version": "3.7.12"
  },
  "papermill": {
   "default_parameters": {},
   "duration": 380.540742,
   "end_time": "2022-02-09T23:17:49.721473",
   "environment_variables": {},
   "exception": null,
   "input_path": "__notebook__.ipynb",
   "output_path": "__notebook__.ipynb",
   "parameters": {},
   "start_time": "2022-02-09T23:11:29.180731",
   "version": "2.3.3"
  }
 },
 "nbformat": 4,
 "nbformat_minor": 5
}
