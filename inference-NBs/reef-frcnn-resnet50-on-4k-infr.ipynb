{
 "cells": [
  {
   "cell_type": "code",
   "execution_count": 1,
   "id": "d691eb17",
   "metadata": {
    "_cell_guid": "b1076dfc-b9ad-4769-8c92-a6c4dae69d19",
    "_uuid": "8f2839f25d086af736a60e9eeb907d3b93b6e0e5",
    "execution": {
     "iopub.execute_input": "2022-01-18T09:43:49.262052Z",
     "iopub.status.busy": "2022-01-18T09:43:49.261301Z",
     "iopub.status.idle": "2022-01-18T09:43:53.284416Z",
     "shell.execute_reply": "2022-01-18T09:43:53.283838Z",
     "shell.execute_reply.started": "2022-01-17T18:54:53.973594Z"
    },
    "papermill": {
     "duration": 4.041424,
     "end_time": "2022-01-18T09:43:53.284588",
     "exception": false,
     "start_time": "2022-01-18T09:43:49.243164",
     "status": "completed"
    },
    "tags": []
   },
   "outputs": [],
   "source": [
    "import numpy as np\n",
    "import pandas as pd # data processing, CSV file I/O (e.g. pd.read_csv)\n",
    "import os\n",
    "from albumentations.pytorch.transforms import ToTensorV2\n",
    "\n",
    "import torch\n",
    "import torchvision\n",
    "from torchvision.models.detection.faster_rcnn import FastRCNNPredictor\n",
    "from torchvision.models.detection import FasterRCNN\n",
    "\n",
    "device = torch.device('cuda') if torch.cuda.is_available() else torch.device('cpu')\n",
    "\n",
    "WEIGHTS_FILE = \"../input/reef-frcnn-resnet50-on-4k/fasterrcnn_resnet50_fpn-e4.bin\"\n",
    "detection_threshold = 0.13"
   ]
  },
  {
   "cell_type": "code",
   "execution_count": 2,
   "id": "26ffa908",
   "metadata": {
    "execution": {
     "iopub.execute_input": "2022-01-18T09:43:53.300783Z",
     "iopub.status.busy": "2022-01-18T09:43:53.300239Z",
     "iopub.status.idle": "2022-01-18T09:44:00.126179Z",
     "shell.execute_reply": "2022-01-18T09:44:00.125665Z",
     "shell.execute_reply.started": "2022-01-17T18:54:58.27011Z"
    },
    "papermill": {
     "duration": 6.836765,
     "end_time": "2022-01-18T09:44:00.126313",
     "exception": false,
     "start_time": "2022-01-18T09:43:53.289548",
     "status": "completed"
    },
    "tags": []
   },
   "outputs": [],
   "source": [
    "def get_model():\n",
    "    model = torchvision.models.detection.fasterrcnn_resnet50_fpn(pretrained=False, pretrained_backbone=False)\n",
    "    num_classes = 2  # 1 class (starfish) + background\n",
    "\n",
    "    # get number of input features for the classifier\n",
    "    in_features = model.roi_heads.box_predictor.cls_score.in_features\n",
    "\n",
    "    # replace the pre-trained head with a new one\n",
    "    model.roi_heads.box_predictor = FastRCNNPredictor(in_features, num_classes)\n",
    "\n",
    "    # Load the trained weights\n",
    "    model.load_state_dict(torch.load(WEIGHTS_FILE,map_location=torch.device('cpu')))\n",
    "    model.eval()\n",
    "\n",
    "    model = model.to(device)\n",
    "    return model\n",
    "\n",
    "model = get_model()"
   ]
  },
  {
   "cell_type": "code",
   "execution_count": 3,
   "id": "fe7b5593",
   "metadata": {
    "execution": {
     "iopub.execute_input": "2022-01-18T09:44:00.145546Z",
     "iopub.status.busy": "2022-01-18T09:44:00.144004Z",
     "iopub.status.idle": "2022-01-18T09:44:00.146153Z",
     "shell.execute_reply": "2022-01-18T09:44:00.146549Z",
     "shell.execute_reply.started": "2022-01-17T18:55:02.219621Z"
    },
    "papermill": {
     "duration": 0.015685,
     "end_time": "2022-01-18T09:44:00.146668",
     "exception": false,
     "start_time": "2022-01-18T09:44:00.130983",
     "status": "completed"
    },
    "tags": []
   },
   "outputs": [],
   "source": [
    "def format_prediction_string(boxes, scores):\n",
    "    # Format as specified in the evaluation page\n",
    "    pred_strings = []\n",
    "    for j in zip(scores, boxes):\n",
    "        pred_strings.append(\"{0:.2f} {1} {2} {3} {4}\".format(j[0], j[1][0], j[1][1], j[1][2], j[1][3]))\n",
    "\n",
    "    return \" \".join(pred_strings)\n",
    "\n",
    "\n",
    "def predict(model, pixel_array):\n",
    "    # Predictions for a single image\n",
    "    \n",
    "    # Apply all the transformations that are required\n",
    "    pixel_array = pixel_array.astype(np.float32) / 255.\n",
    "    tensor_img = ToTensorV2(p=1.0)(image=pixel_array)['image'].unsqueeze(0)\n",
    "    \n",
    "    # Get predictions\n",
    "    with torch.no_grad():\n",
    "        outputs = model(tensor_img.to(device))[0]\n",
    "    \n",
    "    # Move predictions to cpu and numpy\n",
    "    boxes = outputs['boxes'].data.cpu().numpy()\n",
    "    scores = outputs['scores'].data.cpu().numpy()\n",
    "    \n",
    "    # Filter predictions with low score\n",
    "    boxes = boxes[scores >= detection_threshold].astype(np.int32)\n",
    "    scores = scores[scores >= detection_threshold]\n",
    "    \n",
    "    # Go back from x_min, y_min, x_max, y_max to x_min, y_min, w, h\n",
    "    boxes[:, 2] = boxes[:, 2] - boxes[:, 0]\n",
    "    boxes[:, 3] = boxes[:, 3] - boxes[:, 1]\n",
    "  \n",
    "    # Format results as requested in the Evaluation tab\n",
    "    return format_prediction_string(boxes, scores)"
   ]
  },
  {
   "cell_type": "code",
   "execution_count": 4,
   "id": "cbd9ec83",
   "metadata": {
    "execution": {
     "iopub.execute_input": "2022-01-18T09:44:00.159140Z",
     "iopub.status.busy": "2022-01-18T09:44:00.158635Z",
     "iopub.status.idle": "2022-01-18T09:44:06.078724Z",
     "shell.execute_reply": "2022-01-18T09:44:06.079299Z",
     "shell.execute_reply.started": "2022-01-17T18:55:02.233088Z"
    },
    "papermill": {
     "duration": 5.928543,
     "end_time": "2022-01-18T09:44:06.079498",
     "exception": false,
     "start_time": "2022-01-18T09:44:00.150955",
     "status": "completed"
    },
    "tags": []
   },
   "outputs": [
    {
     "name": "stdout",
     "output_type": "stream",
     "text": [
      "This version of the API is not optimized and should not be used to estimate the runtime of your code on the hidden test set.\n"
     ]
    }
   ],
   "source": [
    "import greatbarrierreef\n",
    "env = greatbarrierreef.make_env()\n",
    "iter_test = env.iter_test() \n",
    "\n",
    "for (pixel_array, df_pred) in iter_test:  # iterate through all test set images\n",
    "    df_pred['annotations'] = predict(model, pixel_array)\n",
    "    env.predict(df_pred)"
   ]
  },
  {
   "cell_type": "code",
   "execution_count": null,
   "id": "f3a291ab",
   "metadata": {
    "papermill": {
     "duration": 0.005315,
     "end_time": "2022-01-18T09:44:06.090994",
     "exception": false,
     "start_time": "2022-01-18T09:44:06.085679",
     "status": "completed"
    },
    "tags": []
   },
   "outputs": [],
   "source": []
  }
 ],
 "metadata": {
  "kernelspec": {
   "display_name": "Python 3",
   "language": "python",
   "name": "python3"
  },
  "language_info": {
   "codemirror_mode": {
    "name": "ipython",
    "version": 3
   },
   "file_extension": ".py",
   "mimetype": "text/x-python",
   "name": "python",
   "nbconvert_exporter": "python",
   "pygments_lexer": "ipython3",
   "version": "3.7.12"
  },
  "papermill": {
   "default_parameters": {},
   "duration": 26.007514,
   "end_time": "2022-01-18T09:44:07.406409",
   "environment_variables": {},
   "exception": null,
   "input_path": "__notebook__.ipynb",
   "output_path": "__notebook__.ipynb",
   "parameters": {},
   "start_time": "2022-01-18T09:43:41.398895",
   "version": "2.3.3"
  }
 },
 "nbformat": 4,
 "nbformat_minor": 5
}
