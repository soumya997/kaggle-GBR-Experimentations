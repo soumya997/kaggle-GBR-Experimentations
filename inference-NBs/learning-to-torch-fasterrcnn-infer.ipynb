{
 "cells": [
  {
   "cell_type": "markdown",
   "id": "7573589a",
   "metadata": {
    "papermill": {
     "duration": 0.010355,
     "end_time": "2022-02-02T06:22:05.458802",
     "exception": false,
     "start_time": "2022-02-02T06:22:05.448447",
     "status": "completed"
    },
    "tags": []
   },
   "source": [
    "# model file inference tracker:\n",
    "**Params:**\n",
    "resnet50,90/10,e12,bs8,SGD,conf:0.15,480p,labeled data,lr_sch\n",
    "\n",
    "<!-- **Inference NB:** https://www.kaggle.com/soumya9977/learning-to-torch-fasterrcnn-infer -->\n",
    "\n",
    "| Version | model      |  file used                      | link  | CV/LB        |\n",
    "| ------- | ---------- |  ------------------------------ | ----- | ------------ |\n",
    "| v9      | fasterRCNN resnet50,90/10,e12,bs8,SGD,cnf0.15,i480| fasterrcnn_resnet50_fpn-e10.pt | [NB](https://www.kaggle.com/shivamaranya/fasterrcnn-resnet50-90-10-e12-bs8-sgd-cnf0-25-i480) | 0.461/0.285  |\n",
    "| v12     | fasterRCNN ................... same as above | fasterrcnn_resnet50_fpn-e9.pt  | [NB](https://www.kaggle.com/shivamaranya/fasterrcnn-resnet50-90-10-e12-bs8-sgd-cnf0-25-i480) | 0.461/~0.285 |\n",
    "| v10     | fasterRCNN ................... same as above | fasterrcnn_resnet50_fpn-e11.pt | [NB](https://www.kaggle.com/shivamaranya/fasterrcnn-resnet50-90-10-e12-bs8-sgd-cnf0-25-i480) | 0.459/0.285  |\n",
    "| v13     | fasterRCNN ................... same as above | fasterrcnn_resnet50_fpn-e8.pt  | [NB](https://www.kaggle.com/shivamaranya/fasterrcnn-resnet50-90-10-e12-bs8-sgd-cnf0-25-i480) | 0.460/0.288  |\n",
    "| v11     | fasterRCNN ................... same as above | fasterrcnn_resnet50_fpn-e6.pt  | [NB](https://www.kaggle.com/shivamaranya/fasterrcnn-resnet50-90-10-e12-bs8-sgd-cnf0-25-i480) | 0.457/0.291  |\n",
    "| v16     | fasterRCNN resnet50,90/10,e12,bs8,SGD,cnf0.15,i480,geo aug | fasterrcnn_resnet50_fpn-e6.pt  | [NB](https://www.kaggle.com/shivamaranya/fasterrcnn-train-geoaug-480p-sgd-90-10) | 0.467/0.274  |\n",
    "| v17     | fasterRCNN resnet50,90/10,e20,bs8,SGD,cnf0.15,i480,color aug | fasterrcnn_resnet50_fpn-e6.pt  | [NB](https://www.kaggle.com/shivamaranya/fasterrcnn-train-coloraug-480p-sgd-90-10-e20/) | 0.407/0.382  |\n",
    "| v18     | fasterRCNN resnet50,90/10,e20,bs8,SGD,cnf0.15,i480,color aug | fasterrcnn_resnet50_fpn-e20.pt  | [NB](https://www.kaggle.com/shivamaranya/fasterrcnn-train-coloraug-480p-sgd-90-10-e20/) | 0.407/0.291  |\n",
    "| v20     | FasterRCNN[train]-color+geo aug-480p-SGD-90:10-e20,multi conf,new train loop,bs8 | fasterrcnn_resnet50_fpn-e11.pt  | [NB](https://www.kaggle.com/soumya9977/fasterrcnn-train-color-geo-aug-480p-sgd-90-10-e20) | 0.338/?  |\n",
    "| v21     | FasterRCNN[train]-color+geo aug-480p-SGD-90:10-e20,multi conf,new train loop,bs8 | fasterrcnn_resnet50_fpn-e20.pt  | [NB](https://www.kaggle.com/soumya9977/fasterrcnn-train-color-geo-aug-480p-sgd-90-10-e20) | 0.338/0.184|\n",
    "| v22     | fasterRCNN resnet50,90/10,e20,bs8,SGD,cnf0.15,i480,color aug [inf imgSize2400] | fasterrcnn_resnet50_fpn-e6.pt  | [NB](https://www.kaggle.com/shivamaranya/fasterrcnn-train-coloraug-480p-sgd-90-10-e20/) | 0.407/0.00 [problem in the code] |\n",
    "| v23     | fasterRCNN resnet50,90/10,e16,bs8,AdamW,cnf0.15,i480,color aug [save_multy: future_resume]| fasterrcnn_resnet50_fpn-e7.pt  | [NB](https://www.kaggle.com/shivamaranya/fasterrcnn-train-coloraug-480p-sgd-adamw-90-10-e20) | 0.382/?  |\n",
    "| v24     | fasterRCNN resnet50,90/10,e16,bs8,AdamW,**cnf0.1**,i480,color aug [save_multy: future_resume]| fasterrcnn_resnet50_fpn-e7.pt  | [NB](https://www.kaggle.com/shivamaranya/fasterrcnn-train-coloraug-480p-sgd-adamw-90-10-e20) | 0.382/?  |"
   ]
  },
  {
   "cell_type": "code",
   "execution_count": 1,
   "id": "8eb2bf7f",
   "metadata": {
    "execution": {
     "iopub.execute_input": "2022-02-02T06:22:05.489535Z",
     "iopub.status.busy": "2022-02-02T06:22:05.488764Z",
     "iopub.status.idle": "2022-02-02T06:22:09.044139Z",
     "shell.execute_reply": "2022-02-02T06:22:09.043436Z",
     "shell.execute_reply.started": "2022-02-02T06:17:59.038846Z"
    },
    "papermill": {
     "duration": 3.576072,
     "end_time": "2022-02-02T06:22:09.044315",
     "exception": false,
     "start_time": "2022-02-02T06:22:05.468243",
     "status": "completed"
    },
    "tags": []
   },
   "outputs": [],
   "source": [
    "import numpy as np\n",
    "import pandas as pd # data processing, CSV file I/O (e.g. pd.read_csv)\n",
    "import os\n",
    "from albumentations.pytorch.transforms import ToTensorV2\n",
    "import albumentations as A\n",
    "import torch\n",
    "import torchvision\n",
    "from torchvision.models.detection.faster_rcnn import FastRCNNPredictor\n",
    "from torchvision.models.detection import FasterRCNN\n",
    "from torchvision import transforms\n",
    "device = torch.device('cuda') if torch.cuda.is_available() else torch.device('cpu')\n",
    "\n",
    "WEIGHTS_FILE = \"../input/fasterrcnntrainv1coloraug480padamw9010e20/FasterRCNN_resnet50/fasterrcnn_resnet50_fpn-e7.pt\""
   ]
  },
  {
   "cell_type": "code",
   "execution_count": 2,
   "id": "0633507e",
   "metadata": {
    "execution": {
     "iopub.execute_input": "2022-02-02T06:22:09.065796Z",
     "iopub.status.busy": "2022-02-02T06:22:09.064988Z",
     "iopub.status.idle": "2022-02-02T06:22:17.884367Z",
     "shell.execute_reply": "2022-02-02T06:22:17.883445Z",
     "shell.execute_reply.started": "2022-02-02T06:18:02.943594Z"
    },
    "papermill": {
     "duration": 8.830866,
     "end_time": "2022-02-02T06:22:17.884633",
     "exception": false,
     "start_time": "2022-02-02T06:22:09.053767",
     "status": "completed"
    },
    "tags": []
   },
   "outputs": [],
   "source": [
    "def get_model(mode=\"normal\"):\n",
    "    model = torchvision.models.detection.fasterrcnn_resnet50_fpn(pretrained=False, pretrained_backbone=False)\n",
    "    num_classes = 2  # 1 class (starfish) + background\n",
    "\n",
    "    # get number of input features for the classifier\n",
    "    in_features = model.roi_heads.box_predictor.cls_score.in_features\n",
    "\n",
    "    # replace the pre-trained head with a new one\n",
    "    model.roi_heads.box_predictor = FastRCNNPredictor(in_features, num_classes)\n",
    "\n",
    "    # Load the trained weights\n",
    "    if mode == \"multi\":\n",
    "        checkpoint = torch.load(WEIGHTS_FILE)\n",
    "        # load model weights state_dict\n",
    "        model.load_state_dict(checkpoint['model_state_dict'])\n",
    "    else:\n",
    "        model.load_state_dict(torch.load(WEIGHTS_FILE))\n",
    "    \n",
    "    model.eval()\n",
    "\n",
    "    model = model.to(device)\n",
    "    return model\n",
    "\n",
    "model = get_model(mode=\"multi\")"
   ]
  },
  {
   "cell_type": "code",
   "execution_count": 3,
   "id": "c76c5618",
   "metadata": {
    "execution": {
     "iopub.execute_input": "2022-02-02T06:22:17.906475Z",
     "iopub.status.busy": "2022-02-02T06:22:17.905115Z",
     "iopub.status.idle": "2022-02-02T06:22:17.909498Z",
     "shell.execute_reply": "2022-02-02T06:22:17.909050Z",
     "shell.execute_reply.started": "2022-02-02T06:18:11.945342Z"
    },
    "papermill": {
     "duration": 0.015421,
     "end_time": "2022-02-02T06:22:17.909605",
     "exception": false,
     "start_time": "2022-02-02T06:22:17.894184",
     "status": "completed"
    },
    "tags": []
   },
   "outputs": [],
   "source": [
    "detection_threshold = 0.1\n",
    "\n",
    "# transform = A.Compose([\n",
    "#         A.Resize(2400, 2400, interpolation=1, p=1.0),\n",
    "#         ToTensorV2(p=1.0)\n",
    "#     ])"
   ]
  },
  {
   "cell_type": "code",
   "execution_count": 4,
   "id": "cc841cdf",
   "metadata": {
    "execution": {
     "iopub.execute_input": "2022-02-02T06:22:17.930086Z",
     "iopub.status.busy": "2022-02-02T06:22:17.929276Z",
     "iopub.status.idle": "2022-02-02T06:22:17.938460Z",
     "shell.execute_reply": "2022-02-02T06:22:17.938041Z",
     "shell.execute_reply.started": "2022-02-02T06:18:11.951438Z"
    },
    "papermill": {
     "duration": 0.020239,
     "end_time": "2022-02-02T06:22:17.938569",
     "exception": false,
     "start_time": "2022-02-02T06:22:17.918330",
     "status": "completed"
    },
    "tags": []
   },
   "outputs": [],
   "source": [
    "def format_prediction_string(boxes, scores):\n",
    "    # Format as specified in the evaluation page\n",
    "    pred_strings = []\n",
    "    for j in zip(scores, boxes):\n",
    "        pred_strings.append(\"{0:.2f} {1} {2} {3} {4}\".format(j[0], j[1][0], j[1][1], j[1][2], j[1][3]))\n",
    "\n",
    "    return \" \".join(pred_strings)\n",
    "\n",
    "\n",
    "def predict(model, pixel_array):\n",
    "    # Predictions for a single image\n",
    "    \n",
    "    # Apply all the transformations that are required\n",
    "    pixel_array = pixel_array.astype(np.float32) / 255.\n",
    "#     print()\n",
    "    tensor_img = ToTensorV2(p=1.0)(image=pixel_array)['image'].unsqueeze(0)\n",
    "#     print(ToTensorV2(p=1.0)(image=pixel_array)['image'].shape)\n",
    "    # Get predictions\n",
    "    with torch.no_grad():\n",
    "        outputs = model(tensor_img.to(device))[0]\n",
    "    \n",
    "    # Move predictions to cpu and numpy\n",
    "    boxes = outputs['boxes'].data.cpu().numpy()\n",
    "    scores = outputs['scores'].data.cpu().numpy()\n",
    "    \n",
    "    # Filter predictions with low score\n",
    "    boxes = boxes[scores >= detection_threshold].astype(np.int32)\n",
    "    scores = scores[scores >= detection_threshold]\n",
    "    \n",
    "    # Go back from x_min, y_min, x_max, y_max to x_min, y_min, w, h\n",
    "    boxes[:, 2] = boxes[:, 2] - boxes[:, 0]\n",
    "    boxes[:, 3] = boxes[:, 3] - boxes[:, 1]\n",
    "  \n",
    "    # Format results as requested in the Evaluation tab\n",
    "    return format_prediction_string(boxes, scores)"
   ]
  },
  {
   "cell_type": "code",
   "execution_count": 5,
   "id": "a78ccf7a",
   "metadata": {
    "execution": {
     "iopub.execute_input": "2022-02-02T06:22:17.960750Z",
     "iopub.status.busy": "2022-02-02T06:22:17.960049Z",
     "iopub.status.idle": "2022-02-02T06:22:23.860432Z",
     "shell.execute_reply": "2022-02-02T06:22:23.859523Z",
     "shell.execute_reply.started": "2022-02-02T06:18:11.966966Z"
    },
    "papermill": {
     "duration": 5.912986,
     "end_time": "2022-02-02T06:22:23.860580",
     "exception": false,
     "start_time": "2022-02-02T06:22:17.947594",
     "status": "completed"
    },
    "tags": []
   },
   "outputs": [
    {
     "name": "stdout",
     "output_type": "stream",
     "text": [
      "This version of the API is not optimized and should not be used to estimate the runtime of your code on the hidden test set.\n"
     ]
    }
   ],
   "source": [
    "import greatbarrierreef\n",
    "env = greatbarrierreef.make_env()\n",
    "iter_test = env.iter_test() \n",
    "\n",
    "for (pixel_array, df_pred) in iter_test:  # iterate through all test set images\n",
    "    df_pred['annotations'] = predict(model, pixel_array)\n",
    "    env.predict(df_pred)"
   ]
  },
  {
   "cell_type": "code",
   "execution_count": null,
   "id": "4fe6b0e2",
   "metadata": {
    "papermill": {
     "duration": 0.009179,
     "end_time": "2022-02-02T06:22:23.879410",
     "exception": false,
     "start_time": "2022-02-02T06:22:23.870231",
     "status": "completed"
    },
    "tags": []
   },
   "outputs": [],
   "source": []
  },
  {
   "cell_type": "code",
   "execution_count": 6,
   "id": "800dd46d",
   "metadata": {
    "execution": {
     "iopub.execute_input": "2022-02-02T06:22:23.906813Z",
     "iopub.status.busy": "2022-02-02T06:22:23.906017Z",
     "iopub.status.idle": "2022-02-02T06:22:23.908153Z",
     "shell.execute_reply": "2022-02-02T06:22:23.908560Z",
     "shell.execute_reply.started": "2022-02-02T06:18:18.229480Z"
    },
    "papermill": {
     "duration": 0.020185,
     "end_time": "2022-02-02T06:22:23.908698",
     "exception": false,
     "start_time": "2022-02-02T06:22:23.888513",
     "status": "completed"
    },
    "tags": []
   },
   "outputs": [],
   "source": [
    "# test_img = np.load(\"../input/tensorflow-great-barrier-reef/example_test.npy\")\n",
    "# # test_img = torch.from_numpy(test_img)\n",
    "# # test_img = test_img.permute(0,3,1,2) \n",
    "# # test_img_1 = test_img[0,:,:,:]\n",
    "# test_img.shape"
   ]
  },
  {
   "cell_type": "code",
   "execution_count": 7,
   "id": "32ce9c06",
   "metadata": {
    "execution": {
     "iopub.execute_input": "2022-02-02T06:22:23.933009Z",
     "iopub.status.busy": "2022-02-02T06:22:23.932334Z",
     "iopub.status.idle": "2022-02-02T06:22:23.934792Z",
     "shell.execute_reply": "2022-02-02T06:22:23.934379Z",
     "shell.execute_reply.started": "2022-02-02T06:18:18.235548Z"
    },
    "papermill": {
     "duration": 0.015975,
     "end_time": "2022-02-02T06:22:23.934892",
     "exception": false,
     "start_time": "2022-02-02T06:22:23.918917",
     "status": "completed"
    },
    "tags": []
   },
   "outputs": [],
   "source": [
    "# pixel_array = test_img[0,:,:,:].astype(np.float32)\n",
    "# tensor_img = ToTensorV2(p=1.0)(image=pixel_array)['image'].unsqueeze(0)\n",
    "# # tensor_img.shape\n",
    "# # Get predictions\n",
    "# with torch.no_grad():\n",
    "#     outputs = model(tensor_img.to(device))[0]\n",
    "# print(outputs)"
   ]
  },
  {
   "cell_type": "code",
   "execution_count": null,
   "id": "c5aa1bb5",
   "metadata": {
    "papermill": {
     "duration": 0.009071,
     "end_time": "2022-02-02T06:22:23.952868",
     "exception": false,
     "start_time": "2022-02-02T06:22:23.943797",
     "status": "completed"
    },
    "tags": []
   },
   "outputs": [],
   "source": []
  },
  {
   "cell_type": "code",
   "execution_count": null,
   "id": "b9553ecf",
   "metadata": {
    "papermill": {
     "duration": 0.008749,
     "end_time": "2022-02-02T06:22:23.970592",
     "exception": false,
     "start_time": "2022-02-02T06:22:23.961843",
     "status": "completed"
    },
    "tags": []
   },
   "outputs": [],
   "source": []
  },
  {
   "cell_type": "code",
   "execution_count": null,
   "id": "7ab4b440",
   "metadata": {
    "papermill": {
     "duration": 0.008909,
     "end_time": "2022-02-02T06:22:23.988504",
     "exception": false,
     "start_time": "2022-02-02T06:22:23.979595",
     "status": "completed"
    },
    "tags": []
   },
   "outputs": [],
   "source": []
  },
  {
   "cell_type": "code",
   "execution_count": null,
   "id": "2d487944",
   "metadata": {
    "papermill": {
     "duration": 0.008767,
     "end_time": "2022-02-02T06:22:24.006216",
     "exception": false,
     "start_time": "2022-02-02T06:22:23.997449",
     "status": "completed"
    },
    "tags": []
   },
   "outputs": [],
   "source": []
  }
 ],
 "metadata": {
  "kernelspec": {
   "display_name": "Python 3",
   "language": "python",
   "name": "python3"
  },
  "language_info": {
   "codemirror_mode": {
    "name": "ipython",
    "version": 3
   },
   "file_extension": ".py",
   "mimetype": "text/x-python",
   "name": "python",
   "nbconvert_exporter": "python",
   "pygments_lexer": "ipython3",
   "version": "3.7.12"
  },
  "papermill": {
   "default_parameters": {},
   "duration": 27.824628,
   "end_time": "2022-02-02T06:22:25.325643",
   "environment_variables": {},
   "exception": null,
   "input_path": "__notebook__.ipynb",
   "output_path": "__notebook__.ipynb",
   "parameters": {},
   "start_time": "2022-02-02T06:21:57.501015",
   "version": "2.3.3"
  }
 },
 "nbformat": 4,
 "nbformat_minor": 5
}
